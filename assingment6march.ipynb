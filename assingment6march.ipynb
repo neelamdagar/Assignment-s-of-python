{
 "cells": [
  {
   "cell_type": "code",
   "execution_count": 1,
   "id": "248cd8ef-e818-4755-be9b-aacacf212f18",
   "metadata": {},
   "outputs": [],
   "source": [
    "# Q1. What is Statistics?"
   ]
  },
  {
   "cell_type": "code",
   "execution_count": 3,
   "id": "4e0d92e1-b56f-4e69-b536-5d9b5352cd8b",
   "metadata": {},
   "outputs": [],
   "source": [
    "# Statistics is a science of collecting, orgranizing and analyzing the data."
   ]
  },
  {
   "cell_type": "code",
   "execution_count": 4,
   "id": "d1e154d4-b22e-4327-908b-4f0c28098666",
   "metadata": {},
   "outputs": [],
   "source": [
    "# Q2. Define the different types of statistics and give an example of when each type might be used."
   ]
  },
  {
   "cell_type": "code",
   "execution_count": 6,
   "id": "4504690b-03a4-436d-8676-d9352c025d39",
   "metadata": {},
   "outputs": [],
   "source": [
    "# Discriptive and Inferential statistics\n",
    "# 1) Discriptive : It consits of orgainzing and summerzing data.\n",
    "# For example : Measure of central tendency (i.e mean , median, mode)\n",
    "# Measure of dispersion (i.e Varience, standard)\n",
    "# Different type of distribution of data \n",
    "# 2) Inferentail : It consits of using data you have to measure to form Conclusion.\n",
    "# For example: z - test\n",
    "# t-test\n",
    "# chi squared test etc."
   ]
  },
  {
   "cell_type": "code",
   "execution_count": 7,
   "id": "f865efed-bac7-457f-97ab-8d62a3152d69",
   "metadata": {},
   "outputs": [],
   "source": [
    "# Q3. What are the different types of data and how do they differ from each other? Provide an example of\n",
    "# each type of data."
   ]
  },
  {
   "cell_type": "code",
   "execution_count": 8,
   "id": "74dde4a7-25b3-4325-8eba-ba4b387bb793",
   "metadata": {},
   "outputs": [],
   "source": [
    "#Different types of data:\n",
    "# They are Qualitative and Quantitative data \n",
    "# Qualitative Data:In this data we can see only the quality of on objects here mathematical operations does not follow\n",
    "# they are teo type of data:\n",
    "# 1)Nominal : Associated to labels, name etc. order does not matter.\n",
    "# for example : color of hair.\n",
    "# 2)ordinal : order matter \n",
    "# for example : level of education.\n",
    "# Quantitative : Numerical data are be here and mathematical operstions are also performed here.\n",
    "# they are two types of Quantitative data:\n",
    "# 1) Continues: Any value  in the infinte range given .( grades)\n",
    "# 2) Discrete: Whole number ( for example no of students in your class)"
   ]
  },
  {
   "cell_type": "code",
   "execution_count": 9,
   "id": "3b36552b-a9b3-43f8-8e18-ccf203739ea2",
   "metadata": {},
   "outputs": [],
   "source": [
    "# Q4. Categorise the following datasets with respect to quantitative and qualitative data types:\n",
    "# (i) Grading in exam: A+, A, B+, B, C+, C, D, E\n",
    "# (ii) Colour of mangoes: yellow, green, orange, red\n",
    "# (iii) Height data of a class: [178.9, 179, 179.5, 176, 177.2, 178.3, 175.8,...]\n",
    "# (iv) Number of mangoes exported by a farm: [500, 600, 478, 672, ...]"
   ]
  },
  {
   "cell_type": "code",
   "execution_count": 10,
   "id": "76cb148c-5266-401d-ae56-7f7c1eea586c",
   "metadata": {},
   "outputs": [],
   "source": [
    "# 1) Qualtitative ( ordinal )\n",
    "# 2) Qualtitative (nominal)\n",
    "# 3) Quantitative ( continues)\n",
    "# 4) Quantitative (discrete)"
   ]
  },
  {
   "cell_type": "code",
   "execution_count": 11,
   "id": "bfa629af-d056-4bdb-82e2-1cf903716de5",
   "metadata": {},
   "outputs": [],
   "source": [
    "# Q5. Explain the concept of levels of measurement and give an example of a variable for each level."
   ]
  },
  {
   "cell_type": "code",
   "execution_count": 12,
   "id": "517d5f48-37ce-4ef0-8409-eb8c86373724",
   "metadata": {},
   "outputs": [],
   "source": [
    "# 1) Nominal scale data:\n",
    "# Data is Qualtive and order does not matter here.\n",
    "# for example : hair color of students\n",
    "# 2) Ordinal scale data:\n",
    "# here we see only quality of data and order matter here\n",
    "# but differnce can not be measured\n",
    "# 3) Interval scale data:\n",
    "# order matter, differnce can be measured and starting point are not \"0\" .\n",
    "# Ratio can not be meaured\n",
    "# for example: \n",
    "# Temeprature in a day.\n",
    "# 4) Ratio scale data:\n",
    "# order matter, difference can be measured, ratio can be mesaured and starting point is \"0\".\n",
    "# marks of students."
   ]
  },
  {
   "cell_type": "code",
   "execution_count": 13,
   "id": "f368c059-ec98-40ab-9424-7e22d13b0415",
   "metadata": {},
   "outputs": [],
   "source": [
    "# Q6. Why is it important to understand the level of measurement when analyzing data? Provide an\n",
    "# example to illustrate your answer."
   ]
  },
  {
   "cell_type": "code",
   "execution_count": 15,
   "id": "0ca012aa-1054-4bae-a2e8-c898e998608e",
   "metadata": {},
   "outputs": [],
   "source": [
    "# The different levels limit which descriptive statistics you can use to get an overall summary of your data, and which type of inferential statistics you can perform on your data to support or refute your hypothesis.\n",
    "# In many cases, your variables can be measured at different levels, so you have to choose the level of measurement you will use before data collection begins.\n",
    "# for example You can measure the variable of income at an ordinal or ratio level."
   ]
  },
  {
   "cell_type": "code",
   "execution_count": 16,
   "id": "66ca0c2c-a57d-42bf-a53f-0b5ef74f4bcd",
   "metadata": {},
   "outputs": [],
   "source": [
    "# Q7. How nominal data type is different from ordinal data type."
   ]
  },
  {
   "cell_type": "code",
   "execution_count": 17,
   "id": "793146e0-339f-422a-a27d-a46eaedb5f60",
   "metadata": {},
   "outputs": [],
   "source": [
    "# In nominal data order does not matter but in ordinal data order matter.\n",
    "# for example level of education is the ordinal data and color of hair of students is the nominal data."
   ]
  },
  {
   "cell_type": "code",
   "execution_count": 18,
   "id": "5e6fbd59-4d7f-40ee-8c8d-635cae9176a9",
   "metadata": {},
   "outputs": [],
   "source": [
    "# Q8. Which type of plot can be used to display data in terms of range?"
   ]
  },
  {
   "cell_type": "code",
   "execution_count": 19,
   "id": "6d775e61-bc59-47c4-af70-1c245adf234c",
   "metadata": {},
   "outputs": [],
   "source": [
    "# Histograms show the distribution of a quantitative variable by using bars whose height represents the number of individuals whose values fall within a specific range."
   ]
  },
  {
   "cell_type": "code",
   "execution_count": 20,
   "id": "ed080160-8a0b-4dcd-9abc-a28fbb9a0576",
   "metadata": {},
   "outputs": [],
   "source": [
    "# Q9. Describe the difference between descriptive and inferential statistics. Give an example of each\n",
    "# type of statistics and explain how they are used."
   ]
  },
  {
   "cell_type": "code",
   "execution_count": 21,
   "id": "0955f17d-c078-49f2-95ff-3282df795e8c",
   "metadata": {},
   "outputs": [],
   "source": [
    "# Discriptive and Inferential statistics\n",
    "# 1) Discriptive : It consits of orgainzing and summerzing data.\n",
    "# For example : Measure of central tendency (i.e mean , median, mode)\n",
    "# Measure of dispersion (i.e Varience, standard)\n",
    "# Different type of distribution of data \n",
    "# 2) Inferentail : It consits of using data you have to measure to form Conclusion.\n",
    "# For example: z - test\n",
    "# t-test\n",
    "# chi squared test etc."
   ]
  },
  {
   "cell_type": "code",
   "execution_count": 22,
   "id": "83419b4f-c280-456c-8670-3883f8b6773a",
   "metadata": {},
   "outputs": [],
   "source": [
    "# Q10. What are some common measures of central tendency and variability used in statistics? Explain\n",
    "# how each measure can be used to describe a dataset."
   ]
  },
  {
   "cell_type": "code",
   "execution_count": 24,
   "id": "4493eb12-6411-415b-8bef-e7c29c233869",
   "metadata": {},
   "outputs": [],
   "source": [
    "# # Measures of central tendency tell us what is common or typical about our variable. Three measures of central tendency are the\n",
    "# mode, the median and the mean. The mode is used almost exclusively with nominal-level data, as it is the only measure of central\n",
    "# tendency available for such variables.\n",
    "# The variance is a measure of variability that represents on how far each observation falls from the mean of the distribution.\n",
    "# There is, however, one limitation to using the variance as our only measure of variability"
   ]
  },
  {
   "cell_type": "code",
   "execution_count": null,
   "id": "1f1c4888-8d35-473d-8504-87807b797873",
   "metadata": {},
   "outputs": [],
   "source": []
  }
 ],
 "metadata": {
  "kernelspec": {
   "display_name": "Python 3 (ipykernel)",
   "language": "python",
   "name": "python3"
  },
  "language_info": {
   "codemirror_mode": {
    "name": "ipython",
    "version": 3
   },
   "file_extension": ".py",
   "mimetype": "text/x-python",
   "name": "python",
   "nbconvert_exporter": "python",
   "pygments_lexer": "ipython3",
   "version": "3.10.8"
  }
 },
 "nbformat": 4,
 "nbformat_minor": 5
}
