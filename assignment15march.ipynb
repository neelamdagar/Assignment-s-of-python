{
 "cells": [
  {
   "cell_type": "code",
   "execution_count": 1,
   "id": "9756d1c1-10ae-4930-be61-3eacdb7893c6",
   "metadata": {},
   "outputs": [],
   "source": [
    "# Question 1: Explain the follwings with an example\n",
    "# 1) Artificial Intelligence\n",
    "# 2) Machine learning\n",
    "# 3) Deep lerarning "
   ]
  },
  {
   "cell_type": "code",
   "execution_count": 2,
   "id": "11cf12b8-6f69-46d4-b09f-10652d8f1feb",
   "metadata": {},
   "outputs": [],
   "source": [
    "# Answer:\n",
    "#  AI: Some application that can be perfome its own task without any human intervention. example(Self driving car)\n",
    "#  ML: It provided some statstool to anaylze , visualize models. eamples(Netflex, Amazon.in)\n",
    "#  DL: Deep learning to mimice the human brain. example( chat box, image recogonisation)"
   ]
  },
  {
   "cell_type": "code",
   "execution_count": 3,
   "id": "19e8f3c9-a0a2-4024-a4e4-aa22b30f3414",
   "metadata": {},
   "outputs": [],
   "source": [
    "# Question 2: What is supervised learning. List of eaxmples.\n",
    "# Answer:Supervised learning gives output feature of dataset. \n",
    "# Two types of output feature we have in supervised learning, 1) Classification (Output feature is categorical)\n",
    "#                                                             2) Regression(output feature is numerical)\n",
    "# For example :The dataset is labeled.             output feature\n",
    "# no  of hours played      no of study hours       pass/fail\n",
    "# 2                         3                       fail\n",
    "# 7                         5                       pass\n",
    "\n"
   ]
  },
  {
   "cell_type": "code",
   "execution_count": 4,
   "id": "b9ac0ca3-b534-4de7-b9cb-b52732d45415",
   "metadata": {},
   "outputs": [],
   "source": [
    "# Question 3: What is unsupervised learning with example.\n",
    "# Answer: Dataset is unlabeled dataset. There is no output feature we divide into the group of similar datatype(culster).\n",
    "# Example : Customer segmentation.\n"
   ]
  },
  {
   "cell_type": "code",
   "execution_count": 7,
   "id": "c4a72369-0600-4e76-943a-e0c7055d4478",
   "metadata": {},
   "outputs": [],
   "source": [
    "# Question 4: What is the diffrence between  AI, ML, DL, and DS?"
   ]
  },
  {
   "cell_type": "code",
   "execution_count": 6,
   "id": "e7710106-efa8-42a1-9cb6-1e3d05fb6164",
   "metadata": {},
   "outputs": [],
   "source": [
    "# Answer: AI : is the application that perform its own task without human interventaion.\n",
    "# ML: It provieded some statics tools for visualizing and summerzing the modals. And it is subset of AI.\n",
    "# DL: Deep learning to mimice the human brain, it is subset of machine learning.\n",
    "# DS: it contain all the learning DL, AI, ML, We can work on any of them beacuse Data Science is the largest branch."
   ]
  },
  {
   "cell_type": "code",
   "execution_count": 8,
   "id": "3e713518-31a8-4b35-b410-c3ca16899a84",
   "metadata": {},
   "outputs": [],
   "source": [
    "# Question5:  what is the main differnce between supervised,unsupervised and semi supervised."
   ]
  },
  {
   "cell_type": "code",
   "execution_count": 9,
   "id": "b5e9698b-aa7b-4968-b9cf-94e32c738836",
   "metadata": {},
   "outputs": [],
   "source": [
    "# # Answer: Supervised contain labeled dataset where unsupervised contain unlabeled dataset.\n",
    "# Semi - supevised contain both labeled and unlabeled dataset"
   ]
  },
  {
   "cell_type": "code",
   "execution_count": 10,
   "id": "d66d1217-6574-4981-be4c-977e8bae03f3",
   "metadata": {},
   "outputs": [],
   "source": [
    "#Question 6 : What is the tarin, validation, test split. explain the importance of each."
   ]
  },
  {
   "cell_type": "code",
   "execution_count": 11,
   "id": "a060a875-8ab5-4fc0-b997-0febdffe6155",
   "metadata": {},
   "outputs": [],
   "source": [
    "# Traning dataset : We will first train our modal. \n",
    "# Validation : Help to Hyper tuning of modal \n",
    "# Test : modal will be tested using test dataset."
   ]
  },
  {
   "cell_type": "code",
   "execution_count": 12,
   "id": "5d904f6c-ed51-48ce-8709-cd026a871eec",
   "metadata": {},
   "outputs": [],
   "source": [
    "# Question 7 : How can unsupervised learning be used in anomaly detection?"
   ]
  },
  {
   "cell_type": "code",
   "execution_count": null,
   "id": "242a8049-88bf-489f-9921-a88696c75697",
   "metadata": {},
   "outputs": [],
   "source": [
    "# Unsupervised is useful when the data is unlabeled and thus requires less work to process the data set before- hand.\n",
    "# Anomaly detection techniques of unsupervised nature assume that normal data points occur considerably more frequently \n",
    "# than anomalous data points"
   ]
  },
  {
   "cell_type": "code",
   "execution_count": null,
   "id": "577a5500-26f1-4168-a157-091ea8d77923",
   "metadata": {},
   "outputs": [],
   "source": [
    "#  Question 8 : List down some commonly supervised algorithm and unsupervised algorithm.\n",
    "# Supervised : decision tree, logistic regression, linear regression, support vector machine\n",
    "# The most commonly used Unsupervised Learning algorithms are k-means clustering, hierarchical clustering, and apriori algorithm."
   ]
  }
 ],
 "metadata": {
  "kernelspec": {
   "display_name": "Python 3 (ipykernel)",
   "language": "python",
   "name": "python3"
  },
  "language_info": {
   "codemirror_mode": {
    "name": "ipython",
    "version": 3
   },
   "file_extension": ".py",
   "mimetype": "text/x-python",
   "name": "python",
   "nbconvert_exporter": "python",
   "pygments_lexer": "ipython3",
   "version": "3.10.8"
  }
 },
 "nbformat": 4,
 "nbformat_minor": 5
}
