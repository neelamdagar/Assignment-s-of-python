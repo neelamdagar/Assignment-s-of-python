{
 "cells": [
  {
   "cell_type": "code",
   "execution_count": 1,
   "id": "bbd14a75-c109-4d2d-b57c-06af1a2faa33",
   "metadata": {},
   "outputs": [],
   "source": [
    "# Q1. What is the difference between Ordinal Encoding and Label Encoding? Provide an example of when you\n",
    "# might choose one over the other."
   ]
  },
  {
   "cell_type": "code",
   "execution_count": 2,
   "id": "b94f2e16-bbd6-4d14-82fa-dbd74ba284c0",
   "metadata": {},
   "outputs": [],
   "source": [
    "## In ordinal encoding we have order or rank whereas in label encoding we have alphabetical label.\n",
    "## For example: I have dataset that contain features 'size', 'haircolor', 'level of education', . \n",
    "## for size feature i will  choose ordinal and for these two i will choose label."
   ]
  },
  {
   "cell_type": "code",
   "execution_count": 3,
   "id": "f7f80da4-a765-4fe4-a82b-f7d5f854d93d",
   "metadata": {},
   "outputs": [],
   "source": [
    "# Q2. Explain how Target Guided Ordinal Encoding works and provide an example of when you might use it in\n",
    "# a machine learning project."
   ]
  },
  {
   "cell_type": "code",
   "execution_count": 4,
   "id": "58328332-29b5-4f9a-b1a5-919abb174a62",
   "metadata": {},
   "outputs": [],
   "source": [
    "## Target Guide Ordinal Encoding fisrt slect target variable and find the mean, median of target variable for convert categorical variable in the \n",
    "## numerical values.\n",
    "## Example : I will use this encoding in machine learning when we have large number of uniqe value in categorical features.\n",
    "# let supppose we have a dataset below:"
   ]
  },
  {
   "cell_type": "code",
   "execution_count": 8,
   "id": "5d64f6e9-d7c6-4f8a-8208-baf6200cf1fe",
   "metadata": {},
   "outputs": [
    {
     "data": {
      "text/plain": [
       "Index(['sepal_length', 'sepal_width', 'petal_length', 'petal_width',\n",
       "       'species'],\n",
       "      dtype='object')"
      ]
     },
     "execution_count": 8,
     "metadata": {},
     "output_type": "execute_result"
    }
   ],
   "source": [
    "import seaborn as sns\n",
    "import pandas as pd\n",
    "k=sns.load_dataset('iris')\n",
    "df=pd.DataFrame(k)\n",
    "df.columns"
   ]
  },
  {
   "cell_type": "code",
   "execution_count": 10,
   "id": "e94fac73-e933-4bdf-b672-9fd91e588b74",
   "metadata": {},
   "outputs": [],
   "source": [
    "k=df.groupby('species')['sepal_length'].mean().to_dict()"
   ]
  },
  {
   "cell_type": "code",
   "execution_count": 11,
   "id": "060dfd36-a158-4edf-afae-9da2e3a29bcd",
   "metadata": {},
   "outputs": [
    {
     "data": {
      "text/plain": [
       "{'setosa': 5.006, 'versicolor': 5.936, 'virginica': 6.587999999999999}"
      ]
     },
     "execution_count": 11,
     "metadata": {},
     "output_type": "execute_result"
    }
   ],
   "source": [
    "k"
   ]
  },
  {
   "cell_type": "code",
   "execution_count": 13,
   "id": "83ae95b6-8982-4a07-9a8b-f056a79ddbed",
   "metadata": {},
   "outputs": [],
   "source": [
    "df['encoded']=df['species'].map(k)"
   ]
  },
  {
   "cell_type": "code",
   "execution_count": 15,
   "id": "0c7795b8-5ccb-4efd-ad56-e3218f9b54d6",
   "metadata": {},
   "outputs": [
    {
     "data": {
      "text/html": [
       "<div>\n",
       "<style scoped>\n",
       "    .dataframe tbody tr th:only-of-type {\n",
       "        vertical-align: middle;\n",
       "    }\n",
       "\n",
       "    .dataframe tbody tr th {\n",
       "        vertical-align: top;\n",
       "    }\n",
       "\n",
       "    .dataframe thead th {\n",
       "        text-align: right;\n",
       "    }\n",
       "</style>\n",
       "<table border=\"1\" class=\"dataframe\">\n",
       "  <thead>\n",
       "    <tr style=\"text-align: right;\">\n",
       "      <th></th>\n",
       "      <th>sepal_length</th>\n",
       "      <th>sepal_width</th>\n",
       "      <th>petal_length</th>\n",
       "      <th>petal_width</th>\n",
       "      <th>species</th>\n",
       "      <th>encoded</th>\n",
       "    </tr>\n",
       "  </thead>\n",
       "  <tbody>\n",
       "    <tr>\n",
       "      <th>0</th>\n",
       "      <td>5.1</td>\n",
       "      <td>3.5</td>\n",
       "      <td>1.4</td>\n",
       "      <td>0.2</td>\n",
       "      <td>setosa</td>\n",
       "      <td>5.006</td>\n",
       "    </tr>\n",
       "    <tr>\n",
       "      <th>1</th>\n",
       "      <td>4.9</td>\n",
       "      <td>3.0</td>\n",
       "      <td>1.4</td>\n",
       "      <td>0.2</td>\n",
       "      <td>setosa</td>\n",
       "      <td>5.006</td>\n",
       "    </tr>\n",
       "    <tr>\n",
       "      <th>2</th>\n",
       "      <td>4.7</td>\n",
       "      <td>3.2</td>\n",
       "      <td>1.3</td>\n",
       "      <td>0.2</td>\n",
       "      <td>setosa</td>\n",
       "      <td>5.006</td>\n",
       "    </tr>\n",
       "    <tr>\n",
       "      <th>3</th>\n",
       "      <td>4.6</td>\n",
       "      <td>3.1</td>\n",
       "      <td>1.5</td>\n",
       "      <td>0.2</td>\n",
       "      <td>setosa</td>\n",
       "      <td>5.006</td>\n",
       "    </tr>\n",
       "    <tr>\n",
       "      <th>4</th>\n",
       "      <td>5.0</td>\n",
       "      <td>3.6</td>\n",
       "      <td>1.4</td>\n",
       "      <td>0.2</td>\n",
       "      <td>setosa</td>\n",
       "      <td>5.006</td>\n",
       "    </tr>\n",
       "  </tbody>\n",
       "</table>\n",
       "</div>"
      ],
      "text/plain": [
       "   sepal_length  sepal_width  petal_length  petal_width species  encoded\n",
       "0           5.1          3.5           1.4          0.2  setosa    5.006\n",
       "1           4.9          3.0           1.4          0.2  setosa    5.006\n",
       "2           4.7          3.2           1.3          0.2  setosa    5.006\n",
       "3           4.6          3.1           1.5          0.2  setosa    5.006\n",
       "4           5.0          3.6           1.4          0.2  setosa    5.006"
      ]
     },
     "execution_count": 15,
     "metadata": {},
     "output_type": "execute_result"
    }
   ],
   "source": [
    "df.head()"
   ]
  },
  {
   "cell_type": "code",
   "execution_count": 16,
   "id": "c74b2b5a-da9f-4523-be99-c56e21749b08",
   "metadata": {},
   "outputs": [],
   "source": [
    "# Q3. Define covariance and explain why it is important in statistical analysis. How is covariance calculated?"
   ]
  },
  {
   "cell_type": "code",
   "execution_count": 17,
   "id": "b2b62c2e-4d07-4a11-9f5c-1fad37b530bd",
   "metadata": {},
   "outputs": [],
   "source": [
    "## covarince : cov(x,y)=Summation of (xi-sample mean of x)(yi-sample mean of y)/(n-1)\n",
    "# it define the relationship between x and y whether it is postive and negative due to it we can easliy predict our model."
   ]
  },
  {
   "cell_type": "code",
   "execution_count": 18,
   "id": "83d42057-9e3c-4d5c-a692-53fb60ab07f6",
   "metadata": {},
   "outputs": [],
   "source": [
    "# Q4. For a dataset with the following categorical variables: Color (red, green, blue), Size (small, medium,\n",
    "# large), and Material (wood, metal, plastic), perform label encoding using Python's scikit-learn library.\n",
    "# Show your code and explain the output."
   ]
  },
  {
   "cell_type": "code",
   "execution_count": 26,
   "id": "adfdddc4-1db4-489a-bbec-4e46f2a1f19e",
   "metadata": {},
   "outputs": [],
   "source": [
    "import pandas as pd\n",
    "df1=pd.DataFrame({'color':['red','green','blue'],'size':['small','medium','large'],'Material':['wood','metal','plastic']})\n",
    "from sklearn.preprocessing import LabelEncoder\n",
    "label=LabelEncoder()\n",
    "k=label.fit_transform(df1['color'])\n",
    "r=label.fit_transform(df1['size'])\n",
    "n=label.fit_transform(df1['Material'])"
   ]
  },
  {
   "cell_type": "code",
   "execution_count": 27,
   "id": "ef444920-4f43-4e4b-98f2-78af91ce701e",
   "metadata": {},
   "outputs": [
    {
     "data": {
      "text/plain": [
       "array([2, 1, 0])"
      ]
     },
     "execution_count": 27,
     "metadata": {},
     "output_type": "execute_result"
    }
   ],
   "source": [
    "k"
   ]
  },
  {
   "cell_type": "code",
   "execution_count": 28,
   "id": "20c4e8a5-bf12-4eb2-8e3b-6365c0dc2be0",
   "metadata": {},
   "outputs": [
    {
     "data": {
      "text/plain": [
       "array([2, 0, 1])"
      ]
     },
     "execution_count": 28,
     "metadata": {},
     "output_type": "execute_result"
    }
   ],
   "source": [
    "n"
   ]
  },
  {
   "cell_type": "code",
   "execution_count": 29,
   "id": "f02b97f9-fd88-4f7a-9fce-84e385c47a8d",
   "metadata": {},
   "outputs": [
    {
     "data": {
      "text/plain": [
       "array([2, 1, 0])"
      ]
     },
     "execution_count": 29,
     "metadata": {},
     "output_type": "execute_result"
    }
   ],
   "source": [
    "r"
   ]
  },
  {
   "cell_type": "code",
   "execution_count": 30,
   "id": "4eb347de-c6af-4981-97ea-278fd07e9171",
   "metadata": {},
   "outputs": [],
   "source": [
    "# Q5. Calculate the covariance matrix for the following variables in a dataset: Age, Income, and Education\n",
    "# level. Interpret the results."
   ]
  },
  {
   "cell_type": "code",
   "execution_count": 34,
   "id": "feffe935-915c-4627-9aa4-3bb4a5a09a8b",
   "metadata": {},
   "outputs": [],
   "source": [
    "import numpy as np\n",
    "age = [30, 35, 40, 45, 50]  # Example values for Age\n",
    "income = [50000, 60000, 70000, 80000, 90000]  # Example values for Income\n",
    "education_level = [12, 14, 16, 18, 20]  # Example values for Education Level\n",
    "data=np.array([age,income,education_level])\n",
    "cov_matrix=np.cov(data)"
   ]
  },
  {
   "cell_type": "code",
   "execution_count": 36,
   "id": "7d0b6703-572f-4109-a0f2-757be8a8c9ed",
   "metadata": {},
   "outputs": [
    {
     "name": "stdout",
     "output_type": "stream",
     "text": [
      "[[6.25e+01 1.25e+05 2.50e+01]\n",
      " [1.25e+05 2.50e+08 5.00e+04]\n",
      " [2.50e+01 5.00e+04 1.00e+01]]\n"
     ]
    }
   ],
   "source": [
    "print(cov_matrix)"
   ]
  },
  {
   "cell_type": "code",
   "execution_count": 37,
   "id": "9d6e3691-859c-4bf2-9d7f-0615e574b995",
   "metadata": {},
   "outputs": [],
   "source": [
    "# Q6. You are working on a machine learning project with a dataset containing several categorical\n",
    "# variables, including \"Gender\" (Male/Female), \"Education Level\" (High School/Bachelor's/Master's/PhD),\n",
    "# and \"Employment Status\" (Unemployed/Part-Time/Full-Time). Which encoding method would you use for\n",
    "# each variable, and why?"
   ]
  },
  {
   "cell_type": "code",
   "execution_count": 38,
   "id": "9ce8d0bd-e6ae-45b3-91f7-c6b90ee92c56",
   "metadata": {},
   "outputs": [],
   "source": [
    "# Gender: For the \"Gender\" variable, which has two categories (Male/Female), I would use Label Encoding. Since there is no inherent ordering \n",
    "# or hierarchy between the two categories, label encoding would be appropriate.It assigns the values 0 and 1 to represent Male and Female, respectively.\n",
    "\n",
    "# Education Level: For the \"Education Level\" variable with multiple categories (High School/Bachelor's/Master's/PhD), I would use Ordinal Encoding.\n",
    "# This encoding method captures the natural ordering or hierarchy among the categories.\n",
    "\n",
    "# Employment Status: For the \"Employment Status\" variable with multiple categories (Unemployed/Part-Time/Full-Time), I would use One-Hot Encoding. \n",
    "# One-Hot Encoding is suitable when there is no inherent ordering or hierarchy among the categories, and each category is considered equally distinct.\n",
    "# It creates binary columns for each category"
   ]
  },
  {
   "cell_type": "code",
   "execution_count": 39,
   "id": "2fc96eb9-0434-494a-8a09-962d41181efd",
   "metadata": {},
   "outputs": [],
   "source": [
    "# Q7. You are analyzing a dataset with two continuous variables, \"Temperature\" and \"Humidity\", and two\n",
    "# categorical variables, \"Weather Condition\" (Sunny/Cloudy/Rainy) and \"Wind Direction\" (North/South/\n",
    "# East/West). Calculate the covariance between each pair of variables and interpret the results."
   ]
  },
  {
   "cell_type": "code",
   "execution_count": 58,
   "id": "490c3b93-96ca-4c6f-9ccc-0213aa53fc67",
   "metadata": {},
   "outputs": [
    {
     "name": "stdout",
     "output_type": "stream",
     "text": [
      "Covariance between Temperature and Humidity:\n",
      "[[ 17.  -20. ]\n",
      " [-20.   62.5]]\n"
     ]
    }
   ],
   "source": [
    "import numpy as np\n",
    "\n",
    "# Assuming you have the dataset with variables Temperature, Humidity, Weather Condition, and Wind Direction\n",
    "temperature = [25, 30, 28, 20, 22]  # Example values for Temperature\n",
    "humidity = [60, 65, 70, 75, 80]  # Example values for Humidity\n",
    "weather_condition = ['Sunny', 'Cloudy', 'Cloudy', 'Rainy', 'Sunny']  # Example values for Weather Condition\n",
    "wind_direction = ['North', 'South', 'East', 'West', 'North']  # Example values for Wind Direction\n",
    "\n",
    "# Create a numpy array from the continuous variables\n",
    "continuous_data = np.array([temperature, humidity])\n",
    "\n",
    "# Calculate the covariance between the continuous variables\n",
    "cov_continuous = np.cov(continuous_data)\n",
    "\n",
    "print(\"Covariance between Temperature and Humidity:\")\n",
    "print(cov_continuous)\n",
    "\n"
   ]
  },
  {
   "cell_type": "code",
   "execution_count": 69,
   "id": "dc3b391e-d64b-4490-898c-2ea130e900ec",
   "metadata": {},
   "outputs": [
    {
     "data": {
      "text/plain": [
       "array([[1. , 0. ],\n",
       "       [0. , 1.3]])"
      ]
     },
     "execution_count": 69,
     "metadata": {},
     "output_type": "execute_result"
    }
   ],
   "source": [
    "# Create a pandas DataFrame from the categorical variables\n",
    "data = pd.DataFrame({'Weather Condition': weather_condition, 'Wind Direction': wind_direction})\n",
    "from sklearn.preprocessing import LabelEncoder\n",
    "label=LabelEncoder()\n",
    "m=label.fit_transform(data['Weather Condition'])\n",
    "n=label.fit_transform(data['Wind Direction'])\n",
    "m1=np.array(m)\n",
    "m2=np.array(n)\n",
    "np.cov(m1,m2)"
   ]
  },
  {
   "cell_type": "code",
   "execution_count": null,
   "id": "837e8d51-0031-40c2-9959-17c6708c0380",
   "metadata": {},
   "outputs": [],
   "source": []
  }
 ],
 "metadata": {
  "kernelspec": {
   "display_name": "Python 3 (ipykernel)",
   "language": "python",
   "name": "python3"
  },
  "language_info": {
   "codemirror_mode": {
    "name": "ipython",
    "version": 3
   },
   "file_extension": ".py",
   "mimetype": "text/x-python",
   "name": "python",
   "nbconvert_exporter": "python",
   "pygments_lexer": "ipython3",
   "version": "3.10.8"
  }
 },
 "nbformat": 4,
 "nbformat_minor": 5
}
