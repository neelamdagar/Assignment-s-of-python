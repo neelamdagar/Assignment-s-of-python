{
 "cells": [
  {
   "cell_type": "code",
   "execution_count": 1,
   "id": "bb6f406c-45d8-4936-940a-b2145248ad1f",
   "metadata": {},
   "outputs": [
    {
     "name": "stdout",
     "output_type": "stream",
     "text": [
      "1\n",
      "2\n",
      "3\n",
      "4\n",
      "5\n",
      "6\n",
      "7\n",
      "8\n",
      "9\n",
      "10\n"
     ]
    }
   ],
   "source": [
    "# Question 1 Explain with an example each when to use a for loop and a while loop.\n",
    "# Answer : The for loop is used when we already know the number of iterations, \n",
    "# which means when we know how many times a statement has to be executed.\n",
    "for i in range(1,11,1):\n",
    "    print(i)"
   ]
  },
  {
   "cell_type": "code",
   "execution_count": 2,
   "id": "5100712b-3b50-4edc-b79b-2d5a93d82353",
   "metadata": {},
   "outputs": [
    {
     "name": "stdout",
     "output_type": "stream",
     "text": [
      "10\n",
      "9\n",
      "8\n",
      "7\n",
      "6\n",
      "5\n",
      "4\n",
      "3\n",
      "2\n",
      "1\n"
     ]
    }
   ],
   "source": [
    "# With the while loop we can execute a set of statements as long as a condition is true.\n",
    "n=10\n",
    "while n>0:\n",
    "    print(n)\n",
    "    n=n-1"
   ]
  },
  {
   "cell_type": "code",
   "execution_count": 3,
   "id": "0545c906-12e2-4071-a4d0-0cb7d102ec13",
   "metadata": {},
   "outputs": [],
   "source": [
    "# Question  3: Create a python program to compute the electricity bill for a household.\n",
    "# The per-unit charges in rupees are as follows: For the first 100 units, the user will be charged Rs. 4.5 per\n",
    "# unit, for the next 100 units, the user will be charged Rs. 6 per unit, and for the next 100 units, the user will\n",
    "# be charged Rs. 10 per unit, After 300 units and above the user will be charged Rs. 20 per unit.\n",
    "# You are required to take the units of electricity consumed in a month from the user as input.\n",
    "# Your program must pass this test case: when the unit of electricity consumed by the user in a month is\n",
    "# 310, the total electricity bill should be 2250."
   ]
  },
  {
   "cell_type": "code",
   "execution_count": 37,
   "id": "9cae692c-f6c2-404c-ae17-7cc04f6b09e6",
   "metadata": {},
   "outputs": [
    {
     "name": "stdin",
     "output_type": "stream",
     "text": [
      "enter Month 310\n"
     ]
    },
    {
     "name": "stdout",
     "output_type": "stream",
     "text": [
      "2250.5\n"
     ]
    }
   ],
   "source": [
    "# Answer :\n",
    "n=int(input(\"enter Month\"))\n",
    "k=0\n",
    "if n<=100:\n",
    "        k=n*4.5\n",
    "elif n>=101 and n<=200:\n",
    "        k=450.5+((n-100)*6)\n",
    "elif n>=201 and n<=300:\n",
    "        k=1050.5+((n-200)*10)\n",
    "else:\n",
    "        k=2050.5+((n-300)*20)\n",
    "print(k)"
   ]
  },
  {
   "cell_type": "code",
   "execution_count": 40,
   "id": "ba82b0b8-abce-4526-a178-afa72b10ba98",
   "metadata": {},
   "outputs": [],
   "source": [
    "#  Question Number 2:Write a python program to print the sum and product of the first 10 natural numbers using for\n",
    " # and while loop."
   ]
  },
  {
   "cell_type": "code",
   "execution_count": 1,
   "id": "7b78ca9c-ddd2-4d94-a680-ef4ef08b8858",
   "metadata": {},
   "outputs": [
    {
     "name": "stdout",
     "output_type": "stream",
     "text": [
      "55\n",
      "3628800\n"
     ]
    }
   ],
   "source": [
    "\n",
    "sum=0 \n",
    "product=1\n",
    "for i in range(1,11,1):\n",
    "    sum=sum+i\n",
    "    product=product*i\n",
    "print(sum)\n",
    "print(product)"
   ]
  },
  {
   "cell_type": "code",
   "execution_count": 49,
   "id": "ce624f2a-af3d-4db4-bf2c-f070bbf157b5",
   "metadata": {},
   "outputs": [
    {
     "name": "stdout",
     "output_type": "stream",
     "text": [
      "55\n"
     ]
    }
   ],
   "source": [
    "sum1=0\n",
    "n=1\n",
    "product=1\n",
    "while(n<11):\n",
    "    sum1=sum1+n\n",
    "    product=product*i\n",
    "    n=n+1\n",
    "print(sum1)"
   ]
  },
  {
   "cell_type": "code",
   "execution_count": 47,
   "id": "b82f5a48-6b62-4e3a-8289-807860617024",
   "metadata": {},
   "outputs": [],
   "source": [
    "# Question 4 :  Create a list of numbers from 1 to 100. Use for loop and while loop to calculate the cube of each\n",
    " # number and if the cube of that number is divisible by 4 or 5 then append that number in a list and print\n",
    " # that list."
   ]
  },
  {
   "cell_type": "code",
   "execution_count": 52,
   "id": "823aff4d-69c0-4f41-9a5f-292646c5d851",
   "metadata": {},
   "outputs": [
    {
     "name": "stdout",
     "output_type": "stream",
     "text": [
      "1 2 3 4 5 6 7 8 9 10 11 12 13 14 15 16 17 18 19 20 21 22 23 24 25 26 27 28 29 30 31 32 33 34 35 36 37 38 39 40 41 42 43 44 45 46 47 48 49 50 51 52 53 54 55 56 57 58 59 60 61 62 63 64 65 66 67 68 69 70 71 72 73 74 75 76 77 78 79 80 81 82 83 84 85 86 87 88 89 90 91 92 93 94 95 96 97 98 99 100 "
     ]
    }
   ],
   "source": [
    "for i in range(1,101,1):\n",
    "    print(i,end=\" \")"
   ]
  },
  {
   "cell_type": "code",
   "execution_count": 93,
   "id": "9c934ac7-903b-42c6-8ad4-887fe243c7a6",
   "metadata": {},
   "outputs": [
    {
     "name": "stdout",
     "output_type": "stream",
     "text": [
      "[8, 64, 125, 216, 512, 1000, 1728, 2744, 3375, 4096, 5832, 8000, 10648, 13824, 15625, 17576, 21952, 27000, 32768, 39304, 42875, 46656, 54872, 64000, 74088, 85184, 91125, 97336, 110592, 125000, 140608, 157464, 166375, 175616, 195112, 216000, 238328, 262144, 274625, 287496, 314432, 343000, 373248, 405224, 421875, 438976, 474552, 512000, 551368, 592704, 614125, 636056, 681472, 729000, 778688, 830584, 857375, 884736, 941192, 1000000]\n"
     ]
    }
   ],
   "source": [
    "l1=[]\n",
    "for i in range(1,101,1):\n",
    "    k=i**3\n",
    "    if k%4==0 or k%5==0:\n",
    "        l1.append(k)\n",
    "print(l1)"
   ]
  },
  {
   "cell_type": "code",
   "execution_count": 92,
   "id": "3e8022bc-7bcd-4117-80b5-f65b589703df",
   "metadata": {},
   "outputs": [
    {
     "name": "stdout",
     "output_type": "stream",
     "text": [
      "[8, 64, 125, 216, 512, 1000, 1728, 2744, 3375, 4096, 5832, 8000, 10648, 13824, 15625, 17576, 21952, 27000, 32768, 39304, 42875, 46656, 54872, 64000, 74088, 85184, 91125, 97336, 110592, 125000, 140608, 157464, 166375, 175616, 195112, 216000, 238328, 262144, 274625, 287496, 314432, 343000, 373248, 405224, 421875, 438976, 474552, 512000, 551368, 592704, 614125, 636056, 681472, 729000, 778688, 830584, 857375, 884736, 941192, 1000000]\n"
     ]
    }
   ],
   "source": [
    "l2=[]\n",
    "i=1\n",
    "while(i<101):\n",
    "    k=i**3\n",
    "    if k%4==0 or k%5==0:\n",
    "        l2.append(k)\n",
    "    i=i+1\n",
    "print(l2)\n",
    "    "
   ]
  },
  {
   "cell_type": "code",
   "execution_count": 89,
   "id": "bc109c82-85f0-4f9e-aeac-694c12931fa8",
   "metadata": {},
   "outputs": [],
   "source": [
    "#  5 : Write a program to filter count vowels in the below-given string.\n",
    " # string = \"I want to become a data scientist\""
   ]
  },
  {
   "cell_type": "code",
   "execution_count": 95,
   "id": "40d7ea40-f052-4e3f-9d1d-571c4058546f",
   "metadata": {},
   "outputs": [
    {
     "name": "stdout",
     "output_type": "stream",
     "text": [
      "11\n"
     ]
    }
   ],
   "source": [
    "string1 = \"I want to become a data scientist\"\n",
    "count=0\n",
    "for i in string1:\n",
    "    if i=='a' or i=='o' or i=='u' or i=='e' or i=='i' :\n",
    "        count =count+1\n",
    "print(count)"
   ]
  },
  {
   "cell_type": "code",
   "execution_count": null,
   "id": "f64a2c6e-ac85-404a-9df6-47b5897356b0",
   "metadata": {},
   "outputs": [],
   "source": []
  }
 ],
 "metadata": {
  "kernelspec": {
   "display_name": "Python 3 (ipykernel)",
   "language": "python",
   "name": "python3"
  },
  "language_info": {
   "codemirror_mode": {
    "name": "ipython",
    "version": 3
   },
   "file_extension": ".py",
   "mimetype": "text/x-python",
   "name": "python",
   "nbconvert_exporter": "python",
   "pygments_lexer": "ipython3",
   "version": "3.10.8"
  }
 },
 "nbformat": 4,
 "nbformat_minor": 5
}
