{
 "cells": [
  {
   "cell_type": "code",
   "execution_count": 2,
   "id": "60faf6dd-b5d0-46d9-908b-4e030b4757a9",
   "metadata": {},
   "outputs": [],
   "source": [
    "# Q1. What are the three measures of central tendency?\n",
    "# Answer : mean, mode, median."
   ]
  },
  {
   "cell_type": "code",
   "execution_count": 3,
   "id": "a4b9e8aa-03ad-41d6-a682-f45258bb9ccc",
   "metadata": {},
   "outputs": [],
   "source": [
    "# Q2. What is the difference between the mean, median, and mode? How are they used to measure the\n",
    "# central tendency of a dataset?"
   ]
  },
  {
   "cell_type": "code",
   "execution_count": 5,
   "id": "e90756ab-7acf-461b-871a-a7ffc4b8d9eb",
   "metadata": {},
   "outputs": [],
   "source": [
    "# mean: average of data.\n",
    "# median: middle term of ordering data.\n",
    "# mode: number of value often come im the data set."
   ]
  },
  {
   "cell_type": "code",
   "execution_count": 6,
   "id": "bd74a0c5-98ad-4b97-b28d-e47bb2441e40",
   "metadata": {},
   "outputs": [],
   "source": [
    "# Q3. Measure the three measures of central tendency for the given height data:\n",
    "# [178,177,176,177,178.2,178,175,179,180,175,178.9,176.2,177,172.5,178,176.5]"
   ]
  },
  {
   "cell_type": "code",
   "execution_count": 7,
   "id": "d073674d-2fa0-4b4f-93c4-00f1c735f1db",
   "metadata": {},
   "outputs": [],
   "source": [
    "p=[178,177,176,177,178.2,178,175,179,180,175,178.9,176.2,177,172.5,178,176.5]"
   ]
  },
  {
   "cell_type": "code",
   "execution_count": 8,
   "id": "1bfa53de-064c-4da6-a597-422838f72e34",
   "metadata": {},
   "outputs": [],
   "source": [
    "import numpy as np"
   ]
  },
  {
   "cell_type": "code",
   "execution_count": 9,
   "id": "ef9f41ca-85e8-4cf7-8514-360f2f21bbc1",
   "metadata": {},
   "outputs": [
    {
     "data": {
      "text/plain": [
       "177.01875"
      ]
     },
     "execution_count": 9,
     "metadata": {},
     "output_type": "execute_result"
    }
   ],
   "source": [
    "np.mean(p)"
   ]
  },
  {
   "cell_type": "code",
   "execution_count": 10,
   "id": "9dac81e4-49da-4cfb-b1f5-65da0952a7cd",
   "metadata": {},
   "outputs": [
    {
     "data": {
      "text/plain": [
       "177.0"
      ]
     },
     "execution_count": 10,
     "metadata": {},
     "output_type": "execute_result"
    }
   ],
   "source": [
    "np.median(p)"
   ]
  },
  {
   "cell_type": "code",
   "execution_count": 12,
   "id": "177f9c1a-11b5-437d-b167-d0dfa39fd168",
   "metadata": {},
   "outputs": [],
   "source": [
    "from scipy import stats"
   ]
  },
  {
   "cell_type": "code",
   "execution_count": 13,
   "id": "f24a73b7-5b95-4c3f-a1ee-43f4db6b31e0",
   "metadata": {},
   "outputs": [
    {
     "name": "stderr",
     "output_type": "stream",
     "text": [
      "/tmp/ipykernel_438/1645751494.py:1: FutureWarning: Unlike other reduction functions (e.g. `skew`, `kurtosis`), the default behavior of `mode` typically preserves the axis it acts along. In SciPy 1.11.0, this behavior will change: the default value of `keepdims` will become False, the `axis` over which the statistic is taken will be eliminated, and the value None will no longer be accepted. Set `keepdims` to True or False to avoid this warning.\n",
      "  stats.mode(p)\n"
     ]
    },
    {
     "data": {
      "text/plain": [
       "ModeResult(mode=array([177.]), count=array([3]))"
      ]
     },
     "execution_count": 13,
     "metadata": {},
     "output_type": "execute_result"
    }
   ],
   "source": [
    "stats.mode(p)"
   ]
  },
  {
   "cell_type": "code",
   "execution_count": 14,
   "id": "66ae6de9-18a2-4641-bbbc-2f995c2b6017",
   "metadata": {},
   "outputs": [],
   "source": [
    "# Q4. Find the standard deviation for the given data:\n",
    "# [178,177,176,177,178.2,178,175,179,180,175,178.9,176.2,177,172.5,178,176.5]"
   ]
  },
  {
   "cell_type": "code",
   "execution_count": 15,
   "id": "3618e2a8-fff1-4e8c-8d29-57c39fe71e9a",
   "metadata": {},
   "outputs": [],
   "source": [
    "k=[178,177,176,177,178.2,178,175,179,180,175,178.9,176.2,177,172.5,178,176.5]"
   ]
  },
  {
   "cell_type": "code",
   "execution_count": 16,
   "id": "ffd014b7-c031-4489-83fe-561ffe4eb75e",
   "metadata": {},
   "outputs": [
    {
     "data": {
      "text/plain": [
       "1.7885814036548633"
      ]
     },
     "execution_count": 16,
     "metadata": {},
     "output_type": "execute_result"
    }
   ],
   "source": [
    "np.std(k)"
   ]
  },
  {
   "cell_type": "code",
   "execution_count": 17,
   "id": "71c3eb4d-ceee-4d19-9469-caecc5c4a064",
   "metadata": {},
   "outputs": [],
   "source": [
    "# Q5. How are measures of dispersion such as range, variance, and standard deviation used to describe\n",
    "# the spread of a dataset? Provide an example."
   ]
  },
  {
   "cell_type": "code",
   "execution_count": 19,
   "id": "9d8088b8-8229-4e90-8d04-28af09f10d3b",
   "metadata": {},
   "outputs": [],
   "source": [
    "# range=Q4-Q0 ( maximum-minimum)\n",
    "# variance tells how the data is fall at or above the median or below the median \n",
    "# standard devaition tells the spread of data form median( means one standars devation to right of median and -one std to left of \n",
    "# median as so on)\n",
    "# for example:\n",
    "# The variance(population) of A is 3.5 and the variance(population) of B is 12.68. This implies that data set B is more variable \n",
    "# than data set A. Thus, the variance helps to draw a comparison between the two data sets Aand B on the basis of variability.\n",
    "\n"
   ]
  },
  {
   "cell_type": "code",
   "execution_count": 20,
   "id": "c0782631-408f-4f0b-adac-cba4763da771",
   "metadata": {},
   "outputs": [],
   "source": [
    "# Q6. What is a Venn diagram?"
   ]
  },
  {
   "cell_type": "code",
   "execution_count": 21,
   "id": "9014951f-6f71-4691-9732-59ebdc86cd05",
   "metadata": {},
   "outputs": [],
   "source": [
    "# A Venn diagram is an illustration that uses circles to show the relationships among things or finite groups of things."
   ]
  },
  {
   "cell_type": "code",
   "execution_count": 22,
   "id": "30dc43db-bd51-438e-820e-b39307ab6842",
   "metadata": {},
   "outputs": [],
   "source": [
    "# Q7. For the two given sets A = (2,3,4,5,6,7) & B = (0,2,6,8,10). Find:\n",
    "# (i) A intersection B\n",
    "# (ii) A ⋃ B"
   ]
  },
  {
   "cell_type": "code",
   "execution_count": 23,
   "id": "a885f063-c3b1-4451-b25f-16b931f20652",
   "metadata": {},
   "outputs": [],
   "source": [
    "# Answer : 1) (2,6)\n",
    "# 2) (2,3,4,5,6,7,0,8,10)"
   ]
  },
  {
   "cell_type": "code",
   "execution_count": 24,
   "id": "6411ea31-07fa-4393-a033-dec6c8382eed",
   "metadata": {},
   "outputs": [],
   "source": [
    "# Q8. What do you understand about skewness in data?"
   ]
  },
  {
   "cell_type": "code",
   "execution_count": 25,
   "id": "18adabc2-ef52-4c3e-8b70-f5088d9b662d",
   "metadata": {},
   "outputs": [],
   "source": [
    "# Skewness is a measurement of the distortion of symmetrical distribution or asymmetry in a data set. Skewness is demonstrated \n",
    "# on a bell curve when data points are not distributed symmetrically to the left and right sides of the median on a bell curve."
   ]
  },
  {
   "cell_type": "code",
   "execution_count": 26,
   "id": "eb5aa889-3235-4039-b24b-6acb7f03030f",
   "metadata": {},
   "outputs": [],
   "source": [
    "# Q9. If a data is right skewed then what will be the position of median with respect to mean?"
   ]
  },
  {
   "cell_type": "code",
   "execution_count": 27,
   "id": "05514477-8385-4c31-bfd0-e01f1d8a746c",
   "metadata": {},
   "outputs": [],
   "source": [
    "# mean>median>mode"
   ]
  },
  {
   "cell_type": "code",
   "execution_count": 28,
   "id": "ea42781d-bc84-48aa-97da-b9d6475db7f3",
   "metadata": {},
   "outputs": [],
   "source": [
    "# Q10. Explain the difference between covariance and correlation. How are these measures used in\n",
    "# statistical analysis?"
   ]
  },
  {
   "cell_type": "code",
   "execution_count": 29,
   "id": "914b24d9-33d4-4467-8fac-4826176e102d",
   "metadata": {},
   "outputs": [],
   "source": [
    "# Covarince tells us to define the differnce between two dataset.\n",
    "# But  covarince has no specific limit value.\n",
    "# Correlation is a statistical measure that indicates how strongly two variables are related. \n",
    "# They are used to find the relationship between two dataset of a large data.\n",
    "# they are many type of Correlation : 1) spearman rank correlation (to help exectly relationship between two data)\n",
    "# 2) pearson correlation coffiecient "
   ]
  },
  {
   "cell_type": "code",
   "execution_count": 30,
   "id": "fd11d1df-c7e0-46a6-a4f0-ae8ecbd1113e",
   "metadata": {},
   "outputs": [],
   "source": [
    "# Q11. What is the formula for calculating the sample mean? Provide an example calculation for a\n",
    "# dataset."
   ]
  },
  {
   "cell_type": "code",
   "execution_count": 32,
   "id": "34287bc6-8efa-4386-ad5a-1afb39921478",
   "metadata": {},
   "outputs": [
    {
     "data": {
      "text/plain": [
       "3.75"
      ]
     },
     "execution_count": 32,
     "metadata": {},
     "output_type": "execute_result"
    }
   ],
   "source": [
    "# sample mean = sumation of all data entry (xi) / n-1\n",
    "# for example [1,2,3,4,5]\n",
    "# so smaple mean is \n",
    "(1+2+3+4+5)/4"
   ]
  },
  {
   "cell_type": "code",
   "execution_count": 33,
   "id": "7b24550a-cc9c-4313-ba9b-dfc620795e30",
   "metadata": {},
   "outputs": [],
   "source": [
    "# Q12. For a normal distribution data what is the relationship between its measure of central tendency?"
   ]
  },
  {
   "cell_type": "code",
   "execution_count": 34,
   "id": "c3aa2649-dd8e-491f-933f-f953c63aff0f",
   "metadata": {},
   "outputs": [],
   "source": [
    "# There are three main measures of central tendency: mode. median. mean."
   ]
  },
  {
   "cell_type": "code",
   "execution_count": 35,
   "id": "00b0a7a3-82cc-47b4-975f-7b763e30df65",
   "metadata": {},
   "outputs": [],
   "source": [
    "# Q13. How is covariance different from correlation?"
   ]
  },
  {
   "cell_type": "code",
   "execution_count": 36,
   "id": "db031f5c-2270-4e8d-a6f8-d70977f94cea",
   "metadata": {},
   "outputs": [],
   "source": [
    "# Covariance and correlation are two terms that are opposed and are both used in statistics and regression analysis.\n",
    "# Covariance shows you how the two variables differ, whereas correlation shows you how the two variables are related"
   ]
  },
  {
   "cell_type": "code",
   "execution_count": 37,
   "id": "fb243960-abb4-43b8-9af3-546375c73c98",
   "metadata": {},
   "outputs": [],
   "source": [
    "# Q14. How do outliers affect measures of central tendency and dispersion? Provide an example."
   ]
  },
  {
   "cell_type": "code",
   "execution_count": 39,
   "id": "4a5b7f1c-7dc4-4da8-bd8f-0b2bf042f6e5",
   "metadata": {},
   "outputs": [],
   "source": [
    "# Measures of central tendency are mean, median and mode. Outliers affect the mean value of the data but have little effect on the median or mode of a given set of data.\n",
    "# for example let (1,2,3,4) \n",
    "# so mean is 2.5 and median is 2.5 and let take (1,2,3,4,100) so 100 is the outlier\n",
    "# fo the mean is 22 but median is 3 so mean is affected more then median."
   ]
  },
  {
   "cell_type": "code",
   "execution_count": null,
   "id": "f9e0649c-2783-4a99-bcf1-b47afe44ad0c",
   "metadata": {},
   "outputs": [],
   "source": []
  }
 ],
 "metadata": {
  "kernelspec": {
   "display_name": "Python 3 (ipykernel)",
   "language": "python",
   "name": "python3"
  },
  "language_info": {
   "codemirror_mode": {
    "name": "ipython",
    "version": 3
   },
   "file_extension": ".py",
   "mimetype": "text/x-python",
   "name": "python",
   "nbconvert_exporter": "python",
   "pygments_lexer": "ipython3",
   "version": "3.10.8"
  }
 },
 "nbformat": 4,
 "nbformat_minor": 5
}
