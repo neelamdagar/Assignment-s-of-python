{
 "cells": [
  {
   "cell_type": "code",
   "execution_count": 1,
   "id": "b64530b0-d203-42e8-9b24-d20ca8ce8be1",
   "metadata": {},
   "outputs": [],
   "source": [
    "# Q1. Explain the difference between simple linear regression and multiple linear regression. Provide an\n",
    "# example of each."
   ]
  },
  {
   "cell_type": "code",
   "execution_count": 3,
   "id": "812c76b6-362d-4c20-b2ac-a9de65c20b5c",
   "metadata": {},
   "outputs": [],
   "source": [
    "# These are used for optimazation methods. In simple linear regression we first find best fit line and summation of difference of exact point to pridict \n",
    "# point should be minimal, whereas in multiple regresssion is used when we have more than one independent variable in dataset for predicting dependent \n",
    "# variable we find plan and summation of differnece of exact point to predict should we minimal.\n",
    "# for linear we have equation of best fit line hθ(x)=θ₀+θ₁x1 ,\n",
    "# for multiple we have equation of plan hθ(x) = θ₀ + θ₁x₁ + θ₂x₂ + ... + θₙxₙ\n",
    "# for example we have two dataset :\n",
    "# height weigth \n",
    "# 74      170\n",
    "# 80      180\n",
    "# 75      17.5 \n",
    "# in this dataset we have linear regression and we can find out best fit line using above euqation and use gradient descent for minimizing the error \n",
    "# and for that we have cost function that is J(θ₀,θ₁)=Summation of (Yi-hθ(xi))^2 and make graph of J(θ₁) and θ₁ by puting different different value of \n",
    "# θ₁,θ₀ for minimizing the error.\n",
    "# example of Multiple linear regression:\n",
    "# let take the dataset :\n",
    "# No of rooms  size of rooms  price of house\n",
    "# 4              medium        400K\n",
    "# 3              large         300K\n",
    "# so we have two independent feature that is predicting output feature(price).\n"
   ]
  },
  {
   "cell_type": "code",
   "execution_count": 5,
   "id": "287360c5-40b2-4d33-a90a-d27b02b66b29",
   "metadata": {},
   "outputs": [],
   "source": [
    "# Q2. Discuss the assumptions of linear regression. How can you check whether these assumptions hold in\n",
    "# a given dataset?\n",
    "# Answer: By checking linearity and visualize from the graph and construct best outfit line and minimize the error using convergent algorithm.\n",
    "# that is { \n",
    "#     θj:θj-alpha (∂J(θj) / ∂θj ) }\n",
    "# repeat until convergent to global mimina \n"
   ]
  },
  {
   "cell_type": "code",
   "execution_count": 6,
   "id": "a81d14f4-c6de-40ff-9123-47b8d6dfb11d",
   "metadata": {},
   "outputs": [],
   "source": [
    "# Q3. How do you interpret the slope and intercept in a linear regression model? Provide an example using\n",
    "# a real-world scenario."
   ]
  },
  {
   "cell_type": "code",
   "execution_count": 7,
   "id": "ee97ef85-287a-40c8-a6ee-75c9d1f592ad",
   "metadata": {},
   "outputs": [],
   "source": [
    "# We have equation of line hθ(x)=θ₀+θ₁x1 \n",
    "# The slope is θ₁ = the rate of change in y / rate of change in x this imply Δy/Δx.\n",
    "# Where intercept θ₀ is when x=0 line meet with y that point is called itercept \n",
    "# example : hθ(x)=θ₀+θ₁x1  \n",
    "#           hθ(x)=2+3x1\n",
    "#     here 2 is the intercept and 3 is slop of x "
   ]
  },
  {
   "cell_type": "code",
   "execution_count": 8,
   "id": "e0ed5365-5418-48a6-b335-ef96b32ee250",
   "metadata": {},
   "outputs": [],
   "source": [
    "# Q4. Explain the concept of gradient descent. How is it used in machine learning?"
   ]
  },
  {
   "cell_type": "code",
   "execution_count": 9,
   "id": "fa1b4960-a7bd-4f0c-b485-95a38d47783f",
   "metadata": {},
   "outputs": [],
   "source": [
    "# Gradient descent is used to minimize the error for simple  linear regression .\n",
    "# J(θ₀,θ₁)=Summation of (Yi-hθ(xi))^2 and make graph of J(θ₁) and θ₁ by puting different different value of \n",
    "#  θ₁,θ₀ for minimizing the error.\n"
   ]
  },
  {
   "cell_type": "code",
   "execution_count": 10,
   "id": "439a301c-7fdd-485e-bf18-1715fed9fee9",
   "metadata": {},
   "outputs": [],
   "source": [
    "# Q5. Describe the multiple linear regression model. How does it differ from simple linear regression?"
   ]
  },
  {
   "cell_type": "code",
   "execution_count": 11,
   "id": "bf35d4e9-51d1-4b65-a9b8-fa52f835c17c",
   "metadata": {},
   "outputs": [],
   "source": [
    "# Multiple linear regression is used for otimizing the dataset when we have more than one independent feature for predicting output model\n",
    "# and it is differ from simple linear regression because simple linear regression have one  indepedent feature for predicting output feature"
   ]
  },
  {
   "cell_type": "code",
   "execution_count": 12,
   "id": "364cab21-aa72-4550-92c3-656b45dd487c",
   "metadata": {},
   "outputs": [],
   "source": [
    "# Q6. Explain the concept of multicollinearity in multiple linear regression. How can you detect and\n",
    "# address this issue?"
   ]
  },
  {
   "cell_type": "code",
   "execution_count": 13,
   "id": "25b989aa-b2a4-4b83-b733-5d08193f50db",
   "metadata": {},
   "outputs": [],
   "source": [
    "# Multicollinearity refers to a situation in multiple linear regression where there is a high degree of correlation or \n",
    "# linear dependency among the independent variables.\n",
    "# When multicollinearity exists, it becomes difficult to separate the individual effects of the independent variables on the dependent variable.\n",
    "# It can lead to the following problems:\n",
    "# 1) Unstable and unreliable coefficient estimates\n",
    "# 2) Difficulty in interpreting the coefficients\n",
    "# To detect and address multicollinearity, you can take the following steps:\n",
    "\n",
    "# 1) Correlation analysis\n",
    "# 2) Feature selection\n",
    "# 3) Remove one or more correlated feature \n"
   ]
  },
  {
   "cell_type": "code",
   "execution_count": 14,
   "id": "80830a33-2be8-4dfc-a859-019a11ee8556",
   "metadata": {},
   "outputs": [],
   "source": [
    "# Q7. Describe the polynomial regression model. How is it different from linear regression?"
   ]
  },
  {
   "cell_type": "code",
   "execution_count": 15,
   "id": "260ed0c2-6ee2-492d-a98b-7be0d4783e91",
   "metadata": {},
   "outputs": [],
   "source": [
    "# Polynomian regression model is used to optimized the dataset for non-linear relationship , here error is very high and we used to ploynomail euation to find curve.\n",
    "# where is the linear regression we used line equation.\n",
    " # hθ(x)= θ₀ + θ₁x + θ₂x² + ... + θₙxⁿ\n",
    "# for polynomial degree 1 we have linear regression hθ(x)= θ₀ + θ₁x"
   ]
  },
  {
   "cell_type": "code",
   "execution_count": 16,
   "id": "e544c99c-29b9-49e3-a2c3-b293e612d880",
   "metadata": {},
   "outputs": [],
   "source": [
    "# Q8. What are the advantages and disadvantages of polynomial regression compared to linear\n",
    "# regression? In what situations would you prefer to use polynomial regression?"
   ]
  },
  {
   "cell_type": "code",
   "execution_count": 17,
   "id": "52919bca-e65c-4e37-a0b3-966b53d0cf7b",
   "metadata": {},
   "outputs": [],
   "source": [
    "# Advantages: 1) Captured non-linearity relationship.\n",
    "# 2) Flexibility: By including higher-order polynomial terms, polynomial regression offers flexibility in fitting the data and capturing different patterns and trends.\n",
    "# Disadvantages: 1) Overfitting : The train dataset perform well but on new dataset perform poor .\n",
    "# 2) Increased complexity: As we increase degree of polynomial the modal become more complex and harder.\n",
    "#  we can used it :\n",
    "# for non-linear relationship : When variable have not linear relationship\n",
    "    "
   ]
  },
  {
   "cell_type": "code",
   "execution_count": null,
   "id": "e34bed1a-7efe-4095-a60f-ca91de79df98",
   "metadata": {},
   "outputs": [],
   "source": []
  }
 ],
 "metadata": {
  "kernelspec": {
   "display_name": "Python 3 (ipykernel)",
   "language": "python",
   "name": "python3"
  },
  "language_info": {
   "codemirror_mode": {
    "name": "ipython",
    "version": 3
   },
   "file_extension": ".py",
   "mimetype": "text/x-python",
   "name": "python",
   "nbconvert_exporter": "python",
   "pygments_lexer": "ipython3",
   "version": "3.10.8"
  }
 },
 "nbformat": 4,
 "nbformat_minor": 5
}
