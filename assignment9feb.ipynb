{
 "cells": [
  {
   "cell_type": "code",
   "execution_count": 1,
   "id": "4c780f6e-325a-4818-bdf1-28d56bd99687",
   "metadata": {},
   "outputs": [],
   "source": [
    "# Q1, Create a vehicle class with an init method having instance variables as name_of_vehicle, max_speed\n",
    "# and average_of_vehicle."
   ]
  },
  {
   "cell_type": "code",
   "execution_count": 7,
   "id": "1b5862ac-3319-47f3-8c4e-dc447cce00e3",
   "metadata": {},
   "outputs": [],
   "source": [
    "class vehical:\n",
    "    def __init__(self,name_of_vehical,max_speed,average_of_vehical):\n",
    "        self.vehical=name_of_vehical\n",
    "        self.speed=max_speed\n",
    "        self.averagevehical=average_of_vehical\n",
    "    def details(self):\n",
    "        return f\"The name of vehical is { self.vehical} , maximum speed {self.speed} and average of vehical {self.averagevehical}\""
   ]
  },
  {
   "cell_type": "code",
   "execution_count": 8,
   "id": "b058fd32-7cfd-44d5-b782-a218db0f10cd",
   "metadata": {},
   "outputs": [],
   "source": [
    "vehical1=vehical(\"car\",120,3)"
   ]
  },
  {
   "cell_type": "code",
   "execution_count": 9,
   "id": "00c04d87-18f9-4146-9bcd-90918a6916e4",
   "metadata": {},
   "outputs": [
    {
     "data": {
      "text/plain": [
       "'The name of vehical is car , maximum speed 120 and average of vehical 3'"
      ]
     },
     "execution_count": 9,
     "metadata": {},
     "output_type": "execute_result"
    }
   ],
   "source": [
    "vehical1.details()"
   ]
  },
  {
   "cell_type": "code",
   "execution_count": 11,
   "id": "fe029079-7d78-4407-994f-26e724d2cd12",
   "metadata": {},
   "outputs": [],
   "source": [
    "# Q2. Create a child class car from the vehicle class created in Que 1, which will inherit the vehicle class.\n",
    "# Create a method named seating_capacity which takes capacity as an argument and returns the name of\n",
    "# the vehicle and its seating capacity."
   ]
  },
  {
   "cell_type": "code",
   "execution_count": 82,
   "id": "14911148-2a89-406b-a7ad-703b464139be",
   "metadata": {},
   "outputs": [],
   "source": [
    "class vehical:\n",
    "    def __init__(self,name_of_vehical,max_speed,average_of_vehical):\n",
    "        self.vehical=name_of_vehical\n",
    "        self.speed=max_speed\n",
    "        self.averagevehical=average_of_vehical\n",
    "    def details(self):\n",
    "        return f\"The name of vehical is { self.vehical} , maximum speed {self.speed} and average of vehical {self.averagevehical}\"\n",
    "    def seating_capacity(self, capacity):\n",
    "        return f\"The seating capacity of a {self.vehical} is {capacity}\""
   ]
  },
  {
   "cell_type": "code",
   "execution_count": 83,
   "id": "ab8998dd-4d95-42bb-82bc-0758a03ae079",
   "metadata": {},
   "outputs": [],
   "source": [
    "class child(vehical):\n",
    "    pass"
   ]
  },
  {
   "cell_type": "code",
   "execution_count": 84,
   "id": "6413135d-2472-4bdd-8082-a19396b4c1fb",
   "metadata": {},
   "outputs": [],
   "source": [
    "vehical2=child(\"bike\",56,9)"
   ]
  },
  {
   "cell_type": "code",
   "execution_count": 86,
   "id": "d4883538-9e8a-48f8-af64-2d81764ec57a",
   "metadata": {},
   "outputs": [
    {
     "data": {
      "text/plain": [
       "'The seating capacity of a bike is 7'"
      ]
     },
     "execution_count": 86,
     "metadata": {},
     "output_type": "execute_result"
    }
   ],
   "source": [
    "vehical2.seating_capacity(7)"
   ]
  },
  {
   "cell_type": "code",
   "execution_count": 88,
   "id": "7cc23691-a62d-40c7-829b-53f965071ae6",
   "metadata": {},
   "outputs": [],
   "source": [
    "# Q3. What is multiple inheritance? Write a python code to demonstrate multiple inheritance."
   ]
  },
  {
   "cell_type": "code",
   "execution_count": 93,
   "id": "5ab7be0a-ba3c-4ecf-887a-ac220dd102a2",
   "metadata": {},
   "outputs": [],
   "source": [
    "#Answer:  When a class is derived from more than one base class it is called multiple Inheritance. \n",
    "# The derived class inherits all the features of the base case.\n",
    "# for example : \n",
    "class base1:\n",
    "    def test1(self):\n",
    "        return \"this is base1 class\"\n",
    "\n"
   ]
  },
  {
   "cell_type": "code",
   "execution_count": 94,
   "id": "c4cb1a2b-af3a-42e4-a72a-57433bbe64a3",
   "metadata": {},
   "outputs": [],
   "source": [
    "class base2:\n",
    "    def test2(self):\n",
    "        return \"this is base2 class\"\n",
    "\n",
    "    "
   ]
  },
  {
   "cell_type": "code",
   "execution_count": 95,
   "id": "c1c364a8-0879-45be-a9af-d890a9ea10ca",
   "metadata": {},
   "outputs": [],
   "source": [
    "class base(base1,base2):\n",
    "    pass"
   ]
  },
  {
   "cell_type": "code",
   "execution_count": 101,
   "id": "69fe1e7a-7311-445a-a70d-e169b60156ba",
   "metadata": {},
   "outputs": [],
   "source": [
    "pw=base()"
   ]
  },
  {
   "cell_type": "code",
   "execution_count": 102,
   "id": "72a178e2-6bb5-42d7-8fcb-1db925f68789",
   "metadata": {},
   "outputs": [
    {
     "data": {
      "text/plain": [
       "'this is base2 class'"
      ]
     },
     "execution_count": 102,
     "metadata": {},
     "output_type": "execute_result"
    }
   ],
   "source": [
    "pw.test2()"
   ]
  },
  {
   "cell_type": "code",
   "execution_count": 103,
   "id": "4b0d2814-7b63-461a-bc76-3757e9b4d83f",
   "metadata": {},
   "outputs": [
    {
     "data": {
      "text/plain": [
       "'this is base1 class'"
      ]
     },
     "execution_count": 103,
     "metadata": {},
     "output_type": "execute_result"
    }
   ],
   "source": [
    "pw.test1()"
   ]
  },
  {
   "cell_type": "code",
   "execution_count": 149,
   "id": "cceb40d9-a14a-4585-bf44-065195396b99",
   "metadata": {},
   "outputs": [],
   "source": [
    "#Q 4: What are getter and setter in python? Create a class and create a getter and a setter method in this class\n",
    "#Getters: These are the methods used in Object-Oriented Programming (OOPS) which helps to access the private attributes from a class. \n",
    "#Setters: These are the methods used in OOPS feature which helps to set the value to private attributes in a class.\n",
    "class pwskills:\n",
    "    def __init__(self,name,students_id):\n",
    "        self.__id=students_id\n",
    "        self.name=name\n",
    "    @property\n",
    "    def getter_id(cls):\n",
    "        return cls.__id\n",
    "    @getter_id.setter\n",
    "    def setter_id(cls,id1):\n",
    "        cls.__id=id1\n",
    "    "
   ]
  },
  {
   "cell_type": "code",
   "execution_count": 150,
   "id": "ffb1f3f7-b774-4f0a-b882-aa10bedc31ba",
   "metadata": {},
   "outputs": [],
   "source": [
    "neelam=pwskills(\"NEELAM\",102)"
   ]
  },
  {
   "cell_type": "code",
   "execution_count": 151,
   "id": "9f4251a6-497a-4462-b759-6931e0fe4d7e",
   "metadata": {},
   "outputs": [
    {
     "data": {
      "text/plain": [
       "102"
      ]
     },
     "execution_count": 151,
     "metadata": {},
     "output_type": "execute_result"
    }
   ],
   "source": [
    "neelam.getter_id"
   ]
  },
  {
   "cell_type": "code",
   "execution_count": 153,
   "id": "6b4719d8-fbe3-405a-a6a4-24427857e5ea",
   "metadata": {},
   "outputs": [],
   "source": [
    "neelam.setter_id=101"
   ]
  },
  {
   "cell_type": "code",
   "execution_count": 155,
   "id": "4ee6751a-153d-4589-8643-5b7f1e210c13",
   "metadata": {},
   "outputs": [
    {
     "data": {
      "text/plain": [
       "101"
      ]
     },
     "execution_count": 155,
     "metadata": {},
     "output_type": "execute_result"
    }
   ],
   "source": [
    "neelam.getter_id"
   ]
  },
  {
   "cell_type": "code",
   "execution_count": null,
   "id": "7b25213b-3bcc-481f-9af2-7d0abdae8c39",
   "metadata": {},
   "outputs": [],
   "source": [
    "# Q5.What is method overriding in python? Write a python code to demonstrate method overriding.\n",
    "# Method Overriding in Python is an OOPs concept closely related to inheritance. \n",
    "# When a child class method overrides(or, provides it's own implementation) the parent class method of the same name,\n",
    "# parameters and return type, it is known as method overriding.\n"
   ]
  }
 ],
 "metadata": {
  "kernelspec": {
   "display_name": "Python 3 (ipykernel)",
   "language": "python",
   "name": "python3"
  },
  "language_info": {
   "codemirror_mode": {
    "name": "ipython",
    "version": 3
   },
   "file_extension": ".py",
   "mimetype": "text/x-python",
   "name": "python",
   "nbconvert_exporter": "python",
   "pygments_lexer": "ipython3",
   "version": "3.10.8"
  }
 },
 "nbformat": 4,
 "nbformat_minor": 5
}
