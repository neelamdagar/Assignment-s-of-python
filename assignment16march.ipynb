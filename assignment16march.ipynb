{
 "cells": [
  {
   "cell_type": "code",
   "execution_count": 1,
   "id": "27511c0c-f084-4362-b957-335a59c893fa",
   "metadata": {},
   "outputs": [],
   "source": [
    "# # Question 1 : Define overfitting and underfitting in machine learning.\n",
    "# What are the consequence of each , and how can they be mitigated?"
   ]
  },
  {
   "cell_type": "code",
   "execution_count": 2,
   "id": "26309c40-8e64-435c-a8b6-82b794e780d5",
   "metadata": {},
   "outputs": [],
   "source": [
    "# Answer: Overfitting : modal  trained  accuracy is high and test accuracy low in this we have low biase and high varience.\n",
    " # When the model fits the training data too well and performs poorly on new data\n",
    "# Underfitting: modal tarined acccuracy is low and test accuracy is also low in this we have high biase and high varience.\n",
    " # When the model fits the training data poorly and performs well on new data\n"
   ]
  },
  {
   "cell_type": "code",
   "execution_count": 4,
   "id": "2a953c3c-ed15-4443-ab64-bd7362c47ee7",
   "metadata": {},
   "outputs": [],
   "source": [
    "# Question : How we can reduce overfitting ? Explain in brief?"
   ]
  },
  {
   "cell_type": "code",
   "execution_count": 6,
   "id": "446baecf-4b85-486b-911c-c3a0cbf7ac50",
   "metadata": {},
   "outputs": [],
   "source": [
    "# # # Answer: Early stopping\n",
    "# # Early stopping pauses the training phase before the machine learning model learns the noise in the data. However, getting the timing right is important;\n",
    "# else the model will still not give accurate results.\n",
    "# # Pruning\n",
    "# # You might identify several features or parameters that impact the final prediction when you build a model. Feature selection—or pruning—identifies the most\n",
    "# important features within the training set and eliminates irrelevant ones. For example, to predict if an image is an animal or human, you can look at various \n",
    "# input parameters like face shape, ear position, body structure, etc. You may prioritize face shape and ignore the shape of the eyes.\n",
    "# # Regularization\n",
    "# # Regularization is a collection of training/optimization techniques that seek to reduce overfitting. These methods try to eliminate those factors that do not\n",
    "# impact the prediction outcomes by grading features based on importance. For example, mathematical calculations apply a penalty value to features with minimal impact.\n",
    "# Consider a statistical model attempting to predict the housing prices of a city in 20 years. Regularization would give a lower penalty value to features like \n",
    "# population growth and average annual income but a higher penalty value to the average annual temperature of the city.\n",
    "# # Ensembling\n",
    "# # Ensembling combines predictions from several separate machine learning algorithms. Some models are called weak learners because their results are often inaccurate.\n",
    "# Ensemble methods combine all the weak learners to get more accurate results. They use multiple models to analyze sample data and pick the most accurate outcomes. \n",
    "# The two main ensemble methods are bagging and boosting. Boosting trains different machine learning models one after another to get the final result, while bagging \n",
    "# trains them in parallel."
   ]
  },
  {
   "cell_type": "code",
   "execution_count": 7,
   "id": "1506a591-2cbf-4d29-b178-1b22dcd64a02",
   "metadata": {},
   "outputs": [],
   "source": [
    "# Question 3 : Explain underfitting . List scenarios where underfitting can occure in machine learning.\n",
    "# Answer : Underfitting: modal tarined acccuracy is low and test accuracy is also low in this we have high biase and high varience.\n",
    " # When the model fits the training data poorly and performs well on new data\n",
    "# Data used for training is not cleaned and contains noise (garbage values) in it.\n",
    "# The model has a high bias.\n",
    "# The size of the training dataset used is not enough.\n",
    "# The model is too simple.\n",
    "# The modal has high variance"
   ]
  },
  {
   "cell_type": "code",
   "execution_count": 8,
   "id": "c3183afd-32e5-4476-acea-3aba80ff1e19",
   "metadata": {},
   "outputs": [],
   "source": [
    "# Question 4:  Explain the bias-variance tradeoff in machine learning. What is the relationship between bias and\n",
    "# variance, and how do they affect model performance?\n",
    "# Bias : It is a phenomenon that occure when an alogrithum produces resluts that are systemtically prejudiced due to erroneous assumptions in the ML.\n",
    "# Variance: It is a phenomenon that occure when an alorithum produce an random error.\n",
    "# Bias define for tarined data and variance is define for test data.\n",
    "# Bias is high when trained data accuracy is low and high when tarined data accuracy is high.\n",
    "# Variance is high when test data accuracy is low and high when test data accuracy is high.\n"
   ]
  },
  {
   "cell_type": "code",
   "execution_count": 9,
   "id": "417747e0-c5c8-4610-883d-763b4f7b2ff4",
   "metadata": {},
   "outputs": [],
   "source": [
    "# Q5: Discuss some common methods for detecting overfitting and underfitting in machine learning models.\n",
    "# How can you determine whether your model is overfitting or underfitting?"
   ]
  },
  {
   "cell_type": "code",
   "execution_count": 10,
   "id": "daa579f4-ea76-409a-9a28-c7eb28d6b3ba",
   "metadata": {},
   "outputs": [],
   "source": [
    "# Bias and variance is comman methos for detecting overfitting and underfitting in machine learning.\n",
    "\n",
    "# We can determine whether a predictive model is underfitting or overfitting the training data by looking at\n",
    "# the prediction error on the training data and the evaluation data"
   ]
  },
  {
   "cell_type": "code",
   "execution_count": 11,
   "id": "8cfdd109-e859-4194-b993-211b53c11e55",
   "metadata": {},
   "outputs": [],
   "source": [
    "# Q6: Compare and contrast bias and variance in machine learning. What are some examples of high bias\n",
    "# and high variance models, and how do they differ in terms of their performance?"
   ]
  },
  {
   "cell_type": "code",
   "execution_count": 12,
   "id": "fda2fc7f-4840-4420-ba0e-5f8d5f1ed161",
   "metadata": {},
   "outputs": [],
   "source": [
    "# Bias : It is a phenomenon that occure when an alogrithum produces resluts that are systemtically prejudiced due to erroneous assumptions in the ML.\n",
    "# Variance: It is a phenomenon that occure when an alorithum produce an random error.\n",
    "# Bias define for tarined data and variance is define for test data.\n",
    "# underfitting is an example of high bias and high variance models.\n",
    "\n"
   ]
  },
  {
   "cell_type": "code",
   "execution_count": 13,
   "id": "8a335427-a764-41df-b0b7-8aba5d15ed85",
   "metadata": {},
   "outputs": [],
   "source": [
    "# Q7: What is regularization in machine learning, and how can it be used to prevent overfitting? Describe\n",
    "# some common regularization techniques and how they work."
   ]
  },
  {
   "cell_type": "code",
   "execution_count": 14,
   "id": "f23c2e01-0fc6-4fd5-af8b-540ac8dcb48b",
   "metadata": {},
   "outputs": [],
   "source": [
    "# Regularization is a technique that penalizes the coefficient. In an overfit model, the coefficients are generally inflated. Thus,\n",
    "# Regularization adds penalties to the parameters and avoids them weigh heavily.\n",
    "## Regularization\n",
    "# # Regularization is a collection of training/optimization techniques that seek to reduce overfitting. These methods try to eliminate those factors that do not\n",
    "# impact the prediction outcomes by grading features based on importance. For example, mathematical calculations apply a penalty value to features with minimal impact.\n",
    "# Consider a statistical model attempting to predict the housing prices of a city in 20 years. Regularization would give a lower penalty value to features like \n",
    "# population growth and average annual income but a higher penalty value to the average annual temperature of the city."
   ]
  },
  {
   "cell_type": "code",
   "execution_count": null,
   "id": "0c07301f-37e5-46f7-9442-faad6c491297",
   "metadata": {},
   "outputs": [],
   "source": []
  }
 ],
 "metadata": {
  "kernelspec": {
   "display_name": "Python 3 (ipykernel)",
   "language": "python",
   "name": "python3"
  },
  "language_info": {
   "codemirror_mode": {
    "name": "ipython",
    "version": 3
   },
   "file_extension": ".py",
   "mimetype": "text/x-python",
   "name": "python",
   "nbconvert_exporter": "python",
   "pygments_lexer": "ipython3",
   "version": "3.10.8"
  }
 },
 "nbformat": 4,
 "nbformat_minor": 5
}
