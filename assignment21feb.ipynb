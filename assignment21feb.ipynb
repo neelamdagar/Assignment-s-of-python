{
 "cells": [
  {
   "cell_type": "code",
   "execution_count": null,
   "id": "9171bb39-4bba-47d6-b1c3-0d86153928ae",
   "metadata": {},
   "outputs": [],
   "source": [
    "# Q1. What is Web Scraping? Why is it Used? Give three areas where Web Scraping is used to get data."
   ]
  },
  {
   "cell_type": "code",
   "execution_count": null,
   "id": "6b73e23c-2906-4071-bc6e-41c4924f0518",
   "metadata": {},
   "outputs": [],
   "source": [
    "# Web scraping is used in a variety of digital businesses that rely on data harvesting. Legitimate use cases include: Search engine bots crawling a site,\n",
    "# analyzing its content and then ranking it. Price comparison sites deploying bots to auto-fetch prices \n",
    "# and product descriptions for allied seller websites.\n"
   ]
  },
  {
   "cell_type": "code",
   "execution_count": null,
   "id": "2b10a335-67e3-4df4-9466-7706d4465202",
   "metadata": {},
   "outputs": [],
   "source": [
    "# when you visit at any site and you have to login or sign in that website and you enter in that website so web Scrape is store all the data like email_id\n",
    "# name, phone number, and store at own local website . It is maniely  done by boat and this collect all details and store in priavet database . \n",
    "# for Example through Hypertext Transfer Protocol we cam Access Easliy worldwide web\n",
    "# if you have a Licence then you can use a web Scrapering \n",
    "# It is used for contact _ scraping , Web indexing , data mining , research, web mining etc.\n",
    "\n",
    "\n"
   ]
  },
  {
   "cell_type": "code",
   "execution_count": 1,
   "id": "8ca2503c-48b7-4af9-ab4f-afcba088d331",
   "metadata": {},
   "outputs": [],
   "source": [
    "# Q2. What are the different methods used for Web Scraping?\n",
    "# Answer: 1) HTML parsing\n",
    "# 2) aws\n",
    "# 3) azure"
   ]
  },
  {
   "cell_type": "code",
   "execution_count": 2,
   "id": "aa48990d-d28e-410c-8e0c-7ba3aefac395",
   "metadata": {},
   "outputs": [],
   "source": [
    "# # Q3. What is Beautiful Soup? Why is it used?\n",
    "# Beautifulsoup is a libary in python that make easy to acess information from web page by scraping html and \n",
    "# XML pages.\n",
    "# it is used for modify data by parser. We can modify data by parseing hmtl and xml pages."
   ]
  },
  {
   "cell_type": "code",
   "execution_count": 3,
   "id": "81ed4ad8-e104-4810-968f-4550c795f6a7",
   "metadata": {},
   "outputs": [],
   "source": [
    "# Q4. Why is flask used in this Web Scraping project?\n",
    "# flak is lightweight framework to bulid a websites.We will use this parse our collected data and display as html '\n",
    "# in new html file. The requests module allows us to send http requests to the website we want to scrape."
   ]
  },
  {
   "cell_type": "code",
   "execution_count": null,
   "id": "a0139fb3-c065-4235-b310-f076cb9e6b17",
   "metadata": {},
   "outputs": [],
   "source": [
    "# Q5. Write the names of AWS services used in this project. Also, explain the use of each service.\n",
    "# EC2 from AWS Services is an IaaS (Infrastructure as a Service) offering. It provides you with secure, scalable,\n",
    "# and resizable server instances with desired compute capacity. You can select the OS, its RAM, storage capacity, and processor. In an EC2 instance,\n",
    "# you can do anything from installing software and IDE for programming to even hosting a website. With the help of EC2, you can easily boot and run new server\n",
    "# instances known as EC2 instances. Major companies that use EC2 in their cloud architecture are Toyota, Netflix, and Salesforce. \n",
    "# Learn the difference between AWS and Salesforce in our comparison blog on AWS vs Salesforce.\n",
    "# 2) Elastic Beanstalk is a Platform as a Service (PaaS) offering from AWS that helps you in hosting a website. As it \n",
    "# is PaaS, you do not get complete access to the operating system. Rather, you get a dashboard, and with the help of\n",
    "# it, you can upload your code, which will be hosted automatically. Using this dashboard, you can run your EC2 instances and databases and easily integrate other AWS services,\n",
    "# such as Elastic Load Balancing.\n",
    "# 3) AWS Firewall Manager is a web application firewall that protects web applications or API gateway against common \n",
    "# web exploits and bots. It simplifies the administration and maintenance tasks across multiple accounts and resources for a variety of protections such as AWS WAF, AWS Shield Advanced, Amazon VPC security groups, AWS Network Firewall,\n",
    "# and Amazon Route 53 Resolver DNS Firewall.\n",
    "# 4) Amazon Cognito is one of the services offered by Amazon that controls user authentication and access for mobile \n",
    "# applications. One of the key functions of Amazon Cognito is that it saves and synchronizes end-user data, \n",
    "# which lets an application developer focus on code without worrying about the back-end infrastructure.\n",
    "# This further accelerates the mobile application development process. It also supports end-users sign-in in with\n",
    "# social identity providers such as Facebook, Apple, Google, and many others."
   ]
  }
 ],
 "metadata": {
  "kernelspec": {
   "display_name": "Python 3 (ipykernel)",
   "language": "python",
   "name": "python3"
  },
  "language_info": {
   "codemirror_mode": {
    "name": "ipython",
    "version": 3
   },
   "file_extension": ".py",
   "mimetype": "text/x-python",
   "name": "python",
   "nbconvert_exporter": "python",
   "pygments_lexer": "ipython3",
   "version": "3.10.8"
  }
 },
 "nbformat": 4,
 "nbformat_minor": 5
}
