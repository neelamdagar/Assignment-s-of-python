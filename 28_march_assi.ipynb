{
 "cells": [
  {
   "cell_type": "code",
   "execution_count": 1,
   "id": "b85e008a-4d64-4051-9bf1-d20610696f65",
   "metadata": {},
   "outputs": [],
   "source": [
    "# Q1. What is Ridge Regression, and how does it differ from ordinary least squares regression?"
   ]
  },
  {
   "cell_type": "code",
   "execution_count": 13,
   "id": "0ef6c11e-8962-4446-a6e5-268123748e3a",
   "metadata": {},
   "outputs": [],
   "source": [
    "# It help to reduce the overfitting, our datset has minimum error on the train datset but on test dataset error increase for \n",
    "# reducing that error we use Ridge regression, It can handle multicollinearity and coeffricient shriking  toward zero but \n",
    "# not exactly zero like Lasso regression "
   ]
  },
  {
   "cell_type": "code",
   "execution_count": 3,
   "id": "adc7814a-a86b-42c9-a2f1-fed27fc05464",
   "metadata": {},
   "outputs": [],
   "source": [
    "# Q2. What are the assumptions of Ridge Regression?"
   ]
  },
  {
   "cell_type": "code",
   "execution_count": 4,
   "id": "1af6fb08-800e-49bb-a627-b10313a236c7",
   "metadata": {},
   "outputs": [],
   "source": [
    "# 1) Linearity: The linear relation between the indepedent variable and depedent variable, Ridge regression is the relationship\n",
    "# as the linear combination of these features.\n",
    "# 2) Independence: The observations in the dataset are assumed to be independent of each other.\n",
    "# 3) Handle multicollinearity : It help to reduce overfitting. \n"
   ]
  },
  {
   "cell_type": "code",
   "execution_count": 6,
   "id": "5bf3b84e-d091-428d-b282-9d8f3c3970d4",
   "metadata": {},
   "outputs": [],
   "source": [
    "# Q3. How do you select the value of the tuning parameter (lambda) in Ridge Regression?"
   ]
  },
  {
   "cell_type": "code",
   "execution_count": 7,
   "id": "e485667c-c398-4e9c-a6ac-fda30eeb8116",
   "metadata": {},
   "outputs": [],
   "source": [
    "# ∑(yi-ŷi)^2+lambda∑(slope)^2 if we increase the value of lambda, then value of slope decreses but it will never be zero \n",
    "# so increasing the lambda will help reducing error on new dataset."
   ]
  },
  {
   "cell_type": "code",
   "execution_count": 8,
   "id": "7a348fa4-3d45-46c6-84b9-a3b9df212e19",
   "metadata": {},
   "outputs": [],
   "source": [
    "# Q4. Can Ridge Regression be used for feature selection? If yes, how?"
   ]
  },
  {
   "cell_type": "code",
   "execution_count": 9,
   "id": "52388cad-08ee-4b2d-9902-dc4033787244",
   "metadata": {},
   "outputs": [],
   "source": [
    "# yes Ridge regression can be used for feature selection.\n",
    "# 1) Hyper parameter tell us the amount of shrinking applied to the coefficient.\n",
    "# 2) Coefficient magnitude : Ridge regression shrink coefficient toward zero but not exactly zero but shrinking toward  zero help\n",
    "#  to select the important feature.\n"
   ]
  },
  {
   "cell_type": "code",
   "execution_count": 10,
   "id": "1a65eae3-b7e2-4ddf-a81b-0c3e5cd48708",
   "metadata": {},
   "outputs": [],
   "source": [
    "# Q5. How does the Ridge Regression model perform in the presence of multicollinearity?"
   ]
  },
  {
   "cell_type": "code",
   "execution_count": 11,
   "id": "539288ee-37ad-45d1-8709-30359fd04ec9",
   "metadata": {},
   "outputs": [],
   "source": [
    "# Multicollinearity is used when we have degree of correlation is high so that we are not able to separte the individual effect \n",
    "# of independent variable on the dependent variable for selecting important feature we use multicollinearity.\n",
    "# 1) Hyper parameter tell us the amount of shrinking applied to the coefficient.\n",
    "# 2) Coefficient magnitude : Ridge regression shrink coefficient toward zero but not exactly zero but shrinking toward  zero help\n",
    "#    to select the important feature. \n",
    "# 3) we select the important feature for predicting the model \n"
   ]
  },
  {
   "cell_type": "code",
   "execution_count": 12,
   "id": "acee716d-9b71-4303-9f7c-849ed1393431",
   "metadata": {},
   "outputs": [],
   "source": [
    "# Q6. Can Ridge Regression handle both categorical and continuous independent variables?"
   ]
  },
  {
   "cell_type": "code",
   "execution_count": 14,
   "id": "93b61d8d-4906-47a3-b82b-31ea9a78665b",
   "metadata": {},
   "outputs": [],
   "source": [
    "# Yes Ridge regression handle both categorical and continuous independent feature.\n",
    "# We convert categorical feature into numerical by some techinques like one hot encoding, Nomianl, label and ordinal etc. "
   ]
  },
  {
   "cell_type": "code",
   "execution_count": 15,
   "id": "7a9265a3-3d0f-47eb-b117-d28554364aac",
   "metadata": {},
   "outputs": [],
   "source": [
    "# Q7. How do you interpret the coefficients of Ridge Regression?"
   ]
  },
  {
   "cell_type": "code",
   "execution_count": 16,
   "id": "432d7346-7b8d-4b4a-8b3f-41178a70f9aa",
   "metadata": {},
   "outputs": [],
   "source": [
    "# Ridge regression coefficient = change in magnitude of x/ change in magnitude of y\n",
    "# We interpert it by simple linear regression method in python from sklearn.linear_model import LinearRegression"
   ]
  },
  {
   "cell_type": "code",
   "execution_count": 17,
   "id": "43399770-800e-4511-b19b-168571dff09c",
   "metadata": {},
   "outputs": [],
   "source": [
    "# Q8. Can Ridge Regression be used for time-series data analysis? If yes, how?"
   ]
  },
  {
   "cell_type": "code",
   "execution_count": 18,
   "id": "f9504179-6032-4863-a914-e46264ee51f2",
   "metadata": {},
   "outputs": [],
   "source": [
    "# # Ridge Regression can be used for time-series data analysis, \n",
    "# # particularly when there is a need to incorporate regularization to handle multicollinearity and overfitting. \n",
    "# # However, there are some considerations to keep in mind when applying Ridge Regression to time-series data:\n",
    "# 1) Stationarity\n",
    "# 2) Lagged Variables\n",
    "# 3) Hyper paramter \n",
    "# 4) Rolling Window Approach\n"
   ]
  },
  {
   "cell_type": "code",
   "execution_count": null,
   "id": "7b770d18-a996-41bd-95e8-8e315d3fad56",
   "metadata": {},
   "outputs": [],
   "source": []
  }
 ],
 "metadata": {
  "kernelspec": {
   "display_name": "Python 3 (ipykernel)",
   "language": "python",
   "name": "python3"
  },
  "language_info": {
   "codemirror_mode": {
    "name": "ipython",
    "version": 3
   },
   "file_extension": ".py",
   "mimetype": "text/x-python",
   "name": "python",
   "nbconvert_exporter": "python",
   "pygments_lexer": "ipython3",
   "version": "3.10.8"
  }
 },
 "nbformat": 4,
 "nbformat_minor": 5
}
