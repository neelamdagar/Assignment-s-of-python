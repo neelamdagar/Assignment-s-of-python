{
 "cells": [
  {
   "cell_type": "code",
   "execution_count": 1,
   "id": "e378c5f0-9887-4663-b15d-a45ab30e6734",
   "metadata": {},
   "outputs": [],
   "source": [
    "# Q1. Create a list in python using the followings: 2,3,4,5,6,7 with variable ‘a’\n",
    "# Add ‘mango to the above list\n",
    "# Also add banana, grapes & orange in the list\n",
    "# insert apple in the 5th position of a variable ‘a’\n",
    "#  Remove last item from the list"
   ]
  },
  {
   "cell_type": "code",
   "execution_count": 2,
   "id": "e827cafe-ca3a-47e0-84d7-6e0af030111d",
   "metadata": {},
   "outputs": [],
   "source": [
    "list1=[2,3,4,5,6,7,\"a\"]"
   ]
  },
  {
   "cell_type": "code",
   "execution_count": 3,
   "id": "15486ecb-96ba-48e8-8420-6fd4a0847d9d",
   "metadata": {},
   "outputs": [],
   "source": [
    "list1.append(\"mango\")"
   ]
  },
  {
   "cell_type": "code",
   "execution_count": 8,
   "id": "f718d3e9-acd4-419c-979a-bdd3aba973fe",
   "metadata": {},
   "outputs": [],
   "source": [
    "list1.append(\"banana\")\n",
    "list1.append(\"grapes\")\n",
    "list1.append(\"orange\")"
   ]
  },
  {
   "cell_type": "code",
   "execution_count": 11,
   "id": "693eda6f-5728-4548-bbe0-7cf24f3de0f9",
   "metadata": {},
   "outputs": [],
   "source": [
    "list1.insert(5,\"apple\")"
   ]
  },
  {
   "cell_type": "code",
   "execution_count": 12,
   "id": "10fc3087-38fe-4fe4-8ffd-695a4767d204",
   "metadata": {},
   "outputs": [
    {
     "data": {
      "text/plain": [
       "'orange'"
      ]
     },
     "execution_count": 12,
     "metadata": {},
     "output_type": "execute_result"
    }
   ],
   "source": [
    "list1.pop()"
   ]
  },
  {
   "cell_type": "code",
   "execution_count": 13,
   "id": "57160011-5f3b-4b63-ae10-ba4e16fb3e60",
   "metadata": {},
   "outputs": [
    {
     "data": {
      "text/plain": [
       "[2, 3, 4, 5, 6, 'apple', 7, 'a', 'mango', 'banana', 'banana', 'grapes']"
      ]
     },
     "execution_count": 13,
     "metadata": {},
     "output_type": "execute_result"
    }
   ],
   "source": [
    "list1"
   ]
  },
  {
   "cell_type": "code",
   "execution_count": 14,
   "id": "62f805e3-b541-440f-a5ab-a605cdc010e1",
   "metadata": {},
   "outputs": [],
   "source": [
    "# Q2.\n",
    "# L = [1,2,3,4,5,6,7]\n",
    "# Using the above list slice from 1:4"
   ]
  },
  {
   "cell_type": "code",
   "execution_count": 16,
   "id": "42db3001-245d-4754-a603-a0a00a53e459",
   "metadata": {},
   "outputs": [
    {
     "data": {
      "text/plain": [
       "[2, 3, 4]"
      ]
     },
     "execution_count": 16,
     "metadata": {},
     "output_type": "execute_result"
    }
   ],
   "source": [
    "L = [1,2,3,4,5,6,7]\n",
    "L[1:4]"
   ]
  },
  {
   "cell_type": "code",
   "execution_count": 17,
   "id": "13969ca3-573d-4903-be1a-6a99b753e21d",
   "metadata": {},
   "outputs": [],
   "source": [
    "# Q3. Reverse the order of given string L = [4,5,6,8,3] Without using reverse() function."
   ]
  },
  {
   "cell_type": "code",
   "execution_count": null,
   "id": "351de454-bd4f-46d4-b3e1-e08e788e82d4",
   "metadata": {},
   "outputs": [
    {
     "data": {
      "text/plain": [
       "[4, 5, 6, 8, 3]"
      ]
     },
     "execution_count": 25,
     "metadata": {},
     "output_type": "execute_result"
    }
   ],
   "source": [
    "L"
   ]
  },
  {
   "cell_type": "code",
   "execution_count": 27,
   "id": "bc028c95-447c-4c97-8b58-95ffdca421a2",
   "metadata": {},
   "outputs": [
    {
     "data": {
      "text/plain": [
       "[3, 8, 6, 5, 4]"
      ]
     },
     "execution_count": 27,
     "metadata": {},
     "output_type": "execute_result"
    }
   ],
   "source": [
    "L[::-1]"
   ]
  },
  {
   "cell_type": "code",
   "execution_count": 28,
   "id": "fb948381-0d98-4c1d-bf90-e1e49fed588a",
   "metadata": {},
   "outputs": [],
   "source": [
    "# Q4. Use list comprehension to square the given list L=[2,4,7,3,6,8]"
   ]
  },
  {
   "cell_type": "code",
   "execution_count": 29,
   "id": "48129ee4-310d-401c-bdff-df0ed72dd2b7",
   "metadata": {},
   "outputs": [
    {
     "data": {
      "text/plain": [
       "[4, 16, 49, 9, 36, 64]"
      ]
     },
     "execution_count": 29,
     "metadata": {},
     "output_type": "execute_result"
    }
   ],
   "source": [
    "L=[2,4,7,3,6,8]\n",
    "[i**2 for i in L]"
   ]
  },
  {
   "cell_type": "code",
   "execution_count": 30,
   "id": "359de9f1-499b-4291-8375-8856ad456fc5",
   "metadata": {},
   "outputs": [],
   "source": [
    "# Q5. Create a function that takes in a tuple of integers and returns the sum of the integers. Test the\n",
    "# function with a tuple of your choice."
   ]
  },
  {
   "cell_type": "code",
   "execution_count": 36,
   "id": "01df79ad-6403-479c-ad0e-157fcc90a10d",
   "metadata": {},
   "outputs": [
    {
     "name": "stdout",
     "output_type": "stream",
     "text": [
      "36\n"
     ]
    }
   ],
   "source": [
    "def sum_tup(tup):\n",
    "    count=0\n",
    "    res=list(tup)\n",
    "    for i in res:\n",
    "        count=count+i\n",
    "    return count\n",
    "tup=(1,2,3,4,5,6,7,8)\n",
    "print(sum_tup(tup))"
   ]
  },
  {
   "cell_type": "code",
   "execution_count": 37,
   "id": "2fdd627d-63cd-42ef-8f29-e81da8545cde",
   "metadata": {},
   "outputs": [],
   "source": [
    "# Q6. Create two sets of your favourite fruits, and use the union() method to combine them into a single set.\n",
    "# Print the resulting set to the console."
   ]
  },
  {
   "cell_type": "code",
   "execution_count": 41,
   "id": "770f9861-7b9b-49cb-848f-7f860d6ba090",
   "metadata": {},
   "outputs": [
    {
     "name": "stdout",
     "output_type": "stream",
     "text": [
      "{'apple', 'grapes', 'banana', 'mango', 'orange'}\n"
     ]
    }
   ],
   "source": [
    "fruit1={\"banana\",\"apple\",\"grapes\"}\n",
    "fruit2={\"mango\",\"orange\"}\n",
    "combine=fruit1.union(fruit2)\n",
    "print(combine)"
   ]
  },
  {
   "cell_type": "code",
   "execution_count": 42,
   "id": "b7c9b5ef-739c-4f67-8cf6-e958fe472698",
   "metadata": {},
   "outputs": [],
   "source": [
    "# Q7. Create a set of random words, and use the add() method to add a new word to the set. Print the\n",
    "# resulting set to the console."
   ]
  },
  {
   "cell_type": "code",
   "execution_count": 45,
   "id": "554b1e89-7e0a-46fa-b5cb-b21cf912c0f9",
   "metadata": {},
   "outputs": [],
   "source": [
    "set1={1,2,3,4,1,2,3,5,6}\n",
    "set1.add(9)"
   ]
  },
  {
   "cell_type": "code",
   "execution_count": 46,
   "id": "6ef0e619-5916-4de9-a3eb-918a13b40c28",
   "metadata": {},
   "outputs": [
    {
     "data": {
      "text/plain": [
       "{1, 2, 3, 4, 5, 6, 9}"
      ]
     },
     "execution_count": 46,
     "metadata": {},
     "output_type": "execute_result"
    }
   ],
   "source": [
    "set1"
   ]
  },
  {
   "cell_type": "code",
   "execution_count": 47,
   "id": "f7420bdc-a297-413d-88d0-11f0168361c4",
   "metadata": {},
   "outputs": [],
   "source": [
    "# Q8. Create a set of your favourite animals, and use the remove() method to remove one animal from the\n",
    "# set. Print the resulting set to the console."
   ]
  },
  {
   "cell_type": "code",
   "execution_count": 59,
   "id": "64d06eac-b298-4dff-911f-37ce70a277bd",
   "metadata": {},
   "outputs": [
    {
     "name": "stdout",
     "output_type": "stream",
     "text": [
      "{'tiger', 'lion', 'rabbit', 'hourse', 'dog', 'cat'}\n"
     ]
    }
   ],
   "source": [
    "animal={\"dog\",\"cat\",\"hourse\",\"lion\",\"tiger\",\"rabbit\"}\n",
    "print(animal)\n",
    "animal.remove(\"cat\")"
   ]
  },
  {
   "cell_type": "code",
   "execution_count": 60,
   "id": "d6ee752d-58f3-48bd-9c95-427e7a5f9e26",
   "metadata": {},
   "outputs": [
    {
     "data": {
      "text/plain": [
       "{'dog', 'hourse', 'lion', 'rabbit', 'tiger'}"
      ]
     },
     "execution_count": 60,
     "metadata": {},
     "output_type": "execute_result"
    }
   ],
   "source": [
    "animal"
   ]
  },
  {
   "cell_type": "code",
   "execution_count": 61,
   "id": "0f46133b-b277-4345-82e1-ea0c422f76e8",
   "metadata": {},
   "outputs": [],
   "source": [
    "# Q9. favorite_books = {\"1984\", \"To Kill a Mockingbird\", \"Pride and Prejudice\"}\n",
    "# favorite_movies = [\"The Shawshank Redemption\", \"The Godfather\", \"The Dark Knight\"]\n",
    "# Use the zip() function to combine the book set and movie list into a list of tuples representing book/\n",
    "# movie pairs. Print the resulting list."
   ]
  },
  {
   "cell_type": "code",
   "execution_count": 67,
   "id": "4d739789-b892-4105-9918-1060065a4e01",
   "metadata": {},
   "outputs": [
    {
     "name": "stdout",
     "output_type": "stream",
     "text": [
      "[('1984', 'The Shawshank Redemption'), ('To Kill a Mockingbird', 'The Godfather'), ('Pride and Prejudice', 'The Dark Knight')]\n"
     ]
    }
   ],
   "source": [
    "favorite_books = {\"1984\", \"To Kill a Mockingbird\", \"Pride and Prejudice\"}\n",
    "favorite_movies = [\"The Shawshank Redemption\", \"The Godfather\", \"The Dark Knight\"]\n",
    "book_movie_pairs=list(zip(favorite_books,favorite_movies))\n",
    "print(book_movie_pairs)"
   ]
  },
  {
   "cell_type": "code",
   "execution_count": 68,
   "id": "8002a367-ea20-49ad-9efb-4d08e3ce79f2",
   "metadata": {},
   "outputs": [],
   "source": [
    "# Q10. Write a Python program to find the difference between consecutive numbers in a list."
   ]
  },
  {
   "cell_type": "code",
   "execution_count": 74,
   "id": "a7deba63-b01b-45fa-bf89-116b14d4dcbf",
   "metadata": {},
   "outputs": [
    {
     "name": "stdout",
     "output_type": "stream",
     "text": [
      "[4, 3, 6, 4]\n"
     ]
    }
   ],
   "source": [
    "def def_consecutive(lst):\n",
    "    lst1=[]\n",
    "    for i in range(1,len(lst)):\n",
    "        diff=lst[i]-lst[i-1]\n",
    "        lst1.append(diff)\n",
    "    return lst1\n",
    "lst = [5, 9, 12, 18, 22]\n",
    "res=def_consecutive(lst)\n",
    "print(res)"
   ]
  },
  {
   "cell_type": "code",
   "execution_count": null,
   "id": "21796aa2-f23d-4aa7-b80e-170ee8e365b1",
   "metadata": {},
   "outputs": [],
   "source": []
  }
 ],
 "metadata": {
  "kernelspec": {
   "display_name": "Python 3 (ipykernel)",
   "language": "python",
   "name": "python3"
  },
  "language_info": {
   "codemirror_mode": {
    "name": "ipython",
    "version": 3
   },
   "file_extension": ".py",
   "mimetype": "text/x-python",
   "name": "python",
   "nbconvert_exporter": "python",
   "pygments_lexer": "ipython3",
   "version": "3.10.8"
  }
 },
 "nbformat": 4,
 "nbformat_minor": 5
}
