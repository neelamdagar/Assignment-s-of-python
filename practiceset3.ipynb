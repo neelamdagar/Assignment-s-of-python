{
 "cells": [
  {
   "cell_type": "code",
   "execution_count": 1,
   "id": "2de44ca9-ddd3-4836-9aaa-79dd102b5cc7",
   "metadata": {},
   "outputs": [],
   "source": [
    "# Q1. Create a dictionary called fruits with the following key-value pairs:\n",
    "# \"apple\": 0.75\n",
    "# \"banana\": 1.25\n",
    "# \"orange\": 0.90\n",
    "# Then, print out the price of a banana."
   ]
  },
  {
   "cell_type": "code",
   "execution_count": 2,
   "id": "b634f9c3-f1bf-4211-aef6-fb80128c53bf",
   "metadata": {},
   "outputs": [],
   "source": [
    "dict1={\"apple\":0.75,\"banana\":1.25,\"orange\":0.90}"
   ]
  },
  {
   "cell_type": "code",
   "execution_count": 3,
   "id": "60a40b3c-ada3-42a1-8795-6eb2056c0527",
   "metadata": {},
   "outputs": [
    {
     "data": {
      "text/plain": [
       "{'apple': 0.75, 'banana': 1.25, 'orange': 0.9}"
      ]
     },
     "execution_count": 3,
     "metadata": {},
     "output_type": "execute_result"
    }
   ],
   "source": [
    "dict1"
   ]
  },
  {
   "cell_type": "code",
   "execution_count": 8,
   "id": "ec45078a-5ff6-42c3-9d6d-8bd76737ffee",
   "metadata": {},
   "outputs": [
    {
     "name": "stdout",
     "output_type": "stream",
     "text": [
      "1.25\n"
     ]
    }
   ],
   "source": [
    "print(dict1[\"banana\"])"
   ]
  },
  {
   "cell_type": "code",
   "execution_count": 9,
   "id": "579a7b5a-39bc-4d78-aa21-f9e914cd645c",
   "metadata": {},
   "outputs": [],
   "source": [
    "# Q2. Create an empty dictionary called ages. Add the following key-value pairs to the dictionary:\n",
    "# \"Alice\": 30\n",
    "# \"Bob\": 25\n",
    "# \"Charlie\": 35\n",
    "# Then, print out the age of Charlie."
   ]
  },
  {
   "cell_type": "code",
   "execution_count": 10,
   "id": "c24ceb7b-113a-4b4f-b4cc-5bf1b32a178d",
   "metadata": {},
   "outputs": [],
   "source": [
    "ages={}\n",
    "ages[\"Alice\"]=30\n",
    "ages[\"Bob\"]=25\n",
    "ages[\"Charlie\"]=35"
   ]
  },
  {
   "cell_type": "code",
   "execution_count": 11,
   "id": "39be4840-3760-4b48-9e7d-006c0ab913c1",
   "metadata": {},
   "outputs": [
    {
     "data": {
      "text/plain": [
       "{'Alice': 30, 'Bob': 25, 'Charlie': 35}"
      ]
     },
     "execution_count": 11,
     "metadata": {},
     "output_type": "execute_result"
    }
   ],
   "source": [
    "ages"
   ]
  },
  {
   "cell_type": "code",
   "execution_count": 12,
   "id": "0b78ca68-f521-4c6b-b91b-fea13a1e2045",
   "metadata": {},
   "outputs": [
    {
     "name": "stdout",
     "output_type": "stream",
     "text": [
      "35\n"
     ]
    }
   ],
   "source": [
    "print(ages[\"Charlie\"])"
   ]
  },
  {
   "cell_type": "code",
   "execution_count": 13,
   "id": "db9df649-83f6-4338-b307-999e650c8cd7",
   "metadata": {},
   "outputs": [],
   "source": [
    "# Q3. Write a function called word_count(text) that takes a string as input and returns a dictionary where\n",
    "# each key is a word in the text and its value is the number of times that word appears in the text. For\n",
    "# example, word_count(\"hello world hello\") should return {\"hello\": 2, \"world\": 1}."
   ]
  },
  {
   "cell_type": "code",
   "execution_count": 22,
   "id": "1dabdb8c-b4e8-48ad-9314-9fc799fccc28",
   "metadata": {},
   "outputs": [
    {
     "name": "stdout",
     "output_type": "stream",
     "text": [
      "{'hello': 2, 'world': 1}\n"
     ]
    }
   ],
   "source": [
    "def word_count(text):\n",
    "    words=text.lower().split()\n",
    "    dic={}\n",
    "    for i in words:\n",
    "        if i in dic:\n",
    "            dic[i]=dic[i]+1\n",
    "        else:\n",
    "            dic[i]=1\n",
    "    return dic\n",
    "text=\"hello world hello\"\n",
    "dic=word_count(text)\n",
    "print(dic)"
   ]
  },
  {
   "cell_type": "code",
   "execution_count": 23,
   "id": "654ced00-b8b0-42b1-9785-acf436ed27f3",
   "metadata": {},
   "outputs": [],
   "source": [
    "# Q4. Create a dictionary called phone_book with the following key-value pairs:\n",
    "# \"Alice\": \"555-1234\"\n",
    "# \"Bob\": \"555-5678\"\n",
    "# \"Charlie\": \"555-9012\"\n",
    "# Then, prompt the user to enter a name and print out the corresponding phone number. If the name is not\n",
    "# in the phone book, print out a message saying that the name was not found."
   ]
  },
  {
   "cell_type": "code",
   "execution_count": 24,
   "id": "4f96795f-6133-49f7-9437-106c8a8feb02",
   "metadata": {},
   "outputs": [],
   "source": [
    "dict1={\"Alice\":\"555-1234\",\"Bob\":\"555-5678\",\"Charlie\":\"555-9012\"}"
   ]
  },
  {
   "cell_type": "code",
   "execution_count": 25,
   "id": "296e9559-9dcf-4b9c-95b0-eb93058f58eb",
   "metadata": {},
   "outputs": [
    {
     "data": {
      "text/plain": [
       "{'Alice': '555-1234', 'Bob': '555-5678', 'Charlie': '555-9012'}"
      ]
     },
     "execution_count": 25,
     "metadata": {},
     "output_type": "execute_result"
    }
   ],
   "source": [
    "dict1"
   ]
  },
  {
   "cell_type": "code",
   "execution_count": 29,
   "id": "820ab152-fa3e-44be-a950-c7df0c05d736",
   "metadata": {},
   "outputs": [
    {
     "name": "stdin",
     "output_type": "stream",
     "text": [
      "enter a name rq\n"
     ]
    },
    {
     "name": "stdout",
     "output_type": "stream",
     "text": [
      "rq name is not found in the dict1\n"
     ]
    }
   ],
   "source": [
    "name=input(\"enter a name\")\n",
    "if name in dict1:\n",
    "    phone_number=dict1[name]\n",
    "    print(f\"{name} is the in name in phone_book and corresponding phone number is {phone_number}\")\n",
    "else:\n",
    "    print(f\"{name} name is not found in the dict1\")\n"
   ]
  },
  {
   "cell_type": "code",
   "execution_count": 30,
   "id": "a86937df-58a5-4fb4-977e-f427b0ee592d",
   "metadata": {},
   "outputs": [],
   "source": [
    "# Q5. Write a program that prompts the user to enter a number between 1 and 10. If the number is less than\n",
    "# 5, print out \"Too low!\", otherwise print out \"Too high!\"."
   ]
  },
  {
   "cell_type": "code",
   "execution_count": 36,
   "id": "b644173e-607d-48c6-8bcb-09b4757827a5",
   "metadata": {},
   "outputs": [
    {
     "name": "stdin",
     "output_type": "stream",
     "text": [
      "enter a number a betwen 1 and 10 6\n"
     ]
    },
    {
     "name": "stdout",
     "output_type": "stream",
     "text": [
      "6 too high\n"
     ]
    }
   ],
   "source": [
    "n=int(input(\"enter a number a betwen 1 and 10\"))\n",
    "if n<5:\n",
    "    print(n ,\"Too low\")\n",
    "else:\n",
    "     print(n,\"too high\")"
   ]
  },
  {
   "cell_type": "code",
   "execution_count": 1,
   "id": "0d0c8865-0f9a-4864-8bef-feddfd2fd8f4",
   "metadata": {},
   "outputs": [],
   "source": [
    "# Q6. Write a program that prompts the user to enter a password. If the password is \"password123\", print\n",
    "# out \"Access granted\", otherwise print out \"Access denied\"."
   ]
  },
  {
   "cell_type": "code",
   "execution_count": 3,
   "id": "0d246f6b-7f7f-40d0-aba4-83bfb33f65bf",
   "metadata": {},
   "outputs": [
    {
     "name": "stdin",
     "output_type": "stream",
     "text": [
      "enter a password here pass\n"
     ]
    },
    {
     "name": "stdout",
     "output_type": "stream",
     "text": [
      "Acess denied\n"
     ]
    }
   ],
   "source": [
    "password=input(\"enter a password here\")\n",
    "if password==\"password123\":\n",
    "    print(\"Acess granted\")\n",
    "else:\n",
    "    print(\"Acess denied\")"
   ]
  },
  {
   "cell_type": "code",
   "execution_count": 4,
   "id": "4b73a597-03a2-4832-bc58-43a839d9eb41",
   "metadata": {},
   "outputs": [],
   "source": [
    "# Q7. Write a program that prompts the user to enter a positive integer. Then, use a loop to print out all the\n",
    "# odd numbers from 1 to that integer."
   ]
  },
  {
   "cell_type": "code",
   "execution_count": 5,
   "id": "fb7a07c8-9aee-4cb4-bae6-beaca8fb0537",
   "metadata": {},
   "outputs": [
    {
     "name": "stdin",
     "output_type": "stream",
     "text": [
      "enter a postive number 6\n"
     ]
    },
    {
     "name": "stdout",
     "output_type": "stream",
     "text": [
      "1\n",
      "3\n",
      "5\n"
     ]
    }
   ],
   "source": [
    "n=int(input(\"enter a postive number\"))\n",
    "for i in range(1,n+1):\n",
    "    if i%2!=0:\n",
    "        print(i)\n"
   ]
  },
  {
   "cell_type": "code",
   "execution_count": 6,
   "id": "1966b3e2-be7e-4508-b98d-2bf560725fc8",
   "metadata": {},
   "outputs": [],
   "source": [
    "# Q8. Write a program that generates a random number between 1 and 100 and then prompts the user to\n",
    "# guess the number. If the user's guess is too low, print out \"Too low!\", if the guess is too high, print out \"Too\n",
    "# high!\", and if the guess is correct, print out \"You win!\"."
   ]
  },
  {
   "cell_type": "code",
   "execution_count": 13,
   "id": "bfa6c084-ac05-4c35-914b-6ff1d7b26098",
   "metadata": {},
   "outputs": [],
   "source": [
    "import random\n"
   ]
  },
  {
   "cell_type": "code",
   "execution_count": 14,
   "id": "1934dbf0-c122-4a73-9183-58823a2a9f8a",
   "metadata": {},
   "outputs": [
    {
     "name": "stdin",
     "output_type": "stream",
     "text": [
      "enter a number 67\n"
     ]
    },
    {
     "name": "stdout",
     "output_type": "stream",
     "text": [
      "Too high!\n"
     ]
    },
    {
     "name": "stdin",
     "output_type": "stream",
     "text": [
      "enter a guess number again 55\n"
     ]
    },
    {
     "name": "stdout",
     "output_type": "stream",
     "text": [
      "Too high!\n"
     ]
    },
    {
     "name": "stdin",
     "output_type": "stream",
     "text": [
      "enter a guess number again 50\n"
     ]
    },
    {
     "name": "stdout",
     "output_type": "stream",
     "text": [
      "Too high!\n"
     ]
    },
    {
     "name": "stdin",
     "output_type": "stream",
     "text": [
      "enter a guess number again 45\n"
     ]
    },
    {
     "name": "stdout",
     "output_type": "stream",
     "text": [
      "Too high!\n"
     ]
    },
    {
     "name": "stdin",
     "output_type": "stream",
     "text": [
      "enter a guess number again 40\n"
     ]
    },
    {
     "name": "stdout",
     "output_type": "stream",
     "text": [
      "Too high!\n"
     ]
    },
    {
     "name": "stdin",
     "output_type": "stream",
     "text": [
      "enter a guess number again 35\n"
     ]
    },
    {
     "name": "stdout",
     "output_type": "stream",
     "text": [
      "Too low\n"
     ]
    },
    {
     "name": "stdin",
     "output_type": "stream",
     "text": [
      "enter a guess number again 37\n"
     ]
    },
    {
     "name": "stdout",
     "output_type": "stream",
     "text": [
      "you win\n"
     ]
    }
   ],
   "source": [
    "answer=random.randint(1,100)\n",
    "guess=int(input(\"enter a number\"))\n",
    "while(guess!=answer):\n",
    "    if guess>answer:\n",
    "        print(\"Too high!\")\n",
    "    elif guess<answer:\n",
    "        print(\"Too low\")\n",
    "    guess=int(input(\"enter a guess number again\"))\n",
    "print(\"you win\")"
   ]
  },
  {
   "cell_type": "code",
   "execution_count": 15,
   "id": "a8aad0bd-5518-4ab3-8b72-c77a4fd6a41c",
   "metadata": {},
   "outputs": [],
   "source": [
    "# Q9. Write a program that generates a random number between 1 and 10 and then prompts the user to\n",
    "# guess the number. The user has three attempts to guess the number. If the user guesses correctly within\n",
    "# three attempts, print out \"You win!\", otherwise print out \"You lose!\"."
   ]
  },
  {
   "cell_type": "code",
   "execution_count": 16,
   "id": "77aa52b9-cce8-4aa5-ba7b-b8640396096c",
   "metadata": {},
   "outputs": [],
   "source": [
    "import random "
   ]
  },
  {
   "cell_type": "code",
   "execution_count": 19,
   "id": "4bb036b9-5ad9-437b-bac8-bde54a5cfdeb",
   "metadata": {},
   "outputs": [
    {
     "name": "stdin",
     "output_type": "stream",
     "text": [
      "enter a number 5\n",
      "enter a number 4\n",
      "enter a number 9\n",
      "enter a number 8\n",
      "enter a number 4\n",
      "enter a number 3\n",
      "enter a number 2\n",
      "enter a number 1\n",
      "enter a number 6\n"
     ]
    },
    {
     "name": "stdout",
     "output_type": "stream",
     "text": [
      "you lose\n"
     ]
    }
   ],
   "source": [
    "ans=random.randint(1,10)\n",
    "gues=int(input(\"enter a number\"))\n",
    "trye=1\n",
    "while(gues!=ans):\n",
    "    if guess>ans:\n",
    "        trye=trye+1\n",
    "    elif guess<ans:\n",
    "        trye=trye+1\n",
    "    gues=int(input(\"enter a number\"))\n",
    "if trye<3:\n",
    "    print(\"you win\")\n",
    "else:\n",
    "    print(\"you lose\")"
   ]
  },
  {
   "cell_type": "code",
   "execution_count": 21,
   "id": "bde9584d-18d7-47fc-90ea-064fe4d3e0c5",
   "metadata": {},
   "outputs": [],
   "source": [
    "# Q10. Write a program that prompts the user to enter their age and then prints out whether they are a child\n",
    "# (age 0-12), a teenager (age 13-19), an adult (age 20-59), or a senior (age 60+)"
   ]
  },
  {
   "cell_type": "code",
   "execution_count": 23,
   "id": "f6706c92-1f0e-496e-b830-4fd0a86b524d",
   "metadata": {},
   "outputs": [
    {
     "name": "stdin",
     "output_type": "stream",
     "text": [
      "enter a age  45\n"
     ]
    },
    {
     "name": "stdout",
     "output_type": "stream",
     "text": [
      "adult\n"
     ]
    }
   ],
   "source": [
    "age=int(input(\"enter a age \"))\n",
    "if (age>0) and (age<12):\n",
    "    print(\"çhild\")\n",
    "elif (age>13) and (age<19):\n",
    "    print(\"teenager\")\n",
    "elif (age>20) and (age<59):\n",
    "    print(\"adult\")\n",
    "else:\n",
    "    print(\"senior\")"
   ]
  },
  {
   "cell_type": "code",
   "execution_count": null,
   "id": "7d138d72-18aa-4ebf-a36d-e3bf24a8c1ff",
   "metadata": {},
   "outputs": [],
   "source": []
  }
 ],
 "metadata": {
  "kernelspec": {
   "display_name": "Python 3 (ipykernel)",
   "language": "python",
   "name": "python3"
  },
  "language_info": {
   "codemirror_mode": {
    "name": "ipython",
    "version": 3
   },
   "file_extension": ".py",
   "mimetype": "text/x-python",
   "name": "python",
   "nbconvert_exporter": "python",
   "pygments_lexer": "ipython3",
   "version": "3.10.8"
  }
 },
 "nbformat": 4,
 "nbformat_minor": 5
}
