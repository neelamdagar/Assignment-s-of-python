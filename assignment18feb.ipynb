{
 "cells": [
  {
   "cell_type": "code",
   "execution_count": 1,
   "id": "0f6f733f-d7e9-4529-b1f1-d456ae856fc1",
   "metadata": {},
   "outputs": [],
   "source": [
    "# Q1. What is an API? Give an example, where an API is used in real life.\n",
    "# APIs are used in web applications to connect user-facing front ends with critical back-end functionality and data.\n",
    "# APIs are used to deliver material by streaming services such as Spotify and Netflix.\n",
    "# for example communiction between bank anf googlepay for tranction.\n"
   ]
  },
  {
   "cell_type": "code",
   "execution_count": 2,
   "id": "364f8328-bc35-43b8-8d51-0cc89adb1ba7",
   "metadata": {},
   "outputs": [],
   "source": [
    "# Q2. Give advantages and disadvantages of using API.\n",
    "# advantage:\n",
    "# An integration:\n",
    "# An example of an integration is to push notifications from your product (such as CRM, Helpdesk) to a messaging tool such as Slack.\n",
    "# In this way, if your customer uses Slack they can receive notifications without having to login directly to your system or check emails.\n",
    "# New functionality: \n",
    "# In the early days of Twitter, some of the most popular Twitter clients were produced by third parties using the Twitter API. \n",
    "# Twitter and its users benefited from the new functionality that was undertaken by other companies.\n",
    "# disadvantages:\n",
    "# Cost:\n",
    "# Providing an API is expensive in terms of development time, ongoing maintenance, providing API documentation on your website and providing support to users of your API.\n",
    "# Security exposure:\n",
    "# Adding an API adds another attack surface to your website.\n",
    "# You might not like the result or you may change business direction"
   ]
  },
  {
   "cell_type": "code",
   "execution_count": 3,
   "id": "3f32abeb-fb79-4373-9cc6-cde2013e6ace",
   "metadata": {},
   "outputs": [],
   "source": [
    "# Q3. What is a Web API? Differentiate between API and Web API.\n",
    "# The ASP.NET Web API is an extensible framework for building HTTP based services that can be accessed in\n",
    "# different applications on different platforms such as web, windows, mobile etc.\n",
    "# API : Set of rules through which we communicate between different different system \n",
    "# Where Web API is category of API>\n",
    "# for creating API we can use TCP/IP,HTTP for example Gpay phonepay etc.and for Web API we can use HTTP for example gmail application , google,etc"
   ]
  },
  {
   "cell_type": "code",
   "execution_count": 4,
   "id": "ce0bec90-aaf7-4df0-99da-4245797ead44",
   "metadata": {},
   "outputs": [],
   "source": [
    "# Q4. Explain REST and SOAP Architecture. Mention shortcomings of SOAP.\n",
    "# REST is known for its simplicity ,flexiblity and scalablity.\n",
    "# In REST we can use framework HTTP in which we can do (put, get, delete, post)\n",
    "# SOAP Architecture:It is light weight protocal then REST and little bit complex but security is more in it.\n",
    "# In SOAP we use XML -->WSDL that also support HTTP,SMTP,TCP/IP etc."
   ]
  },
  {
   "cell_type": "code",
   "execution_count": null,
   "id": "674696e4-2d9b-4e64-8daf-5dc1aa0c8ab3",
   "metadata": {},
   "outputs": [],
   "source": [
    "# Q5. Differentiate between REST and SOAP.\n",
    "# REST : IT is simple and known for flexiblity \n",
    "# SOAP : IT is little bit complex then rest\n",
    "# REST: Securtiy is less than SOAP\n",
    "# SOAP: Security is more than rest\n"
   ]
  }
 ],
 "metadata": {
  "kernelspec": {
   "display_name": "Python 3 (ipykernel)",
   "language": "python",
   "name": "python3"
  },
  "language_info": {
   "codemirror_mode": {
    "name": "ipython",
    "version": 3
   },
   "file_extension": ".py",
   "mimetype": "text/x-python",
   "name": "python",
   "nbconvert_exporter": "python",
   "pygments_lexer": "ipython3",
   "version": "3.10.8"
  }
 },
 "nbformat": 4,
 "nbformat_minor": 5
}
