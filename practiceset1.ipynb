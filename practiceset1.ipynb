{
 "cells": [
  {
   "cell_type": "code",
   "execution_count": 1,
   "id": "00be13a8-49ab-4f18-8ff0-e496b2325ee6",
   "metadata": {},
   "outputs": [],
   "source": [
    "# Q1. Write a Python program that defines a function called \"add_numbers\" that takes two arguments (i.e.,\n",
    "# numbers) and returns their sum. Within the function, add the two numbers together and return the result\n",
    "# using the return statement. Call the function with the values 5 and 6, and print out the returned result.\n",
    "# This will result in the addition of 5 and 6, with the output of the program being the sum of these two\n",
    "# numbers."
   ]
  },
  {
   "cell_type": "code",
   "execution_count": 2,
   "id": "257292cd-86a0-4005-8548-d59b9480cfce",
   "metadata": {},
   "outputs": [],
   "source": [
    "def add_numbers(x,y):\n",
    "    res=x+y\n",
    "    return res\n"
   ]
  },
  {
   "cell_type": "code",
   "execution_count": 3,
   "id": "cc14ecb4-bbd8-4598-a7fa-77be49e35082",
   "metadata": {},
   "outputs": [
    {
     "data": {
      "text/plain": [
       "11"
      ]
     },
     "execution_count": 3,
     "metadata": {},
     "output_type": "execute_result"
    }
   ],
   "source": [
    "add_numbers(5,6)"
   ]
  },
  {
   "cell_type": "code",
   "execution_count": 4,
   "id": "1245ea6b-5fd7-4b77-8df9-f447f418a5eb",
   "metadata": {},
   "outputs": [],
   "source": [
    "# Q2. Write a Python program that calculates the square root of a given number using a built-in function.\n",
    "# Specifically, the program should take an integer or float input from the user, calculate its square root\n",
    "# using the 'sqrt()' function from the 'math' module, and print out the result to the user. As an example,\n",
    "# calculate the square root of the number 625 using this program, which should output the value of 25."
   ]
  },
  {
   "cell_type": "code",
   "execution_count": 5,
   "id": "ef9f10f8-d8d8-4c40-b483-e4f378f2ddc2",
   "metadata": {},
   "outputs": [],
   "source": [
    "from math import sqrt"
   ]
  },
  {
   "cell_type": "code",
   "execution_count": 11,
   "id": "8f4f6ec1-bff7-4be2-a0ae-ff71d1c9727c",
   "metadata": {},
   "outputs": [
    {
     "name": "stdin",
     "output_type": "stream",
     "text": [
      "type here a number of which you want sqrt 625\n"
     ]
    },
    {
     "name": "stdout",
     "output_type": "stream",
     "text": [
      "25.0\n"
     ]
    }
   ],
   "source": [
    "n=float(input(\"type here a number of which you want sqrt\"))\n",
    "x=sqrt(n)\n",
    "print(x)"
   ]
  },
  {
   "cell_type": "code",
   "execution_count": 12,
   "id": "362be203-e75d-4ae3-b6d4-3d7c95e7bd7e",
   "metadata": {},
   "outputs": [],
   "source": [
    "# Q3.Write a program that prints all prime numbers between 0 to 50."
   ]
  },
  {
   "cell_type": "code",
   "execution_count": 2,
   "id": "515570ad-0fa6-4034-b406-9bde1a2b1c0d",
   "metadata": {},
   "outputs": [
    {
     "name": "stdout",
     "output_type": "stream",
     "text": [
      "2\n",
      "3\n",
      "5\n",
      "7\n",
      "11\n",
      "13\n",
      "17\n",
      "19\n",
      "23\n",
      "29\n",
      "31\n",
      "37\n",
      "41\n",
      "43\n",
      "47\n"
     ]
    }
   ],
   "source": [
    "for i in range(0,51):\n",
    "    if i>1:\n",
    "        for k in range(2,i):\n",
    "            if(i%k==0):\n",
    "                break\n",
    "        else:\n",
    "            print(i)"
   ]
  },
  {
   "cell_type": "code",
   "execution_count": 3,
   "id": "f9c7fd7b-8d71-4a98-8e73-faa4a4fe1d2e",
   "metadata": {},
   "outputs": [],
   "source": [
    "# Q4.How can we swap the values of three variables (let's say a, b, and c) without using a fourth variable?\n",
    "# For example, if we have a=5, b=8, and c=9, how can we obtain a=9, b=5, and c=8? The challenge is to\n",
    "# perform this operation without using an additional variable to store any of the values during the\n",
    "# swapping process."
   ]
  },
  {
   "cell_type": "code",
   "execution_count": 11,
   "id": "12a37472-76fb-4369-92b8-24b5b9d6fc1c",
   "metadata": {},
   "outputs": [
    {
     "name": "stdin",
     "output_type": "stream",
     "text": [
      "type here a, 5\n",
      "type here b 8\n",
      "type here d 9\n"
     ]
    },
    {
     "name": "stdout",
     "output_type": "stream",
     "text": [
      "5 8 9\n",
      "9 5 8\n"
     ]
    }
   ],
   "source": [
    "a=int(input(\"type here a,\"))\n",
    "b=int(input(\"type here b\"))\n",
    "c=int(input(\"type here d\"))\n",
    "print(a,b,c)\n",
    "temp=a\n",
    "a=c\n",
    "c= b\n",
    "b=temp\n",
    "print(a,b,c)"
   ]
  },
  {
   "cell_type": "code",
   "execution_count": 12,
   "id": "a0af8b8c-3b61-487e-9dd7-84f0ac88e61b",
   "metadata": {},
   "outputs": [],
   "source": [
    "# Q5. Can you write a program that determines the nature of a given number (in this case, 87) as being\n",
    "# positive, negative, or zero? The program should be designed to take the number as input and perform the\n",
    "# necessary calculations to determine if the number is positive (i.e., greater than zero), negative (i.e., less\n",
    "# than zero), or zero (i.e., equal to zero). The output of the program should indicate which of these three\n",
    "# categories the given number falls into."
   ]
  },
  {
   "cell_type": "code",
   "execution_count": 14,
   "id": "c5e23e07-c599-4f1a-b6b9-206ee7af22e9",
   "metadata": {},
   "outputs": [
    {
     "name": "stdin",
     "output_type": "stream",
     "text": [
      "type here a number 87\n"
     ]
    },
    {
     "name": "stdout",
     "output_type": "stream",
     "text": [
      "greater than zero\n"
     ]
    }
   ],
   "source": [
    "n=int(input(\"type here a number\"))\n",
    "if n>0:\n",
    "    print(\"greater than zero\")\n",
    "elif n==0:\n",
    "    print(\"zero number\")\n",
    "else:\n",
    "    print(\"less than zer\")\n"
   ]
  },
  {
   "cell_type": "code",
   "execution_count": 15,
   "id": "9d3e7268-f417-4fd1-ad1c-4b89a8237b8e",
   "metadata": {},
   "outputs": [],
   "source": [
    "# Q6. How can you create a program that determines whether a given number (in this case, 98) is even or\n",
    "# odd? The program should be designed to take the number as input and perform the necessary\n",
    "# calculations to determine whether it is divisible by two. If the number is divisible by two without leaving a\n",
    "# remainder, it is an even number, and if there is a remainder, it is an odd number. The output of the\n",
    "# program should indicate whether the given number is even or odd."
   ]
  },
  {
   "cell_type": "code",
   "execution_count": 16,
   "id": "5c1490a7-9077-4816-a36c-429447f78834",
   "metadata": {},
   "outputs": [
    {
     "name": "stdin",
     "output_type": "stream",
     "text": [
      "type here a number to check whether it is odd or even 45\n"
     ]
    },
    {
     "name": "stdout",
     "output_type": "stream",
     "text": [
      "45 is an odd number\n"
     ]
    }
   ],
   "source": [
    "n=int(input(\"type here a number to check whether it is odd or even\"))\n",
    "if n%2==0:\n",
    "    print( n ,\"is an even number\")\n",
    "else:\n",
    "    print(n, \"is an odd number\")"
   ]
  },
  {
   "cell_type": "code",
   "execution_count": 17,
   "id": "60871338-b459-4fbe-8f81-d34295a4eb46",
   "metadata": {},
   "outputs": [],
   "source": [
    "# Q7.Write a program for sum of digits.the digits are 76543 and the output should be 25."
   ]
  },
  {
   "cell_type": "code",
   "execution_count": 39,
   "id": "3e18c9bf-601d-4ff0-93c8-a0244232f44e",
   "metadata": {},
   "outputs": [
    {
     "name": "stdin",
     "output_type": "stream",
     "text": [
      "type here a number 76543\n"
     ]
    },
    {
     "name": "stdout",
     "output_type": "stream",
     "text": [
      "25\n"
     ]
    }
   ],
   "source": [
    "n=int(input(\"type here a number\"))\n",
    "j=0\n",
    "while(n!=0):\n",
    "    j=j+(n%10)\n",
    "    n=n//10\n",
    "print(j)"
   ]
  },
  {
   "cell_type": "code",
   "execution_count": 42,
   "id": "5b44fb79-3ff4-4d30-9c01-8c7fb5dac54f",
   "metadata": {},
   "outputs": [
    {
     "name": "stdin",
     "output_type": "stream",
     "text": [
      "type here number 123\n"
     ]
    },
    {
     "name": "stdout",
     "output_type": "stream",
     "text": [
      "6\n"
     ]
    }
   ],
   "source": [
    "# or\n",
    "n=int(input(\"type here number\"))\n",
    "k=0\n",
    "for i in str(n):\n",
    "    k=k+int(i)\n",
    "print(k)"
   ]
  },
  {
   "cell_type": "code",
   "execution_count": null,
   "id": "41d7010f-8420-4140-ae36-465c25ca09f0",
   "metadata": {},
   "outputs": [],
   "source": [
    "# Q8.Write a program for reversing the given number 5436 and the output should be 6345."
   ]
  },
  {
   "cell_type": "code",
   "execution_count": 8,
   "id": "69d1933e-130e-43a6-9f65-747ab7eb1c52",
   "metadata": {},
   "outputs": [
    {
     "name": "stdin",
     "output_type": "stream",
     "text": [
      "type here number 5436\n"
     ]
    },
    {
     "name": "stdout",
     "output_type": "stream",
     "text": [
      "6345\n"
     ]
    }
   ],
   "source": [
    "n=int(input(\"type here number\"))\n",
    "j=0\n",
    "while(n!=0):\n",
    "    j=j*10+(n%10)\n",
    "    n=n//10\n",
    "print(j)\n"
   ]
  },
  {
   "cell_type": "code",
   "execution_count": 15,
   "id": "f0a545ab-0348-40a3-9673-ebc6b329b4a4",
   "metadata": {},
   "outputs": [],
   "source": [
    "# Q9.Write a program to check if a given number 371 is an Armstrong number?"
   ]
  },
  {
   "cell_type": "code",
   "execution_count": 25,
   "id": "218fbf78-586c-4e2c-8b36-e52f18dcb68e",
   "metadata": {},
   "outputs": [
    {
     "name": "stdin",
     "output_type": "stream",
     "text": [
      "type here a number 371\n"
     ]
    },
    {
     "name": "stdout",
     "output_type": "stream",
     "text": [
      "371\n",
      "yes\n"
     ]
    }
   ],
   "source": [
    "n=int(input(\"type here a number\"))\n",
    "k=0\n",
    "while(n!=0):\n",
    "    i=n%10\n",
    "    k=k+(i**3)\n",
    "    n=n//10\n",
    "print(k)\n",
    "n=temp\n",
    "if(k==temp):\n",
    "    print(\"yes\")\n",
    "else:\n",
    "    print(\"not\")"
   ]
  },
  {
   "cell_type": "code",
   "execution_count": 26,
   "id": "5c197115-02b1-4df9-b2a7-e22c711780d1",
   "metadata": {},
   "outputs": [],
   "source": [
    "# Q10.Write a program the given year is 1996, a leap year."
   ]
  },
  {
   "cell_type": "code",
   "execution_count": 27,
   "id": "2954cd60-9b52-49ac-8fdb-375d2b573734",
   "metadata": {},
   "outputs": [
    {
     "name": "stdin",
     "output_type": "stream",
     "text": [
      "type here year for checking leap year 1996\n"
     ]
    },
    {
     "name": "stdout",
     "output_type": "stream",
     "text": [
      "1996 is leap year\n"
     ]
    }
   ],
   "source": [
    "n=int(input(\"type here year for checking leap year\"))\n",
    "if n%4==0:\n",
    "    print(n, \"is leap year\")\n",
    "else:\n",
    "    print(n,\"not a leap year\")"
   ]
  },
  {
   "cell_type": "code",
   "execution_count": null,
   "id": "5c546877-563c-4562-9a5f-681fa29d2928",
   "metadata": {},
   "outputs": [],
   "source": []
  }
 ],
 "metadata": {
  "kernelspec": {
   "display_name": "Python 3 (ipykernel)",
   "language": "python",
   "name": "python3"
  },
  "language_info": {
   "codemirror_mode": {
    "name": "ipython",
    "version": 3
   },
   "file_extension": ".py",
   "mimetype": "text/x-python",
   "name": "python",
   "nbconvert_exporter": "python",
   "pygments_lexer": "ipython3",
   "version": "3.10.8"
  }
 },
 "nbformat": 4,
 "nbformat_minor": 5
}
