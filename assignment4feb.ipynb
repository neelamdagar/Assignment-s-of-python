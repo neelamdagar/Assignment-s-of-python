{
 "cells": [
  {
   "cell_type": "code",
   "execution_count": 1,
   "id": "0612fcd4-f91d-48c2-92f5-641df0347bf5",
   "metadata": {},
   "outputs": [],
   "source": [
    "# Question 1 : Create a python program to sort the given List of tuples based on integer value using a lambda function\n",
    "# [('Sachin Tendulkar', 34357), ('Ricky Ponting', 27483),('Jack Kallis', 25534),('Virat Kohli', 24936)]"
   ]
  },
  {
   "cell_type": "code",
   "execution_count": 8,
   "id": "94002265-5cef-4a63-9ddf-cd9ff37bae73",
   "metadata": {},
   "outputs": [
    {
     "name": "stdout",
     "output_type": "stream",
     "text": [
      "Before sorting \n",
      "[('Virat Kohli', 24936), ('Jack Kallis', 25534), ('Ricky Ponting', 27483), ('Sachin Tendulkar', 34357)]\n",
      "After sorting\n",
      "[('Virat Kohli', 24936), ('Jack Kallis', 25534), ('Ricky Ponting', 27483), ('Sachin Tendulkar', 34357)]\n"
     ]
    }
   ],
   "source": [
    "# Answer :\n",
    "list1=[('Sachin Tendulkar', 34357), ('Ricky Ponting', 27483),('Jack Kallis', 25534),('Virat Kohli', 24936)]\n",
    "print(\"Before sorting \")\n",
    "print(list)\n",
    "list1.sort(key=lambda x:x[1])\n",
    "print(\"After sorting\")\n",
    "print(list1)"
   ]
  },
  {
   "cell_type": "code",
   "execution_count": 3,
   "id": "f2f213ba-7dcd-40ba-8715-defae6d63323",
   "metadata": {},
   "outputs": [],
   "source": [
    "# Question 2 Write  a python program to find the square of all the number in the given list of integer using lambda and map function\n",
    "# [1,2,3,4,5,6,7,8,9,10]\n"
   ]
  },
  {
   "cell_type": "code",
   "execution_count": 1,
   "id": "db77ad1f-865b-4f6c-b0e9-46425bdbf8da",
   "metadata": {},
   "outputs": [
    {
     "data": {
      "text/plain": [
       "<map at 0x7fd6f0d73100>"
      ]
     },
     "execution_count": 1,
     "metadata": {},
     "output_type": "execute_result"
    }
   ],
   "source": [
    "# Answer:\n",
    "list2=[1,2,3,4,5,6,7,8,9,10]\n",
    "map(lambda x:x**2,list2)"
   ]
  },
  {
   "cell_type": "code",
   "execution_count": 3,
   "id": "304b245d-abbd-4f6d-94ac-d33611c518d1",
   "metadata": {},
   "outputs": [
    {
     "data": {
      "text/plain": [
       "[1, 4, 9, 16, 25, 36, 49, 64, 81, 100]"
      ]
     },
     "execution_count": 3,
     "metadata": {},
     "output_type": "execute_result"
    }
   ],
   "source": [
    "list(map(lambda x:x**2,list2))\n"
   ]
  },
  {
   "cell_type": "code",
   "execution_count": 4,
   "id": "cced3316-bea0-48dc-8ccb-70f2553a4fe7",
   "metadata": {},
   "outputs": [],
   "source": [
    "# Question 3 : Write a python program to convert the given list of integer into a tuple of strings.Use a map and lambda functions\n",
    "# Input - [1,2,3,4,5,6,7,8,9,10]\n",
    "# Expected output - ('1','2','3','4','5','6','7','8','9','10')\n"
   ]
  },
  {
   "cell_type": "code",
   "execution_count": 2,
   "id": "ec268096-027f-4c2e-8c8d-40a299c304d6",
   "metadata": {},
   "outputs": [
    {
     "data": {
      "text/plain": [
       "('1', '2', '3', '4', '5', '6', '7', '8', '9', '10')"
      ]
     },
     "execution_count": 2,
     "metadata": {},
     "output_type": "execute_result"
    }
   ],
   "source": [
    "# Answer :\n",
    "l= [1,2,3,4,5,6,7,8,9,10]\n",
    "tuple(map(lambda x:str(x),l))"
   ]
  },
  {
   "cell_type": "code",
   "execution_count": 3,
   "id": "0d44e830-37ff-436e-b0dd-b4f3a4a9749c",
   "metadata": {},
   "outputs": [],
   "source": [
    "# Question 4 : Write a python program using reduce function to complete  the product of a list containing numbers from 1 to 25"
   ]
  },
  {
   "cell_type": "code",
   "execution_count": 6,
   "id": "c354c8e5-1fec-4a6c-b912-80e043cd4304",
   "metadata": {},
   "outputs": [
    {
     "name": "stdout",
     "output_type": "stream",
     "text": [
      "[1, 2, 3, 4, 5, 6, 7, 8, 9, 10, 11, 12, 13, 14, 15, 16, 17, 18, 19, 20, 21, 22, 23, 24, 25]\n"
     ]
    }
   ],
   "source": [
    "# Answer :\n",
    "l=[]\n",
    "for i in range(1,26,1):\n",
    "    l.append(i)\n",
    "print(l)\n",
    "    "
   ]
  },
  {
   "cell_type": "code",
   "execution_count": 7,
   "id": "67116abc-42db-42d3-9fb4-3aec8ba96ef3",
   "metadata": {},
   "outputs": [],
   "source": [
    "from functools import reduce"
   ]
  },
  {
   "cell_type": "code",
   "execution_count": 8,
   "id": "cbc247fa-6b31-44d6-a0e9-1a40f31d7cb2",
   "metadata": {},
   "outputs": [
    {
     "data": {
      "text/plain": [
       "15511210043330985984000000"
      ]
     },
     "execution_count": 8,
     "metadata": {},
     "output_type": "execute_result"
    }
   ],
   "source": [
    "reduce(lambda x,y:x*y,l)"
   ]
  },
  {
   "cell_type": "code",
   "execution_count": 10,
   "id": "d91e6433-906b-48ea-aeed-216d365565ab",
   "metadata": {},
   "outputs": [],
   "source": [
    "# Question 5 : Write a python program to filter the numbers in a given list that are divisible by 2 and 3 using the filter function.\n",
    "# [2,3,6,9,27,60,90,120,55,46]"
   ]
  },
  {
   "cell_type": "code",
   "execution_count": 11,
   "id": "ed743189-625b-4cde-8cb2-c06a80bd7793",
   "metadata": {},
   "outputs": [
    {
     "data": {
      "text/plain": [
       "[6, 60, 90, 120]"
      ]
     },
     "execution_count": 11,
     "metadata": {},
     "output_type": "execute_result"
    }
   ],
   "source": [
    "# Answer: \n",
    "list3=[2,3,6,9,27,60,90,120,55,46]\n",
    "list(filter(lambda x:x%2==0 and x%3==0,list3))"
   ]
  },
  {
   "cell_type": "code",
   "execution_count": 12,
   "id": "d3903df7-734d-4e12-9a27-da88e73122cd",
   "metadata": {},
   "outputs": [],
   "source": [
    "# Question 6 : Write a python program to find palindrome in the given list of string using lambda anf filter function.\n",
    "# ['python','php','aba','radar','level']"
   ]
  },
  {
   "cell_type": "code",
   "execution_count": 13,
   "id": "ff3e75e2-760e-4259-bfaf-95eb767017b2",
   "metadata": {},
   "outputs": [
    {
     "data": {
      "text/plain": [
       "['php', 'aba', 'radar', 'level']"
      ]
     },
     "execution_count": 13,
     "metadata": {},
     "output_type": "execute_result"
    }
   ],
   "source": [
    "# Answer:\n",
    "list4=['python','php','aba','radar','level']\n",
    "list(filter(lambda x: (x == \"\".join(reversed(x))), list4)) "
   ]
  },
  {
   "cell_type": "code",
   "execution_count": null,
   "id": "7b81b8a9-29de-432e-8c71-187934c6a58f",
   "metadata": {},
   "outputs": [],
   "source": []
  }
 ],
 "metadata": {
  "kernelspec": {
   "display_name": "Python 3 (ipykernel)",
   "language": "python",
   "name": "python3"
  },
  "language_info": {
   "codemirror_mode": {
    "name": "ipython",
    "version": 3
   },
   "file_extension": ".py",
   "mimetype": "text/x-python",
   "name": "python",
   "nbconvert_exporter": "python",
   "pygments_lexer": "ipython3",
   "version": "3.10.8"
  }
 },
 "nbformat": 4,
 "nbformat_minor": 5
}
