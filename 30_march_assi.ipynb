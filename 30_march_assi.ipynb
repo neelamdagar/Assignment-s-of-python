{
 "cells": [
  {
   "cell_type": "code",
   "execution_count": 1,
   "id": "19ee255e-78ee-4d7b-9134-16d8b0ef798e",
   "metadata": {},
   "outputs": [],
   "source": [
    "# Q1. What is Elastic Net Regression and how does it differ from other regression techniques?"
   ]
  },
  {
   "cell_type": "code",
   "execution_count": 2,
   "id": "0de09b8a-0295-41f5-9ed9-37a50b000268",
   "metadata": {},
   "outputs": [],
   "source": [
    "# Elastic Net Regression is used for both Lasso and Ridge regression, used for reducing overfitting and feature selection.\n",
    "# whereas other can used for one at a time.\n"
   ]
  },
  {
   "cell_type": "code",
   "execution_count": 3,
   "id": "a322d673-3a10-4449-a1c4-54256b483f40",
   "metadata": {},
   "outputs": [],
   "source": [
    "# Q2. How do you choose the optimal values of the regularization parameters for Elastic Net Regression?"
   ]
  },
  {
   "cell_type": "code",
   "execution_count": 11,
   "id": "2ff70e36-66b2-44a4-a1b1-4e72ca102292",
   "metadata": {},
   "outputs": [],
   "source": [
    "# Choosing the optimal values of the regularization parameters (alpha and l1_ratio)\n",
    "# for Elastic Net Regression can be done through techniques such as cross-validation or grid search"
   ]
  },
  {
   "cell_type": "code",
   "execution_count": 6,
   "id": "75e46d7d-e4ce-4234-b38f-e75394fd4236",
   "metadata": {},
   "outputs": [],
   "source": [
    "# # Q3. What are the advantages and disadvantages of Elastic Net Regression?\n",
    "# Advantages:\n",
    "# 1) Feature selction \n",
    "# 2) suitable for high dimensional dataset\n",
    "# 3) Handle collniearity\n",
    "# Disadvantge: \n",
    "# 1) It is sensitive to the scale of the features\n",
    "# 2) Complexity with hyper paramters"
   ]
  },
  {
   "cell_type": "code",
   "execution_count": 7,
   "id": "4c1f033b-482d-48f4-8f97-406f826098cc",
   "metadata": {},
   "outputs": [],
   "source": [
    "# Q4. What are some common use cases for Elastic Net Regression?"
   ]
  },
  {
   "cell_type": "code",
   "execution_count": 8,
   "id": "48e414ae-768d-424c-84a3-7746c42f1cad",
   "metadata": {},
   "outputs": [],
   "source": [
    "# It is used for reducing overfitting and feature selcetion"
   ]
  },
  {
   "cell_type": "code",
   "execution_count": 9,
   "id": "1e1cc6ff-0bc4-4387-a4f3-015cd56f9931",
   "metadata": {},
   "outputs": [],
   "source": [
    "# Q5. How do you interpret the coefficients in Elastic Net Regression?"
   ]
  },
  {
   "cell_type": "code",
   "execution_count": 10,
   "id": "c1c5ddb4-d66f-4589-b28f-49f5c024e2f8",
   "metadata": {},
   "outputs": [],
   "source": [
    "# lambda1 = sum of square of parameter\n",
    "# lambda2= sum of absolute of parameter\n",
    "# ∑(yi-ŷi)^2+lambda1∑(slope)^2+lambda2∑|slope|\n",
    "# using linear regression model "
   ]
  },
  {
   "cell_type": "code",
   "execution_count": 12,
   "id": "4ef4d29b-e1de-4893-be6b-04bc729e05fb",
   "metadata": {},
   "outputs": [],
   "source": [
    "# Q6. How do you handle missing values when using Elastic Net Regression?"
   ]
  },
  {
   "cell_type": "code",
   "execution_count": 13,
   "id": "a83277d5-bdbf-40ab-8318-38a82595dcfd",
   "metadata": {},
   "outputs": [],
   "source": [
    "# We can remove missing value using these concept \n",
    "# 1) Removing missing data \n",
    "# 2) Advance imputation techniques\n",
    "# 3) Imputaion "
   ]
  },
  {
   "cell_type": "code",
   "execution_count": 14,
   "id": "45bbf6d2-eefc-4d14-b18b-c2ac77874e67",
   "metadata": {},
   "outputs": [],
   "source": [
    "# Q7. How do you use Elastic Net Regression for feature selection?"
   ]
  },
  {
   "cell_type": "code",
   "execution_count": 15,
   "id": "2f985ed3-558a-4c49-a236-9df8118a3cf7",
   "metadata": {},
   "outputs": [],
   "source": [
    "# By using multicollniarity, by set up threshold value."
   ]
  },
  {
   "cell_type": "code",
   "execution_count": 16,
   "id": "bbfa3038-bf95-460d-9d80-3012857c7d69",
   "metadata": {},
   "outputs": [],
   "source": [
    "# Q8. How do you pickle and unpickle a trained Elastic Net Regression model in Python?"
   ]
  },
  {
   "cell_type": "code",
   "execution_count": null,
   "id": "7702bb67-1e90-499f-a90a-00a013f01ab4",
   "metadata": {},
   "outputs": [],
   "source": [
    "# import pickle\n",
    "# pickle.dump(Model name, open(\"file name.pkl\"),\"wb\")\n",
    "# for unpickle: \n",
    "# pickle.load(model name, open(\"file name.pkl\"),\"rb\")"
   ]
  },
  {
   "cell_type": "code",
   "execution_count": 17,
   "id": "dbb68b52-a086-4994-b759-bbafa3467fa4",
   "metadata": {},
   "outputs": [],
   "source": [
    "# Q9. What is the purpose of pickling a model in machine learning?"
   ]
  },
  {
   "cell_type": "code",
   "execution_count": 18,
   "id": "2297d401-b11d-49c0-8416-a55050ad101a",
   "metadata": {},
   "outputs": [],
   "source": [
    "# A technique for storing trained models on disk"
   ]
  }
 ],
 "metadata": {
  "kernelspec": {
   "display_name": "Python 3 (ipykernel)",
   "language": "python",
   "name": "python3"
  },
  "language_info": {
   "codemirror_mode": {
    "name": "ipython",
    "version": 3
   },
   "file_extension": ".py",
   "mimetype": "text/x-python",
   "name": "python",
   "nbconvert_exporter": "python",
   "pygments_lexer": "ipython3",
   "version": "3.10.8"
  }
 },
 "nbformat": 4,
 "nbformat_minor": 5
}
