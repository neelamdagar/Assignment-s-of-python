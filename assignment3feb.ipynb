{
 "cells": [
  {
   "cell_type": "code",
   "execution_count": 11,
   "id": "ecd2ee07-eef5-4ef7-a391-6413a8980510",
   "metadata": {},
   "outputs": [
    {
     "data": {
      "text/plain": [
       "[1, 3, 5, 7, 9, 11, 13, 15, 17, 19, 21, 23, 25]"
      ]
     },
     "execution_count": 11,
     "metadata": {},
     "output_type": "execute_result"
    }
   ],
   "source": [
    "# Question 1: Which keyword is used to create a function? Create a function to return a list of odd numbers in the range of 1 to 25:\n",
    "# Answer : def keyword is used to create a function\n",
    "k=list(range(1,26,2))\n",
    "def odd(k):\n",
    "    l1=[]\n",
    "    for i in range(1,26,2):\n",
    "        l1.append(i)\n",
    "    return l1\n",
    "odd(k)"
   ]
  },
  {
   "cell_type": "code",
   "execution_count": 12,
   "id": "126904b8-2f7c-49f2-bcaa-f526456a648e",
   "metadata": {},
   "outputs": [
    {
     "data": {
      "text/plain": [
       "('Neelam', 'Ashu', 'Rahul', 'Ashok')"
      ]
     },
     "execution_count": 12,
     "metadata": {},
     "output_type": "execute_result"
    }
   ],
   "source": [
    "# QUestion 2 : Why * args and **kwargs is used in some function? Create a function each for * args and **kwargs to demonstrate their use.\n",
    "# Answer : *args and **kwargs allow you to pass multiple arguments or keyword arguments to a function. **kwargs for dictinory  and *args ( n number of \n",
    " # argument you can pass in the function and store in tuples ) \n",
    "def test1(*args):\n",
    "    return args\n",
    "test1('Neelam','Ashu','Rahul','Ashok',1,24,[2,35])"
   ]
  },
  {
   "cell_type": "code",
   "execution_count": 15,
   "id": "41b994ab-536f-45aa-aeda-0e1cf0cd3f0f",
   "metadata": {},
   "outputs": [
    {
     "data": {
      "text/plain": [
       "{'a': 'Neelam', 'b': 'Rahul', 'c': 'Ashu', 'd': 'Ashok', 'e': 1234}"
      ]
     },
     "execution_count": 15,
     "metadata": {},
     "output_type": "execute_result"
    }
   ],
   "source": [
    "def test2(**kwargs):\n",
    "    return kwargs\n",
    "test2(a=\"Neelam\",b=\"Rahul\",c=\"Ashu\",d=\"Ashok\",e=1234) "
   ]
  },
  {
   "cell_type": "code",
   "execution_count": 18,
   "id": "37b9abe4-5de1-4180-b987-3a218f559f2e",
   "metadata": {},
   "outputs": [
    {
     "name": "stdout",
     "output_type": "stream",
     "text": [
      "0\n",
      "1\n",
      "1\n",
      "2\n",
      "3\n",
      "5\n",
      "8\n",
      "13\n",
      "21\n",
      "34\n"
     ]
    }
   ],
   "source": [
    "# Question 6: Write a program to print the first 10 Fibonacci number using a while loop.\n",
    "\n",
    "i=0\n",
    "a,b=0,1\n",
    "while(i<10):\n",
    "    print(a)\n",
    "    c=a+b\n",
    "    a=b\n",
    "    b=c\n",
    "    i=i+1\n",
    "    "
   ]
  },
  {
   "cell_type": "code",
   "execution_count": 19,
   "id": "0413e42c-c841-4305-9fc4-37792dff4e09",
   "metadata": {},
   "outputs": [
    {
     "data": {
      "text/plain": [
       "['p', 'w', 's', 'k', 'i', 'l', 'l', 's']"
      ]
     },
     "execution_count": 19,
     "metadata": {},
     "output_type": "execute_result"
    }
   ],
   "source": [
    "# Question 7 Write a comprehension to iterate through the given string; \"pwskills\"\n",
    "l=\"pwskills\"\n",
    "[i for i in l]"
   ]
  },
  {
   "cell_type": "code",
   "execution_count": 2,
   "id": "bba5225d-3f54-48bb-91b0-f43800036f4c",
   "metadata": {},
   "outputs": [
    {
     "name": "stdin",
     "output_type": "stream",
     "text": [
      "enter number 121\n"
     ]
    },
    {
     "name": "stdout",
     "output_type": "stream",
     "text": [
      "yes it is plaidrome\n"
     ]
    }
   ],
   "source": [
    "#Question 8 Write a python program to check whether a given number is Palindrome or not using while loop.\n",
    "n=int(input(\"enter number\"))\n",
    "temp=n\n",
    "rev=0\n",
    "while(n>0):\n",
    "    rev=rev*10+n%10\n",
    "    n=n//10\n",
    "if temp==rev:\n",
    "    print(\"yes it is plaidrome\")\n",
    "else:\n",
    "    print(\"not a planidorme\")\n",
    "    "
   ]
  },
  {
   "cell_type": "code",
   "execution_count": 37,
   "id": "b8aa8bfc-45d4-4c4d-891d-75c3af0561aa",
   "metadata": {},
   "outputs": [
    {
     "name": "stdout",
     "output_type": "stream",
     "text": [
      "[1, 2, 3, 4, 5, 6, 7, 8, 9, 10, 11, 12, 13, 14, 15, 16, 17, 18, 19, 20, 21, 22, 23, 24, 25, 26, 27, 28, 29, 30, 31, 32, 33, 34, 35, 36, 37, 38, 39, 40, 41, 42, 43, 44, 45, 46, 47, 48, 49, 50, 51, 52, 53, 54, 55, 56, 57, 58, 59, 60, 61, 62, 63, 64, 65, 66, 67, 68, 69, 70, 71, 72, 73, 74, 75, 76, 77, 78, 79, 80, 81, 82, 83, 84, 85, 86, 87, 88, 89, 90, 91, 92, 93, 94, 95, 96, 97, 98, 99, 100]\n"
     ]
    }
   ],
   "source": [
    "# Question 9  Write a code to print odd numbers from 1 to 100 using list comprehension\n",
    "[i for i in range(1,101,1)]\n",
    "print(l1)"
   ]
  },
  {
   "cell_type": "code",
   "execution_count": 35,
   "id": "7f298425-3bb1-4685-b6b9-b1d534937498",
   "metadata": {},
   "outputs": [
    {
     "data": {
      "text/plain": [
       "[1,\n",
       " 3,\n",
       " 5,\n",
       " 7,\n",
       " 9,\n",
       " 11,\n",
       " 13,\n",
       " 15,\n",
       " 17,\n",
       " 19,\n",
       " 21,\n",
       " 23,\n",
       " 25,\n",
       " 27,\n",
       " 29,\n",
       " 31,\n",
       " 33,\n",
       " 35,\n",
       " 37,\n",
       " 39,\n",
       " 41,\n",
       " 43,\n",
       " 45,\n",
       " 47,\n",
       " 49,\n",
       " 51,\n",
       " 53,\n",
       " 55,\n",
       " 57,\n",
       " 59,\n",
       " 61,\n",
       " 63,\n",
       " 65,\n",
       " 67,\n",
       " 69,\n",
       " 71,\n",
       " 73,\n",
       " 75,\n",
       " 77,\n",
       " 79,\n",
       " 81,\n",
       " 83,\n",
       " 85,\n",
       " 87,\n",
       " 89,\n",
       " 91,\n",
       " 93,\n",
       " 95,\n",
       " 97,\n",
       " 99]"
      ]
     },
     "execution_count": 35,
     "metadata": {},
     "output_type": "execute_result"
    }
   ],
   "source": [
    "[i for i in range(1,101,2)]"
   ]
  },
  {
   "cell_type": "code",
   "execution_count": 38,
   "id": "9b5f5d40-bbc9-4dea-8aad-25a5b2a6b6f3",
   "metadata": {},
   "outputs": [
    {
     "data": {
      "text/plain": [
       "<list_iterator at 0x7f4d8c05f040>"
      ]
     },
     "execution_count": 38,
     "metadata": {},
     "output_type": "execute_result"
    }
   ],
   "source": [
    "# Question 3 : What is an iterator in python? Name the method used to initalise the iterator objects and the method used for iteration. \n",
    " #Use these methods to print the first five elements of the given list[2,4,6,8,10,12]\n",
    "# Answer : An iterator is an object that contains a countable number of values. An iterator is an object that can be iterated upon,\n",
    "# meaning that you can traverse through all the values.\n",
    "# The iterator object is initialized using the iter() method. It uses the next() method for iteration.\n",
    "list1=[2,4,6,8,10,12]\n",
    "iter(list1)"
   ]
  },
  {
   "cell_type": "code",
   "execution_count": 41,
   "id": "676cf901-7c72-43a2-b42b-92b8b5f2580b",
   "metadata": {},
   "outputs": [
    {
     "name": "stdout",
     "output_type": "stream",
     "text": [
      "2\n"
     ]
    }
   ],
   "source": [
    "list2=iter(list1)\n",
    "print(next(list2))"
   ]
  },
  {
   "cell_type": "code",
   "execution_count": 42,
   "id": "e955b1ad-d8fa-4c78-b537-19077c4cdc0d",
   "metadata": {},
   "outputs": [
    {
     "name": "stdout",
     "output_type": "stream",
     "text": [
      "4\n"
     ]
    }
   ],
   "source": [
    "print(next(list2))"
   ]
  },
  {
   "cell_type": "code",
   "execution_count": 43,
   "id": "e7810170-29d3-4b89-8f48-c818869325a8",
   "metadata": {},
   "outputs": [
    {
     "name": "stdout",
     "output_type": "stream",
     "text": [
      "6\n"
     ]
    }
   ],
   "source": [
    "print(next(list2))"
   ]
  },
  {
   "cell_type": "code",
   "execution_count": 44,
   "id": "8afef986-3240-4ae3-be00-be54ac6e7ed1",
   "metadata": {},
   "outputs": [
    {
     "name": "stdout",
     "output_type": "stream",
     "text": [
      "8\n"
     ]
    }
   ],
   "source": [
    "print(next(list2))"
   ]
  },
  {
   "cell_type": "code",
   "execution_count": 45,
   "id": "81a2bb21-73de-4a28-a36d-eeed1c6f2f47",
   "metadata": {},
   "outputs": [
    {
     "name": "stdout",
     "output_type": "stream",
     "text": [
      "10\n"
     ]
    }
   ],
   "source": [
    "print(next(list2))"
   ]
  },
  {
   "cell_type": "code",
   "execution_count": 48,
   "id": "86848b6e-2f75-4169-8cd5-2565b036a0f9",
   "metadata": {},
   "outputs": [],
   "source": [
    "# Question 4 : What is the generator function in python? Why yield keyword is used? Given an example of genertor function.\n",
    "# In Python, a generator is a function that returns an iterator that produces a sequence of values when iterated over. \n",
    "# Generators are useful when we want to produce a large sequence of values.\n",
    "# yield keyword is used to create a generator function.\n",
    "# Example Fibonacci number using generator.\n",
    "def fib(n):\n",
    "    a,b=0,1\n",
    "    for i in range(n):\n",
    "        yield a\n",
    "        a,b=b,a+b"
   ]
  },
  {
   "cell_type": "code",
   "execution_count": 49,
   "id": "65072b79-6305-4c1e-b893-9bdac5cea7d5",
   "metadata": {},
   "outputs": [
    {
     "name": "stdout",
     "output_type": "stream",
     "text": [
      "0\n",
      "1\n",
      "1\n",
      "2\n",
      "3\n",
      "5\n",
      "8\n",
      "13\n",
      "21\n",
      "34\n"
     ]
    }
   ],
   "source": [
    "for i in fib(10):\n",
    "    print(i)"
   ]
  },
  {
   "cell_type": "code",
   "execution_count": 1,
   "id": "23201623-6575-450f-9412-4fed00023e8f",
   "metadata": {},
   "outputs": [],
   "source": [
    " #Q5. Create a generator function for prime numbers less than 1000. Use the next() method to print the\n",
    " #first 20 prime numbers."
   ]
  },
  {
   "cell_type": "code",
   "execution_count": 12,
   "id": "c3a4cc74-4e2c-40af-aef8-17a59544b0c2",
   "metadata": {},
   "outputs": [
    {
     "name": "stdout",
     "output_type": "stream",
     "text": [
      "[2, 3, 5, 7, 11, 13, 17, 19, 23, 29, 31, 37, 41, 43, 47, 53, 59, 61, 67, 71, 73, 79, 83, 89, 97, 101, 103, 107, 109, 113, 127, 131, 137, 139, 149, 151, 157, 163, 167, 173, 179, 181, 191, 193, 197, 199, 211, 223, 227, 229, 233, 239, 241, 251, 257, 263, 269, 271, 277, 281, 283, 293, 307, 311, 313, 317, 331, 337, 347, 349, 353, 359, 367, 373, 379, 383, 389, 397, 401, 409, 419, 421, 431, 433, 439, 443, 449, 457, 461, 463, 467, 479, 487, 491, 499, 503, 509, 521, 523, 541, 547, 557, 563, 569, 571, 577, 587, 593, 599, 601, 607, 613, 617, 619, 631, 641, 643, 647, 653, 659, 661, 673, 677, 683, 691, 701, 709, 719, 727, 733, 739, 743, 751, 757, 761, 769, 773, 787, 797, 809, 811, 821, 823, 827, 829, 839, 853, 857, 859, 863, 877, 881, 883, 887, 907, 911, 919, 929, 937, 941, 947, 953, 967, 971, 977, 983, 991, 997]\n"
     ]
    }
   ],
   "source": [
    "def getPrimes(n):\n",
    "    i=2\n",
    "    while i<=n:\n",
    "        j=2\n",
    "        while j<=n:\n",
    "            if i%j==0:\n",
    "                break\n",
    "            j=j+1\n",
    "        if (i==j):\n",
    "            yield i \n",
    "        i=i+1\n",
    "\n",
    "l1=[]\n",
    "for i in getPrimes(1000):\n",
    "    l1.append(i)\n",
    "print(l1)\n"
   ]
  },
  {
   "cell_type": "code",
   "execution_count": 33,
   "id": "d379f865-bd4f-4952-b816-2b1fba5619e3",
   "metadata": {},
   "outputs": [
    {
     "name": "stdout",
     "output_type": "stream",
     "text": [
      "[2, 3, 5, 7, 11, 13, 17, 19, 23, 29, 31, 37, 41, 43, 47, 53, 59, 61, 67, 71]\n"
     ]
    }
   ],
   "source": [
    "def getPrimes(n):\n",
    "    i=2\n",
    "    while i<=n:\n",
    "        j=2\n",
    "        while j<=n:\n",
    "            if i%j==0:\n",
    "                break\n",
    "            j=j+1\n",
    "        if (i==j):\n",
    "            yield i \n",
    "        i=i+1\n",
    "c=getPrimes(71)\n",
    "l3=[]\n",
    "for i in range(1,21,1):\n",
    "    l3.append(next(c))\n",
    "print(l3)"
   ]
  },
  {
   "cell_type": "code",
   "execution_count": null,
   "id": "2ccb1675-f1da-4d68-97a5-be3e519c4e2c",
   "metadata": {},
   "outputs": [],
   "source": [
    "\n",
    "def prime(n):\n",
    "    l1 =[]\n",
    "    for i in range(2,n,1):\n",
    "        l1.append(i)\n",
    "    for i in l1:\n",
    "        for k in l1:\n",
    "            if i%k==0:\n",
    "                break\n",
    "        if(i==k):\n",
    "            yield i\n",
    "l2=[]\n",
    "for i in prime(1000):\n",
    "    l2.append(i)\n",
    "print(l2)\n",
    "                "
   ]
  },
  {
   "cell_type": "code",
   "execution_count": null,
   "id": "f6b29f53-2c2d-4c39-a7ee-060b1a46b85a",
   "metadata": {},
   "outputs": [],
   "source": []
  }
 ],
 "metadata": {
  "kernelspec": {
   "display_name": "Python 3 (ipykernel)",
   "language": "python",
   "name": "python3"
  },
  "language_info": {
   "codemirror_mode": {
    "name": "ipython",
    "version": 3
   },
   "file_extension": ".py",
   "mimetype": "text/x-python",
   "name": "python",
   "nbconvert_exporter": "python",
   "pygments_lexer": "ipython3",
   "version": "3.10.8"
  }
 },
 "nbformat": 4,
 "nbformat_minor": 5
}
