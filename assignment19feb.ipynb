{
 "cells": [
  {
   "cell_type": "code",
   "execution_count": 1,
   "id": "0bb91230-75fc-4e4d-8aa0-653e086d5ad9",
   "metadata": {},
   "outputs": [],
   "source": [
    "# Q1. What is Flask Framework? What are the advantages of Flask Framework?\n",
    "# Answer : We have a client and server. So firstly client reached to server and then Flask provided a route to reached out of the particular\n",
    "# function.\n",
    "# Flask is a micro web framework written in Python. It is classified as a microframework because it does not require particular tools or \n",
    "# libraries. It has no database abstraction layer, form validation, or any other components where pre-existing third-party libraries provide\n",
    "# common functions.\n",
    "# Advantage of Flask :\n",
    "# 1) It is lightweight framework.\n",
    "# 2) It is known as for its Simplicity, Scalablity, flexblity .\n",
    "# 3) Support for secure cookies.\n",
    "# 4)It is suitable for small projects.\n"
   ]
  },
  {
   "cell_type": "code",
   "execution_count": 3,
   "id": "390a82ee-d304-41d9-8cdc-281571f3614d",
   "metadata": {},
   "outputs": [],
   "source": [
    "# Q2. Create a simple Flask application to display ‘Hello World!!’. Attach the screenshot of the output in\n",
    "# Jupyter Notebook.\n",
    "# Answer :\n",
    "# code: \n",
    "# from flask import Flask\n",
    "# app=Flask(__name__)\n",
    "# app.route(\"/test1\")\n",
    "# def test1():\n",
    "#     return \"<h1> Hello World!!</h1>\"\n",
    "# if__name__=\"__main__\":\n",
    "#     app.run(host=\"0.0.0.0\")\n",
    "\n"
   ]
  },
  {
   "cell_type": "markdown",
   "id": "39f05692-3071-418c-8a30-728cb24b1cdc",
   "metadata": {},
   "source": [
    "![screenshot](C:\\Users\\neela\\OneDrive\\Desktop\\screenshot.png)"
   ]
  },
  {
   "cell_type": "code",
   "execution_count": 10,
   "id": "50d911cb-ea23-4b3b-80f5-ec13c0faaf8f",
   "metadata": {},
   "outputs": [],
   "source": [
    "# Q3. What is App routing in Flask? Why do we use app routes?\n",
    "# App routing is used to map the specific URL with the associated function that is intended to perform some task. \n",
    "# It is used to access some particular page like Flask Tutorial in the web application.\n",
    "# we use app routes help to client to reached to the particular funation in the server.\n",
    "\n"
   ]
  },
  {
   "cell_type": "code",
   "execution_count": 11,
   "id": "91d17a62-2176-4797-8e65-ad6389f11c0a",
   "metadata": {},
   "outputs": [],
   "source": [
    "# Q4. Create a “/welcome” route to display the welcome message “Welcome to ABC Corporation” and a “/”\n",
    "# route to show the following details:\n",
    "# Company Name: ABC Corporation\n",
    "# Location: India\n",
    "# Contact Detail: 999-999-9999\n",
    "#code:\n",
    "# from flask import Flask\n",
    "\n",
    "# app = Flask(name)\n",
    "\n",
    "# @app.route('/welcome')\n",
    "# def welcome():\n",
    "#     return 'Welcome to ABC Corportion'\n",
    "\n",
    "# @app.route('/')\n",
    "# def details():\n",
    "#     company_name=\"ABC Corportion\"\n",
    "#     location=\"India\"\n",
    "#     contact_detail='999-999-9999'\n",
    "#     return f'Company Name :{company_name}<br>Location:{location}<br>Contact Details:{contact_details}'\n",
    "\n",
    "# if name=='main':\n",
    "#     app.run(debug=True)\n",
    "# if name==\"main\":\n",
    "#     app.run(host=\"0.0.0.0\")\n"
   ]
  },
  {
   "cell_type": "code",
   "execution_count": null,
   "id": "31505216-ce5a-4ab0-9a5d-d2471bf17dbe",
   "metadata": {},
   "outputs": [],
   "source": []
  },
  {
   "cell_type": "code",
   "execution_count": 12,
   "id": "bcd2da03-d340-4d90-a7c0-b2fe33904ef0",
   "metadata": {},
   "outputs": [],
   "source": [
    "# Q5. What function is used in Flask for URL Building? Write a Python code to demonstrate the working of the\n",
    "# url_for() function.\n",
    "# Answer :url_for() function\n",
    "# code:\n",
    "#from flask import Flask\n",
    "# app=Flask(__name__)\n",
    "# app.route(\"/test1\")\n",
    "# def test1():\n",
    "#     return \"<h1> Hello World!!</h1>\"\n",
    "# if__name__=\"__main__\":\n",
    "#     app.run(host=\"0.0.0.0\")"
   ]
  },
  {
   "cell_type": "markdown",
   "id": "e83b4e40-497f-476f-8e8a-3423d51ecc04",
   "metadata": {},
   "source": []
  }
 ],
 "metadata": {
  "kernelspec": {
   "display_name": "Python 3 (ipykernel)",
   "language": "python",
   "name": "python3"
  },
  "language_info": {
   "codemirror_mode": {
    "name": "ipython",
    "version": 3
   },
   "file_extension": ".py",
   "mimetype": "text/x-python",
   "name": "python",
   "nbconvert_exporter": "python",
   "pygments_lexer": "ipython3",
   "version": "3.10.8"
  }
 },
 "nbformat": 4,
 "nbformat_minor": 5
}
