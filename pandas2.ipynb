{
 "cells": [
  {
   "cell_type": "code",
   "execution_count": 9,
   "id": "ada81891-a4ea-40f5-a30e-949f6764507b",
   "metadata": {},
   "outputs": [
    {
     "name": "stdout",
     "output_type": "stream",
     "text": [
      "0     4\n",
      "1     8\n",
      "2    15\n",
      "3    16\n",
      "4    23\n",
      "5    42\n",
      "dtype: int64\n"
     ]
    }
   ],
   "source": [
    "# Q1. Create a Pandas Series that contains the following data: 4, 8, 15, 16, 23, and 42. Then, print the series.\n",
    "import pandas as pd\n",
    "\n",
    "data =[4,8,15,16,23,42]\n",
    "\n",
    "df = pd.Series(data)\n",
    "\n",
    "print(df)"
   ]
  },
  {
   "cell_type": "code",
   "execution_count": 11,
   "id": "0b5b7572-031f-465b-941d-83b6a3f907f5",
   "metadata": {},
   "outputs": [
    {
     "data": {
      "text/plain": [
       "pandas.core.series.Series"
      ]
     },
     "execution_count": 11,
     "metadata": {},
     "output_type": "execute_result"
    }
   ],
   "source": [
    "type(df)"
   ]
  },
  {
   "cell_type": "code",
   "execution_count": 12,
   "id": "bf64be37-17c1-4cc5-88c9-062870bc5458",
   "metadata": {},
   "outputs": [],
   "source": [
    "# Q2. Create a variable of list type containing 10 elements in it, and apply pandas.Series function on the\n",
    "# variable print it."
   ]
  },
  {
   "cell_type": "code",
   "execution_count": 14,
   "id": "1966015d-f711-494f-94dc-114488943dfe",
   "metadata": {},
   "outputs": [
    {
     "name": "stdout",
     "output_type": "stream",
     "text": [
      "0    a\n",
      "1    b\n",
      "2    c\n",
      "3    d\n",
      "4    e\n",
      "5    f\n",
      "6    g\n",
      "7    h\n",
      "8    i\n",
      "9    k\n",
      "dtype: object\n"
     ]
    }
   ],
   "source": [
    "import pandas as pd\n",
    "data1=['a','b','c','d','e','f','g','h','i','k']\n",
    "df=pd.Series(data1)\n",
    "print(df)"
   ]
  },
  {
   "cell_type": "code",
   "execution_count": 15,
   "id": "8fb8cded-1729-4a06-a0ca-2450a09454af",
   "metadata": {},
   "outputs": [
    {
     "name": "stdout",
     "output_type": "stream",
     "text": [
      "     Name  Age  Gender\n",
      "0     Bob   30    male\n",
      "1   Alice   25  Female\n",
      "2  Claire   27  Claire\n"
     ]
    }
   ],
   "source": [
    "# Q3. Create a Pandas DataFrame that contains the following data:\n",
    "import pandas as pd\n",
    "data2 = {'Name': ['Bob','Alice','Claire'],\n",
    "\n",
    "        'Age': [30,25,27],\n",
    "\n",
    "        'Gender':['male','Female','Claire']}\n",
    "df1=pd.DataFrame(data2)\n",
    "print(df1)\n"
   ]
  },
  {
   "cell_type": "code",
   "execution_count": 16,
   "id": "ed302df9-06f0-42b0-b893-9148acca88af",
   "metadata": {},
   "outputs": [],
   "source": [
    "# Q4. What is ‘DataFrame’ in pandas and how is it different from pandas.series? Explain with an example.\n",
    "# Pandas DataFrame, on the other hand, is a two-dimensional structure with columns and rows whose size can be changed.\n",
    "# You can also think of it as a dictionary of Series objects.\n",
    "# The data parameter can take any of the following data types: Dictionary\n",
    "# Series: Series in pandas is one dimensional array \n",
    "# A Pandas Series is like a column in a table.\n",
    "# Example if we take data and dataframe show complete data as above example but in series we see example two in list format and it is one dimensional array."
   ]
  },
  {
   "cell_type": "code",
   "execution_count": 18,
   "id": "3b974656-708a-42fb-ac37-ead7e06512b1",
   "metadata": {},
   "outputs": [],
   "source": [
    "# Q5. What are some common functions you can use to manipulate data in a Pandas DataFrame? Can\n",
    "# you give an example of when you might use one of these functions?\n",
    "# Answer: head() it show by deafault first five column in the data , tail() it show by default last five column's data, columns are used to describe \n",
    "# columns of the data. \n",
    "# For Example :\n",
    "# when we have a large data set so we can use to find last or first or any columns data "
   ]
  },
  {
   "cell_type": "code",
   "execution_count": 19,
   "id": "b4ce6e72-4b9c-42a9-aff1-3c3b1b67c41f",
   "metadata": {},
   "outputs": [],
   "source": [
    "# Q6. Which of the following is mutable in nature Series, DataFrame, Panel?\n",
    "# All Pandas data structures are value mutable (can be changed) and except Series all are size mutable."
   ]
  },
  {
   "cell_type": "code",
   "execution_count": 20,
   "id": "79d67ce3-ebe1-4a9e-b8f6-787459b52723",
   "metadata": {},
   "outputs": [],
   "source": [
    "# Q7. Create a DataFrame using multiple Series. Explain with an example."
   ]
  },
  {
   "cell_type": "code",
   "execution_count": 22,
   "id": "365d48af-267a-463f-971e-2a94ecfbc517",
   "metadata": {},
   "outputs": [
    {
     "name": "stdout",
     "output_type": "stream",
     "text": [
      "         0      1     2\n",
      "0    Spark  22000  1000\n",
      "1  PySpark  25000  2300\n",
      "2   Hadoop  23000  1000\n"
     ]
    }
   ],
   "source": [
    "#Answer:\n",
    "import pandas as pd\n",
    "# Create pandas Series\n",
    "courses = pd.Series([\"Spark\",\"PySpark\",\"Hadoop\"])\n",
    "fees = pd.Series([22000,25000,23000])\n",
    "discount  = pd.Series([1000,2300,1000])\n",
    "\n",
    "# Combine two series.\n",
    "df=pd.concat([courses,fees],axis=1)\n",
    "\n",
    "# It also supports to combine multiple series.\n",
    "df=pd.concat([courses,fees,discount],axis=1)\n",
    "print(df)\n"
   ]
  },
  {
   "cell_type": "code",
   "execution_count": 23,
   "id": "5f837aa3-8d64-4842-933c-0bb01b0c34e2",
   "metadata": {},
   "outputs": [
    {
     "name": "stdout",
     "output_type": "stream",
     "text": [
      "         0      1     2\n",
      "0    Spark  22000  1000\n",
      "1  PySpark  25000  2300\n",
      "2   Hadoop  23000  1000\n"
     ]
    }
   ],
   "source": [
    "import pandas as ps\n",
    "course=ps.Series(['python','sql','html'])\n",
    "fee=ps.Series([200,500,600])\n",
    "discount=ps.Series([5,7,8])\n",
    "df4=pd.concat([course,fee,discount],axis=1)\n",
    "print(df)"
   ]
  },
  {
   "cell_type": "code",
   "execution_count": 24,
   "id": "3ab1182b-3dd2-4dc9-b238-c5ccede3618f",
   "metadata": {},
   "outputs": [
    {
     "data": {
      "text/plain": [
       "pandas.core.frame.DataFrame"
      ]
     },
     "execution_count": 24,
     "metadata": {},
     "output_type": "execute_result"
    }
   ],
   "source": [
    "type(df4)"
   ]
  },
  {
   "cell_type": "code",
   "execution_count": null,
   "id": "d4ef03d3-58fe-4ab3-8bf5-dabcd9d8e250",
   "metadata": {},
   "outputs": [],
   "source": []
  }
 ],
 "metadata": {
  "kernelspec": {
   "display_name": "Python 3 (ipykernel)",
   "language": "python",
   "name": "python3"
  },
  "language_info": {
   "codemirror_mode": {
    "name": "ipython",
    "version": 3
   },
   "file_extension": ".py",
   "mimetype": "text/x-python",
   "name": "python",
   "nbconvert_exporter": "python",
   "pygments_lexer": "ipython3",
   "version": "3.10.8"
  }
 },
 "nbformat": 4,
 "nbformat_minor": 5
}
