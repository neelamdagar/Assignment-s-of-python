{
 "cells": [
  {
   "cell_type": "code",
   "execution_count": 2,
   "id": "441daada-af30-4472-bf92-d1670be0f35c",
   "metadata": {},
   "outputs": [],
   "source": [
    "# # Q1. What is an exception in python.Write the difference between Exception and syntax error?\n",
    "# Errors cannot be handled, while Python exceptions can be handled at the run time. An error can be a syntax (parsing) error, \n",
    "# while there can be many types of exceptions that could occur during the execution and are not unconditionally inoperable.\n",
    "# A syntax error occurs when the structure of a program does not conform to the rules of the programming language.\n",
    "# Syntax errors are usually detected by the compiler or interpreter when the program is being compiled or executed,\n",
    "# and they prevent the program from running.\n",
    "# Syntax errors are usually caused by mistakes in the source code, such as typos, omissions, or incorrect use of syntax.\n",
    "\n",
    "# An exception is an abnormal event that occurs during the execution of a program. \n",
    "# Exceptions are usually caused by runtime errors, such as dividing by zero,\n",
    "# trying to access an element in an array with an out-of-bounds index, or trying to access a file that does not exist.\n",
    "# Exceptions are not syntax errors, but they can still prevent the program from running if they are not handled properly."
   ]
  },
  {
   "cell_type": "code",
   "execution_count": 4,
   "id": "7448b46b-256b-4e99-9304-e1a37be1c56c",
   "metadata": {},
   "outputs": [
    {
     "ename": "ZeroDivisionError",
     "evalue": "division by zero",
     "output_type": "error",
     "traceback": [
      "\u001b[0;31m---------------------------------------------------------------------------\u001b[0m",
      "\u001b[0;31mZeroDivisionError\u001b[0m                         Traceback (most recent call last)",
      "Cell \u001b[0;32mIn[4], line 5\u001b[0m\n\u001b[1;32m      1\u001b[0m \u001b[38;5;66;03m# #Qustion 2:-What happend when ecxception is not handled? Exaplain with an example.\u001b[39;00m\n\u001b[1;32m      2\u001b[0m \u001b[38;5;66;03m# When an exception occurred, if you don't handle it, \u001b[39;00m\n\u001b[1;32m      3\u001b[0m \u001b[38;5;66;03m# the program terminates abruptly and the code past the line that caused the exception will not get executed.\u001b[39;00m\n\u001b[1;32m      4\u001b[0m a\u001b[38;5;241m=\u001b[39m\u001b[38;5;241m10\u001b[39m\n\u001b[0;32m----> 5\u001b[0m \u001b[38;5;28mprint\u001b[39m(\u001b[38;5;241;43m1\u001b[39;49m\u001b[38;5;241;43m/\u001b[39;49m\u001b[38;5;241;43m0\u001b[39;49m)\n\u001b[1;32m      6\u001b[0m \u001b[38;5;28mprint\u001b[39m(\u001b[38;5;124m\"\u001b[39m\u001b[38;5;124mthis is my book\u001b[39m\u001b[38;5;124m\"\u001b[39m)\n",
      "\u001b[0;31mZeroDivisionError\u001b[0m: division by zero"
     ]
    }
   ],
   "source": [
    "# #Qustion 2:-What happend when ecxception is not handled? Exaplain with an example.\n",
    "# When an exception occurred, if you don't handle it, \n",
    "# the program terminates abruptly and the code past the line that caused the exception will not get executed.\n",
    "a=10\n",
    "print(1/0)\n",
    "print(\"this is my book\") # this is write but for read this we have to use Exception handling."
   ]
  },
  {
   "cell_type": "code",
   "execution_count": 7,
   "id": "d02490e5-59c4-419d-9bac-f1ae8463eca2",
   "metadata": {},
   "outputs": [
    {
     "name": "stdout",
     "output_type": "stream",
     "text": [
      "division by zero\n",
      "no matter if the try block raise an error or not\n"
     ]
    }
   ],
   "source": [
    "# question 4: Exaplain with an example:\n",
    "# try and else\n",
    "# finally\n",
    "#raise\n",
    "# The try block lets you test a block of code for errors. \n",
    "# The except block lets you handle the error. The else block lets you execute code when there is no error.\n",
    "# The finally block will be executed no matter if the try block raises an error or not. \n",
    "# This can be useful to close objects and clean up resources.\n",
    "# The raise keyword is used to raise an exception. You can define what kind of error to raise, and the text to print to the user.\n",
    "# for example:-\n",
    "try :\n",
    "    10/0\n",
    "except ZeroDivisionError as e:\n",
    "    print(e)\n",
    "finally :\n",
    "    print(\"no matter if the try block raise an error or not\")"
   ]
  },
  {
   "cell_type": "code",
   "execution_count": 6,
   "id": "a5d5ccc8-5f68-4b09-aec1-4f9f6e7d3cf2",
   "metadata": {},
   "outputs": [
    {
     "name": "stdout",
     "output_type": "stream",
     "text": [
      "heelo\n",
      "there is no error in try\n"
     ]
    }
   ],
   "source": [
    "try:\n",
    "    print(\"heelo\")\n",
    "except Exception as e:\n",
    "    print(e)\n",
    "else:\n",
    "    print(\"there is no error in try\")"
   ]
  },
  {
   "cell_type": "code",
   "execution_count": 9,
   "id": "85cbe105-d9c2-4e51-9ad0-7016bfc0eb88",
   "metadata": {},
   "outputs": [
    {
     "name": "stdin",
     "output_type": "stream",
     "text": [
      "enter a number -9\n"
     ]
    },
    {
     "name": "stdout",
     "output_type": "stream",
     "text": [
      "number is negative\n"
     ]
    }
   ],
   "source": [
    "class number(Exception):\n",
    "    def __init__(self,msg):\n",
    "        self.msg=msg\n",
    "    \n",
    "def number1(num):\n",
    "    if num>1000:\n",
    "        raise number (\"large number\")\n",
    "    elif num<0:\n",
    "        raise number (\"number is negative\")\n",
    "    else:\n",
    "        print(\"nice number\")\n",
    "try:\n",
    "    num=int(input(\"enter a number\"))\n",
    "    number1(num)\n",
    "except number as e:\n",
    "    print(e)\n",
    "else:\n",
    "    print(\"excute only when there is no error in try block\")\n",
    "    \n",
    "    "
   ]
  },
  {
   "cell_type": "code",
   "execution_count": 10,
   "id": "956bf5ab-76ea-4e25-a37f-97820b150bd6",
   "metadata": {},
   "outputs": [
    {
     "name": "stdin",
     "output_type": "stream",
     "text": [
      "enter a number 8\n"
     ]
    },
    {
     "name": "stdout",
     "output_type": "stream",
     "text": [
      "nice number\n",
      "excute only when there is no error in try block\n"
     ]
    }
   ],
   "source": [
    "# Question 5: what are the custom Exception in python? why we need it ? give an example\n",
    "#Like standard exception classes, custom exceptions are also classes.\n",
    "# Hence, you can add functionality to the custom exception classes like: \n",
    "# Adding attributes and properties. Adding methods e.g., log the exception, format the output, etc.\n",
    "# Use custom exceptions in your projects. Leave built-in exceptions to typical situations in which they are raised, \n",
    "# and raise custom ones to inform what went wrong in relation to the application, not the code itself\n",
    "# for example we take input pf number and we have to give an msg to user if they write a negative or postive so we can use custom exceotion:\n",
    "class number(Exception):\n",
    "    def __init__(self,msg):\n",
    "        self.msg=msg\n",
    "    \n",
    "def number1(num):\n",
    "    if num>1000:\n",
    "        raise number (\"large number\")\n",
    "    elif num<0:\n",
    "        raise number (\"number is negative\")\n",
    "    else:\n",
    "        print(\"nice number\")\n",
    "try:\n",
    "    num=int(input(\"enter a number\"))\n",
    "    number1(num)\n",
    "except number as e:\n",
    "    print(e)\n",
    "else:\n",
    "    print(\"excute only when there is no error in try block\")\n",
    "    \n",
    "    "
   ]
  },
  {
   "cell_type": "code",
   "execution_count": 12,
   "id": "681fc8e0-8f55-48a0-884f-57e8c435e834",
   "metadata": {},
   "outputs": [
    {
     "name": "stdin",
     "output_type": "stream",
     "text": [
      "enter your age 900\n"
     ]
    },
    {
     "name": "stdout",
     "output_type": "stream",
     "text": [
      "enter age is very very high\n"
     ]
    }
   ],
   "source": [
    "# Question 6:Create a custom exception class.Use the class to handle the exception.\n",
    "class validateage(Exception):\n",
    "    def __init__(self,msg):\n",
    "        self.msg=msg\n",
    "def validateage1(age):\n",
    "    if age<0:\n",
    "        raise validateage(\"age enter age is negative\")\n",
    "    elif age>200:\n",
    "        raise validateage(\"enter age is very very high\")\n",
    "    else:\n",
    "        print(\"age is valid\")    \n",
    "try:\n",
    "    age=int(input(\"enter your age\"))\n",
    "    validateage1(age)\n",
    "except validateage as e:\n",
    "            print(e)\n",
    "            "
   ]
  },
  {
   "cell_type": "code",
   "execution_count": 14,
   "id": "6221bb7f-48be-4576-879d-cf44a961aa7f",
   "metadata": {},
   "outputs": [
    {
     "name": "stdout",
     "output_type": "stream",
     "text": [
      "division by zero\n"
     ]
    }
   ],
   "source": [
    "# Question 3:which python is used to catch and handling exception .Explain with an example.\n",
    "# The try and except block in Python is used to catch and handle exceptions. Python executes code following the try statement as a “normal”\n",
    "# part of the program.\n",
    "# The code that follows the except statement is the program's response to any exceptions in the preceding try clause.\n",
    "# for example:\n",
    "# a=10\n",
    "# print(1/0) \n",
    "# print(\"this is my book\") : for example i want to excute it so use try and except block\n",
    "try:\n",
    "    10/0\n",
    "except Exception as e:\n",
    "    print(e) # it will print an handle the error."
   ]
  },
  {
   "cell_type": "code",
   "execution_count": null,
   "id": "9719baf3-7d43-4f55-9737-79366ce6c0f4",
   "metadata": {},
   "outputs": [],
   "source": []
  }
 ],
 "metadata": {
  "kernelspec": {
   "display_name": "Python 3 (ipykernel)",
   "language": "python",
   "name": "python3"
  },
  "language_info": {
   "codemirror_mode": {
    "name": "ipython",
    "version": 3
   },
   "file_extension": ".py",
   "mimetype": "text/x-python",
   "name": "python",
   "nbconvert_exporter": "python",
   "pygments_lexer": "ipython3",
   "version": "3.10.8"
  }
 },
 "nbformat": 4,
 "nbformat_minor": 5
}
