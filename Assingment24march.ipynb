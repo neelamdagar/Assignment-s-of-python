{
 "cells": [
  {
   "cell_type": "code",
   "execution_count": 1,
   "id": "06eb1e44-cba3-436a-9682-e673e34d5adf",
   "metadata": {},
   "outputs": [],
   "source": [
    "# Q1. What are the key features of the wine quality data set? Discuss the importance of each feature in\n",
    "# predicting the quality of wine."
   ]
  },
  {
   "cell_type": "code",
   "execution_count": 2,
   "id": "a5131e43-01a0-4576-8d88-6bbc5b990e38",
   "metadata": {},
   "outputs": [],
   "source": [
    "# Input variables (based on physicochemical tests):\n",
    "# 1 - fixed acidity\n",
    "# 2 - volatile acidity\n",
    "# 3 - citric acid\n",
    "# 4 - residual sugar\n",
    "# 5 - chlorides\n",
    "# 6 - free sulfur dioxide\n",
    "# 7 - total sulfur dioxide\n",
    "# 8 - density\n",
    "# 9 - pH\n",
    "# 10 - sulphates\n",
    "# 11 - alcohol\n",
    "# Output variable (based on sensory data):\n",
    "# 12 - quality (score between 0 and 10)\n",
    "# For fixed acidity: There is a postive correlation between Quality of wine and Fixed acidity.Means when acidity increase then quality \n",
    "# will increase and vice versa.\n",
    "## For volatile acidity:There is a negative correlation between volatile acidty increase then quality decrease and when quality increase \n",
    "# then volatile acidity increase.\n",
    "## For Citric acid: There is a postive correlation between quality and citric acid.\n",
    "## For residual sugar : There is a postive correlation between quality and residual sugar.\n",
    "## For chlorides: There is a negative correlation between quality and chlorides.\n",
    "# for free sulfur dioxide: There is a negative correlation between quality and free sulfur dioxide.\n",
    "# for total sulfur dioxide: There is a negative correlation between quality and total sulfur dioxide.\n",
    "# for density: There is a negative correlation between quality and density.\n",
    "# for pH: There is a negative correlation between quality and pH.\n",
    "# for sulphates : There is a postive correlation between quality and sulphates.\n",
    "# for alchole:There is a postive correlation between quality and alchole."
   ]
  },
  {
   "cell_type": "code",
   "execution_count": 3,
   "id": "6742b5f6-725c-44c9-b2bf-bb082177c7bb",
   "metadata": {},
   "outputs": [],
   "source": [
    "# Q2. How did you handle missing data in the wine quality data set during the feature engineering process?\n",
    "# Discuss the advantages and disadvantages of different imputation techniques."
   ]
  },
  {
   "cell_type": "code",
   "execution_count": 4,
   "id": "1310bbc7-0526-443a-b40d-20fb3affcb8f",
   "metadata": {},
   "outputs": [],
   "source": [
    "# 1) first we can remove by dropna function \n",
    "# 2) we can use mean,median, mode imputaion\n",
    "# advantages:\n",
    "# Retains the information from the available data.\n",
    "# Allows for the inclusion of incomplete records in the analysis.\n",
    "# Can improve the accuracy and validity of the analysis compared to complete case analysis.\n",
    "# disadvantage:\n",
    "# in lengthy data we can not easliy use dropna function.\n",
    "# Imputation introduces uncertainty and potential bias into the dataset.\n"
   ]
  },
  {
   "cell_type": "code",
   "execution_count": 7,
   "id": "a6dfeb9e-d68d-4219-95cc-5a7b2a137b19",
   "metadata": {},
   "outputs": [],
   "source": [
    "# Q3. What are the key factors that affect students' performance in exams? How would you go about\n",
    "# analyzing these factors using statistical techniques?\n",
    "# Answer: 1) free/reduced lunch : Students who use free/reduced lunch there performnace will affect in exam.\n",
    "# 2) Parent eduction whose studenta parent eduction is high school that effect the stdents performance.\n",
    "# 3) In race/ethnicity group A and group B affects students' performance in exam.\n",
    "# 4) Students who did not complete there course prepartaion  there performance  affected in exam."
   ]
  },
  {
   "cell_type": "code",
   "execution_count": 9,
   "id": "22b511f2-0e2f-48f2-b8ab-c0fab173977c",
   "metadata": {},
   "outputs": [],
   "source": [
    "# Q4. Describe the process of feature engineering in the context of the student performance data set. How\n",
    "# did you select and transform the variables for your model?\n",
    "# Answer:\n",
    "# Data understanding: We have understand the complete data . In the students performnace we can see studnts marks and there performnace \n",
    "# with some other features\n",
    "# Check missing values : There is no missing value in student performance data set.\n",
    "# Check duplicates : There is no duplicates in student performance data set.\n",
    "# Look dataset : Now we will look information of dataset, (dataset.info()) In this dataset we have 1000 entries from 0 to 999.\n",
    "# we have total 8 columns with datatype int and objects\n",
    "# Find uniqe value for each columns : in this dataset we have uniue value for each columns,\n",
    "# gender                          2\n",
    "# race/ethnicity                  5\n",
    "# parental level of education     6\n",
    "# lunch                           2\n",
    "# test preparation course         2\n",
    "# math score                     81\n",
    "# reading score                  72\n",
    "# writing score                  77\n",
    "# Check statics of dataset : In this data set we use many ploting for summarizing and visualizing our dataset, such as ( bar, histogram, pie,\n",
    "# box etc).\n",
    "# Check categorical datatype and visualize them."
   ]
  },
  {
   "cell_type": "code",
   "execution_count": 11,
   "id": "8565c027-de0b-4c98-a59b-545ee350445c",
   "metadata": {},
   "outputs": [],
   "source": [
    "# Q5. Load the wine quality data set and perform exploratory data analysis (EDA) to identify the distribution\n",
    "# of each feature. Which feature(s) exhibit non-normality, and what transformations could be applied to\n",
    "# these features to improve normality?\n",
    "# Explanation: The residual sugar feature in the Wine Quality dataset exhibits non-normality, as confirmed by the EDA analysis. \n",
    "# The histogram and Q-Q plot of this feature show a non-normal distribution with a positive skew.\n",
    "# for imporving normality:1) Logarithmic Transformation \n",
    "#                         2) Square root Transformation \n",
    "#                         3) Reciprocal Transformation"
   ]
  },
  {
   "cell_type": "code",
   "execution_count": 1,
   "id": "54af23e0-afb0-4dfc-aab4-2d25eed971e6",
   "metadata": {},
   "outputs": [],
   "source": [
    "# Q6. Using the wine quality data set, perform principal component analysis (PCA) to reduce the number of\n",
    "# features. What is the minimum number of principal components required to explain 90% of the variance in\n",
    "# the data?"
   ]
  },
  {
   "cell_type": "code",
   "execution_count": 18,
   "id": "2922b5f2-0847-4440-a8e2-7849c05c8656",
   "metadata": {},
   "outputs": [
    {
     "name": "stdout",
     "output_type": "stream",
     "text": [
      "Minimum number of principal components to explain 90% variance: 1\n"
     ]
    }
   ],
   "source": [
    "import pandas as pd\n",
    "import numpy as np\n",
    "from sklearn.preprocessing import StandardScaler\n",
    "from sklearn.decomposition import PCA\n",
    "df=pd.read_csv(\"wine_red.csv\")\n",
    "df.head()\n",
    "standrd=StandardScaler()\n",
    "standrd.fit_transform(df)\n",
    "pca=PCA()\n",
    "X_pca = pca.fit_transform(df)\n",
    "# Calculate the explained variance ratio\n",
    "explained_variance_ratio = pca.explained_variance_ratio_\n",
    "\n",
    "# Calculate the cumulative explained variance ratio\n",
    "cumulative_variance_ratio = np.cumsum(explained_variance_ratio)\n",
    "\n",
    "# Determine the minimum number of components to explain 90% of the variance\n",
    "n_components = np.argmax(cumulative_variance_ratio >= 0.9) + 1\n",
    "\n",
    "# Print the result\n",
    "print(\"Minimum number of principal components to explain 90% variance:\", n_components)"
   ]
  },
  {
   "cell_type": "code",
   "execution_count": null,
   "id": "b0569eb8-6ece-41de-bb23-3c764f143fa3",
   "metadata": {},
   "outputs": [],
   "source": []
  }
 ],
 "metadata": {
  "kernelspec": {
   "display_name": "Python 3 (ipykernel)",
   "language": "python",
   "name": "python3"
  },
  "language_info": {
   "codemirror_mode": {
    "name": "ipython",
    "version": 3
   },
   "file_extension": ".py",
   "mimetype": "text/x-python",
   "name": "python",
   "nbconvert_exporter": "python",
   "pygments_lexer": "ipython3",
   "version": "3.10.8"
  }
 },
 "nbformat": 4,
 "nbformat_minor": 5
}
