{
 "cells": [
  {
   "cell_type": "code",
   "execution_count": 2,
   "id": "b0fcf706-3af6-48c4-a46f-54e5c434dbfd",
   "metadata": {},
   "outputs": [
    {
     "ename": "SyntaxError",
     "evalue": "invalid syntax (1791714704.py, line 2)",
     "output_type": "error",
     "traceback": [
      "\u001b[0;36m  Cell \u001b[0;32mIn[2], line 2\u001b[0;36m\u001b[0m\n\u001b[0;31m    Answer : Guido Van Rassum.\u001b[0m\n\u001b[0m                   ^\u001b[0m\n\u001b[0;31mSyntaxError\u001b[0m\u001b[0;31m:\u001b[0m invalid syntax\n"
     ]
    }
   ],
   "source": [
    "# Question 1 : Who developed pythin programming languages?\n",
    "# Answer : Guido Van Rassum.\n",
    "# Question 2 : Which type of programming does python support?\n",
    "# Answer : Python support Scripting and OOPS ( Object - Oriented Programming and Structured Programming).\n",
    "# Question 3 : Is python case senstive when dealing with indentifiers?\n",
    "# Answer : Yes , It treat upper case and lower case differently.\n",
    "# Question 4 : What is the correct extension of the python file?\n",
    "# Answer : .py extension\n",
    "# Question 5 : Is python code complied or interpreted?\n",
    "# Answer : Python is interpreted language, which means the source code of a python program is converted into bytecode that is excuted by the\n",
    "# python virtual machine.\n",
    "# Question 6 : Name a few blocks used to define in python language?\n",
    "# Answer : Indentation is used to define a blocks of code in python.Module, A function body, Class definition.\n",
    "# Question 7 : Satate a character used t give single-line comments in python language?\n",
    "# Answer : #\n",
    "# Qustion 8 : Mention functions which can helps us to find the version of python that we are currently working on?\n",
    "# Answer : sys.version\n",
    "# Question 9  : Python supports the creation of anonymous function at runtime, using a construct called .........\n",
    "# Answer : \"lambda\"\n",
    "# Question 10 : What does pip stand for python?\n",
    "# Answer : pip is standard package manager for python.It allows to install and manage additional package that are not present in standard \n",
    "# libary.\n",
    "# Question 11 : Mentionn a few built-in function in python?\n",
    "# ANswer : Print(), type(), input(), len(), sum(), max(), pow(), min() .\n",
    "# Question 12 : What is the maximum possible length of an identifier in python?\n",
    "# Answer : 79 character\n",
    "# Question 13 : What are the benifit of using python?\n",
    "# Answer :1- Python is open-source language\n",
    "#         2- It need less coding\n",
    "#         3- Large developer community\n",
    "#         4- Extensive libararies\n",
    "#         5- Write less, do more\n",
    "# Qustion 14: How is memory managed in python?\n",
    "# Answer : Memory management in python involves a private heap containing all python objects and data structure.\n",
    "# Question 15 : How to install python and set path variables?\n",
    "# Answer :1- Download the pyhton installer binaries\n",
    "#         2- Run the executable installer\n",
    "#         3- Add python to enivornmental variable\n",
    "#         4- Right click Pc and going to properties\n",
    "#         5- Clicking on advanced system settings in the menu of the left\n",
    "#         6- Clicking on the enivornmental variable\n",
    "#         7-Select path variable, edit, click new, entering python's install directory\n",
    "# Question 16 : Is indentation required in python?\n",
    "# Answer : Yes, beacause it define the blocks of statement.\n",
    "    "
   ]
  },
  {
   "cell_type": "code",
   "execution_count": null,
   "id": "c4310231-ce66-4592-bd25-9a2c1df403dd",
   "metadata": {},
   "outputs": [],
   "source": []
  }
 ],
 "metadata": {
  "kernelspec": {
   "display_name": "Python 3 (ipykernel)",
   "language": "python",
   "name": "python3"
  },
  "language_info": {
   "codemirror_mode": {
    "name": "ipython",
    "version": 3
   },
   "file_extension": ".py",
   "mimetype": "text/x-python",
   "name": "python",
   "nbconvert_exporter": "python",
   "pygments_lexer": "ipython3",
   "version": "3.10.8"
  }
 },
 "nbformat": 4,
 "nbformat_minor": 5
}
