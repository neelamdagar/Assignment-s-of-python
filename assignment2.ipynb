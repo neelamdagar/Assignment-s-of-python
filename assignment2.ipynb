{
 "cells": [
  {
   "cell_type": "code",
   "execution_count": 1,
   "id": "8cc152d7-ed24-4099-b2fb-a3ce299d5725",
   "metadata": {},
   "outputs": [],
   "source": [
    "# Question number 1 : "
   ]
  },
  {
   "cell_type": "code",
   "execution_count": 5,
   "id": "5dd4f7e4-4a65-43b9-8f38-41a7f1920dfd",
   "metadata": {},
   "outputs": [
    {
     "name": "stdin",
     "output_type": "stream",
     "text": [
      "Type your marks here :  45\n"
     ]
    },
    {
     "name": "stdout",
     "output_type": "stream",
     "text": [
      " Your grade is : D \n"
     ]
    }
   ],
   "source": [
    "Marks=int(input(\"Type your marks here : \"))\n",
    "if Marks>90:\n",
    "    print(\" Your grade is : A \")\n",
    "elif Marks>80 and Marks<=90:\n",
    "    print(\" Your grade is : B \")\n",
    "elif Marks>=60 and Marks<=80:\n",
    "    print(\" Your grade is : C \")\n",
    "else:\n",
    "    print(\" Your grade is : D \")"
   ]
  },
  {
   "cell_type": "code",
   "execution_count": 6,
   "id": "df6ce447-75b7-4ab9-8c06-8e1f1edb6e11",
   "metadata": {},
   "outputs": [],
   "source": [
    "# Question number 2 :"
   ]
  },
  {
   "cell_type": "code",
   "execution_count": 13,
   "id": "9abf9629-c625-4deb-aa5d-e14b83e8e463",
   "metadata": {},
   "outputs": [
    {
     "name": "stdin",
     "output_type": "stream",
     "text": [
      " Type here your Cost Price : 500\n"
     ]
    },
    {
     "name": "stdout",
     "output_type": "stream",
     "text": [
      " you have to pay tax for it : 5% \n"
     ]
    }
   ],
   "source": [
    "Cost_Price=int(input(\" Type here Cost Price :\"))\n",
    "if Cost_Price>100000:\n",
    "    print(\" You have to pay tax for it : 15 % \")\n",
    "elif Cost_Price>50000 and Cost_Price<=100000:\n",
    "    print(\" You have to pay tax for it : 10% \")\n",
    "else:\n",
    "    print(\" you have to pay tax for it : 5% \")"
   ]
  },
  {
   "cell_type": "code",
   "execution_count": 14,
   "id": "a54c562d-8b07-47a7-87d2-9f13969a216f",
   "metadata": {},
   "outputs": [],
   "source": [
    "# Question number 3 :"
   ]
  },
  {
   "cell_type": "code",
   "execution_count": 4,
   "id": "3f30e6d9-02a1-4cb4-87f0-7671645b7df9",
   "metadata": {},
   "outputs": [
    {
     "name": "stdin",
     "output_type": "stream",
     "text": [
      " Type here City :  mahi\n"
     ]
    },
    {
     "name": "stdout",
     "output_type": "stream",
     "text": [
      " None \n"
     ]
    }
   ],
   "source": [
    "City=input(\" Type here City : \")\n",
    "if City==\"Delhi\":\n",
    "    print(\" Red Fort \")\n",
    "elif City==\"Agra\":\n",
    "    print(\" Taj Mahal \")\n",
    "elif City==\"Jaipur\":\n",
    "    print(\" Jai Mahal \")\n",
    "else:\n",
    "    print(\" None \")"
   ]
  },
  {
   "cell_type": "code",
   "execution_count": 5,
   "id": "fa1321f9-8166-4741-8121-b9b8ce2f0927",
   "metadata": {},
   "outputs": [],
   "source": [
    " # question number 4 :"
   ]
  },
  {
   "cell_type": "code",
   "execution_count": null,
   "id": "a009d0ce-d55d-400d-95ed-7145a7be14ea",
   "metadata": {},
   "outputs": [],
   "source": [
    "Number=int(input(\" Type here number : \"))\n",
    "i=1;\n",
    "count=0\n",
    "while(Number>=10):\n",
    "    if Number%3==0:\n",
    "        count=count+1\n",
    "    Number=Number-1   \n",
    "print(count) \n",
    "        "
   ]
  },
  {
   "cell_type": "code",
   "execution_count": null,
   "id": "5b5eb99e-bfbf-4092-b050-0f33c95dd7a3",
   "metadata": {},
   "outputs": [],
   "source": [
    "# Question number 5 : Why and when to use while loop in python give a detailed description with example\n",
    "# If you think to the name of this loop, you will quickly understand that the word \"while\" has got to do something with \"interval\" or\n",
    "# a \"period of time\".\"loop\" refer to a piece of code that you execute repeatedly.\n",
    "# We use \"while\" loop when a condtion that transates o either True or False; And \n",
    "# A block of code that you want to execute repeatdly\n",
    "# For example: "
   ]
  },
  {
   "cell_type": "code",
   "execution_count": 2,
   "id": "99542262-0556-477c-a76c-48f4769253fa",
   "metadata": {},
   "outputs": [
    {
     "name": "stdout",
     "output_type": "stream",
     "text": [
      "hello\n",
      "hello\n",
      "hello\n"
     ]
    }
   ],
   "source": [
    "n=2 # take user input\n",
    "while n<5: # condition of while loop\n",
    "    print(\"hello\")\n",
    "    n=n+1 # Increment the value of the variable"
   ]
  },
  {
   "cell_type": "code",
   "execution_count": null,
   "id": "d08bc542-9944-49a2-958e-053427eb5c3c",
   "metadata": {},
   "outputs": [],
   "source": [
    "#Question number 7: Reverse a while loop to display numbers from 10 to 1."
   ]
  },
  {
   "cell_type": "code",
   "execution_count": 1,
   "id": "08f71b1d-88b5-41d3-9c17-2a2e2e710871",
   "metadata": {},
   "outputs": [
    {
     "name": "stdout",
     "output_type": "stream",
     "text": [
      "10\n",
      "9\n",
      "8\n",
      "7\n",
      "6\n",
      "5\n",
      "4\n",
      "3\n",
      "2\n",
      "1\n"
     ]
    }
   ],
   "source": [
    "i=10\n",
    "while(i>0):\n",
    "    print(i)\n",
    "    i=i-1"
   ]
  },
  {
   "cell_type": "code",
   "execution_count": null,
   "id": "84e3454c-edc6-46f9-8233-fe788fcaf798",
   "metadata": {},
   "outputs": [],
   "source": [
    "# Use a nested while loop to print three different pattern.\n",
    "i=1\n",
    "while i<=3:\n",
    "    print(\"Hello\")\n",
    "    j=1\n",
    "    while j<=2:\n",
    "        print(\"Hii\")\n",
    "        k=1\n",
    "        while k<=2:\n",
    "            print(\"Byee\")\n",
    "            k=k+1\n",
    "        j=j+1\n",
    "    i=\n",
    "    "
   ]
  }
 ],
 "metadata": {
  "kernelspec": {
   "display_name": "Python 3 (ipykernel)",
   "language": "python",
   "name": "python3"
  },
  "language_info": {
   "codemirror_mode": {
    "name": "ipython",
    "version": 3
   },
   "file_extension": ".py",
   "mimetype": "text/x-python",
   "name": "python",
   "nbconvert_exporter": "python",
   "pygments_lexer": "ipython3",
   "version": "3.10.8"
  }
 },
 "nbformat": 4,
 "nbformat_minor": 5
}
