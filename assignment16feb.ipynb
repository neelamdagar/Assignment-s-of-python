{
 "cells": [
  {
   "cell_type": "code",
   "execution_count": 2,
   "id": "82031e8e-e320-403f-99e4-ce93a65354fb",
   "metadata": {},
   "outputs": [],
   "source": [
    "# Q1. What is a database? Differentiate between SQL and NoSQL databases.\n",
    "#  Answer: A database is information that is set up for easy access, management and updating.\n",
    "# Computer databases typically store aggregations of data records or files that contain information, \n",
    "# such as sales transactions, customer data, financials and product information.\n",
    "# difference :-\n",
    "# 1) SQL databases are primarily called as Relational Databases (RDBMS);\n",
    "# whereas NoSQL database are primarily called as non-relational or distributed database. \n",
    "# 2) SQL databases defines and manipulates data based structured query language (SQL). Seeing from a side this language is extremely\n",
    "# powerful\n",
    "# A NoSQL database has dynamic schema for unstructured data. Data is stored in many ways which means it can be document-oriented,\n",
    "# column-oriented, graph-based or organized as a KeyValue store."
   ]
  },
  {
   "cell_type": "code",
   "execution_count": 4,
   "id": "6614f871-8145-45f4-ac0e-b3b5a64e7c01",
   "metadata": {},
   "outputs": [],
   "source": [
    "# Q2. What is DDL? Explain why CREATE, DROP, ALTER, and TRUNCATE are used with an example.\n",
    "# Answer : DDL or Data Definition Language is a list of SQL queries that helps in defining database and schema structure and \n",
    "# consists of queries like CREATE,ALTER, DROP, TRUNCATE and RENAME\n",
    "# 1) CREATE :\n",
    "# This command is used to create a new table in SQL. The user has to give information like table name, column names, and their datatypes.\n",
    "# For example :\n",
    "# We need to create a table for storing Student information of a particular College. Create syntax would be as below.\n",
    "# CREATE TABLE Student_info\n",
    "# (\n",
    "# College_Id number(2),\n",
    "# College_name varchar(30),\n",
    "# Branch varchar(10)\n",
    "# );\n",
    "# 2) Alter:This command is used to add, delete or change columns in the existing table.\n",
    "# In our Student_info table, we want to add a new column for CGPA. The syntax would be as below as follows.\n",
    "# ALTER TABLE Student_info\n",
    "# ADD CGPA number;\n",
    "# 3) TRUNCATE :This command is used to remove all rows from the table, but the structure of the table still exists.\n",
    "# Example –\n",
    "# The College Authority wants to remove the details of all students for new batches but wants to keep the table structure. \n",
    "# The command they can use is as follows.\n",
    "# TRUNCATE TABLE Student_info\n",
    "# 4) DROP :This command is used to remove an existing table along with its structure from the Database\n",
    "# Example –\n",
    "# If the College Authority wants to change their Database by deleting the Student_info Table. \n",
    "\n",
    "# DROP TABLE Student_info;\n",
    "\n"
   ]
  },
  {
   "cell_type": "code",
   "execution_count": 5,
   "id": "ef424382-0ad3-4e7e-92fc-c920a2cb86d7",
   "metadata": {},
   "outputs": [],
   "source": [
    "# Question 3:  What is DML? Explain INSERT, UPDATE, and DELETE with an example.\n",
    "# A data manipulation language (DML) is a family of computer languages including commands permitting users to manipulate data in a database. \n",
    "# This manipulation involves inserting data into database tables, retrieving existing data, \n",
    "# deleting data from existing tables and modifying existing data. DML is mostly incorporated in SQL databases.\n",
    "# INSERT:-\n",
    "# Insert command is used to insert data into a table.\n",
    "# For example, if we want to insert multiple rows to the Employee table, we can use the following command −\n",
    "# Example\n",
    "# Insert into Employee(Emp_id, Emp_name) values (001, “ bhanu”);\n",
    "# Insert into Employee(Emp_id, Emp_name) values (002, “ hari”);\n",
    "# Insert into Employee(Emp_id, Emp_name) values (003, “ bob”);\n",
    "# UPDATE :-\n",
    "# Update command is used to update existing data within a table.\n",
    "# For example, if we want to update the name of the employee having the employee id 001, we can use the command given below −\n",
    "# Example\n",
    "# UPDATE Employee SET Emp_name= Ram WHERE Emp_id= 001;\n",
    "# DELETE:-\n",
    "# Delete command is used to delete records from a database table.\n",
    "# For example, if we want to delete an entire row of employee id 002, we can use the following command −\n",
    "# Example\n",
    "# DELETE from Employee WHERE Emp_id=002;"
   ]
  },
  {
   "cell_type": "code",
   "execution_count": 6,
   "id": "c1551568-abbd-444d-83b4-d0b8957dcf2d",
   "metadata": {},
   "outputs": [],
   "source": [
    "#  QUestion 4: What is DQL? Explain SELECT with an example.\n",
    "# DQL is a portion of a SQL statement that allows you to get and organise data from a database.\n",
    "# You can use the SELECT command to extract data from a database in order to perform actions on it\n",
    "# An SQL SELECT statement retrieves records from a database table according to clauses (for example, FROM and WHERE ) that specify criteria. \n",
    "# The syntax is: SELECT column1, column2 FROM table1, table2 WHERE column2='value';\n"
   ]
  },
  {
   "cell_type": "code",
   "execution_count": 7,
   "id": "01a5278f-f72b-4fa3-bc9a-48e216a47e4f",
   "metadata": {},
   "outputs": [],
   "source": [
    "# Question 5: A relational database is designed to enforce the uniqueness of primary keys by allowing only one row with a given primary key\n",
    "# value in a table. Foreign keys. A foreign key is a column or a set of columns in a table whose values correspond to the values of the primary\n",
    "# key in another table.\n"
   ]
  },
  {
   "cell_type": "code",
   "execution_count": 8,
   "id": "7c4ec37c-b72f-4c72-be28-ab3dbc016b0b",
   "metadata": {},
   "outputs": [],
   "source": [
    "# Question 6: Write a python code to connect MySQL to python. Explain the cursor() and execute() method.\n",
    "# import mysql.connector\n",
    "# mydb=mysql.connector.connect(\n",
    "#     host=\"localhost\",\n",
    "#     user=\"abc\",\n",
    "#     password=\"password\")\n",
    "# mycursor=mydb.cursor() \n",
    "# mycursor.execute(\"CREATE DATABASE database_name\")    \n",
    "# mydb.close()\n",
    "\n",
    "# simillary for create table we use :---\n",
    "\n",
    "# import mysql.connector\n",
    "# mydb=mysql.connector.connect(\n",
    "#     host=\"localhost\",\n",
    "#     user=\"abc\",\n",
    "#     password=\"password\")\n",
    "# mycursor=mydb.cursor()\n",
    "# mycursor.execute(\"CREATE TABLE table_name\")\n",
    "# mydb.close()\n",
    "\n",
    "# A cursor is an object which helps to execute the query and fetch the records from the database.\n",
    "#This routine executes an SQL statement."
   ]
  },
  {
   "cell_type": "code",
   "execution_count": null,
   "id": "6011a6a4-5ad7-4d4a-aaf8-08ae290ce936",
   "metadata": {},
   "outputs": [],
   "source": [
    "# Question 7: Give the order of execution of SQL clauses in an SQL query.\n",
    "# FROM\n",
    "# ON\n",
    "# OUTER\n",
    "# WHERE\n",
    "# GROUP BY\n",
    "# HAVING\n",
    "# SELECT\n",
    "# DISTICT\n",
    "# ORDER BY\n",
    "# TOP"
   ]
  }
 ],
 "metadata": {
  "kernelspec": {
   "display_name": "Python 3 (ipykernel)",
   "language": "python",
   "name": "python3"
  },
  "language_info": {
   "codemirror_mode": {
    "name": "ipython",
    "version": 3
   },
   "file_extension": ".py",
   "mimetype": "text/x-python",
   "name": "python",
   "nbconvert_exporter": "python",
   "pygments_lexer": "ipython3",
   "version": "3.10.8"
  }
 },
 "nbformat": 4,
 "nbformat_minor": 5
}
