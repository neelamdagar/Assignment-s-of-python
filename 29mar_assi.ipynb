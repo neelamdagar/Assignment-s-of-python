{
 "cells": [
  {
   "cell_type": "code",
   "execution_count": 1,
   "id": "82931572-7c6e-464e-af6a-ac5cc036ff57",
   "metadata": {},
   "outputs": [],
   "source": [
    "# Q1. What is Lasso Regression, and how does it differ from other regression techniques?"
   ]
  },
  {
   "cell_type": "code",
   "execution_count": 2,
   "id": "3ce4a6e6-d707-4bfe-a7db-21481b1290fd",
   "metadata": {},
   "outputs": [],
   "source": [
    "# Lasso regression is also known as L1 regularization which is used for feature selection.\n",
    "# It select most important feature in dataset and predict ouptut feature."
   ]
  },
  {
   "cell_type": "code",
   "execution_count": 3,
   "id": "18ad9ed7-442d-4d09-81a2-a8c65cf1612b",
   "metadata": {},
   "outputs": [],
   "source": [
    "# Q2. What is the main advantage of using Lasso Regression in feature selection?"
   ]
  },
  {
   "cell_type": "code",
   "execution_count": 4,
   "id": "61763948-a67d-4594-9a4d-5f240d7a6831",
   "metadata": {},
   "outputs": [],
   "source": [
    "# 1) Reducing overfitting\n",
    "# 2) Help in feature selection\n",
    "# 3) easily model predict "
   ]
  },
  {
   "cell_type": "code",
   "execution_count": 5,
   "id": "2c661ee3-0009-4e1c-8670-a6c941a1acfa",
   "metadata": {},
   "outputs": [],
   "source": [
    "# Q3. How do you interpret the coefficients of a Lasso Regression model?"
   ]
  },
  {
   "cell_type": "code",
   "execution_count": 6,
   "id": "dda924f2-ffba-4ab8-bdc9-86f8216ee8c7",
   "metadata": {},
   "outputs": [],
   "source": [
    "# ∑(yi-ŷi)^2+lambda∑|slope| where lambda is hyper parameter and to find the slope we change in magnitude of x/ change in magnitude of y "
   ]
  },
  {
   "cell_type": "code",
   "execution_count": 7,
   "id": "2dcd16db-f0a8-476c-ae96-2da39d833d5c",
   "metadata": {},
   "outputs": [],
   "source": [
    "# Q4. What are the tuning parameters that can be adjusted in Lasso Regression, and how do they affect the\n",
    "# model's performance?"
   ]
  },
  {
   "cell_type": "code",
   "execution_count": 8,
   "id": "f1e73d48-e62d-4a00-97b6-2e8c089031d8",
   "metadata": {},
   "outputs": [],
   "source": [
    "# In the above question we can see lambda is the tunning parmeter that can be adjusted in Lasso regression ,when lambda increase \n",
    "# slope or coefficient is decrease and at one postion it cgs to zero so that we can remove that feature.\n"
   ]
  },
  {
   "cell_type": "code",
   "execution_count": 9,
   "id": "cadf8c60-d344-4f9f-bdb9-1c6a7fc5c2a7",
   "metadata": {},
   "outputs": [],
   "source": [
    "# Q5. Can Lasso Regression be used for non-linear regression problems? If yes, how?"
   ]
  },
  {
   "cell_type": "code",
   "execution_count": 10,
   "id": "c5283c9e-7231-4f8d-91ba-a479ba25e398",
   "metadata": {},
   "outputs": [],
   "source": [
    "# Mostly Lasso regression is used for linear relationship where we have independent and dependent feature,\n",
    "# but we can use Lasso regression for non-linear regression problem.\n",
    "# 1) Feature Engineering : Convert the data in suitable form using Feature Engineering\n",
    "# 2) transfer the data : Test and train data\n",
    "# 3) Lasso regression : apply Lasso regression \n"
   ]
  },
  {
   "cell_type": "code",
   "execution_count": 11,
   "id": "34c40036-8604-4896-8353-1866e6a77d74",
   "metadata": {},
   "outputs": [],
   "source": [
    "# Q6. What is the difference between Ridge Regression and Lasso Regression?"
   ]
  },
  {
   "cell_type": "code",
   "execution_count": 12,
   "id": "283886fb-7cc6-4154-aa7c-ca25237be9fe",
   "metadata": {},
   "outputs": [],
   "source": [
    "# Ridge regression is used for reducing overfitting by modifying the cost function whereas Lasso regression is used for feature \n",
    "# selection ( important feature that predict the depandent feature)."
   ]
  },
  {
   "cell_type": "code",
   "execution_count": 13,
   "id": "b1d767bc-8ead-4398-a368-e3c272ef3296",
   "metadata": {},
   "outputs": [],
   "source": [
    "# Q7. Can Lasso Regression handle multicollinearity in the input features? If yes, how?"
   ]
  },
  {
   "cell_type": "code",
   "execution_count": 14,
   "id": "c0af6a4e-4170-4cac-a4b0-67a62f3629c7",
   "metadata": {},
   "outputs": [],
   "source": [
    "# Yes Lasso Regression handle multicollinearity,\n",
    "# Multicollinearity is used when we have high correlation degree by which  we can not seperate the individual effect of independent \n",
    "# variable on the dependent variable so for that we select few feature for predicting the output feature,\n",
    "# Similarly we Lasso help to select the important feature \n",
    "# 1) feature selection \n",
    "# 2) shrinking coefficient \n",
    "# 3) Hyper parameter \n"
   ]
  },
  {
   "cell_type": "code",
   "execution_count": 15,
   "id": "71280cc6-3d57-4840-9d03-9618c9d03a25",
   "metadata": {},
   "outputs": [],
   "source": [
    "# Q8. How do you choose the optimal value of the regularization parameter (lambda) in Lasso Regression?"
   ]
  },
  {
   "cell_type": "code",
   "execution_count": 17,
   "id": "af60b1fa-3a37-4a89-8873-89f3162cbf9a",
   "metadata": {},
   "outputs": [],
   "source": [
    "# In Lasso regression when we increase the value of lambda, slope will decrease and shrinking coefficient more so that we can \n",
    "# select the important feature and remove some feature in dataset for predicting the output variable."
   ]
  },
  {
   "cell_type": "code",
   "execution_count": null,
   "id": "4d518bf1-48f0-49c1-9313-0642997a4d61",
   "metadata": {},
   "outputs": [],
   "source": []
  }
 ],
 "metadata": {
  "kernelspec": {
   "display_name": "Python 3 (ipykernel)",
   "language": "python",
   "name": "python3"
  },
  "language_info": {
   "codemirror_mode": {
    "name": "ipython",
    "version": 3
   },
   "file_extension": ".py",
   "mimetype": "text/x-python",
   "name": "python",
   "nbconvert_exporter": "python",
   "pygments_lexer": "ipython3",
   "version": "3.10.8"
  }
 },
 "nbformat": 4,
 "nbformat_minor": 5
}
