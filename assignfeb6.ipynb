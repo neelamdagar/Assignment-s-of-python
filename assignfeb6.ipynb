{
 "cells": [
  {
   "cell_type": "code",
   "execution_count": 1,
   "id": "3e528d6b-6300-4bbf-beec-ba4921803d1d",
   "metadata": {},
   "outputs": [],
   "source": [
    "# Question 1:Create a function which will take a list as an argument and return the product of all the numbers\n",
    "# after creating a flat list.\n",
    "# Use the below-given list as an argument for your function.\n",
    "# list1 = [1,2,3,4, [44,55,66, True], False, (34,56,78,89,34), {1,2,3,3,2,1}, {1:34, \"key2\": [55, 67, 78, 89], 4: (45,\n",
    "# 22, 61, 34)}, [56, 'data science'], 'Machine Learning']"
   ]
  },
  {
   "cell_type": "code",
   "execution_count": 5,
   "id": "9565ebcd-c7ff-4087-a0ca-b4dd924f2e22",
   "metadata": {},
   "outputs": [
    {
     "name": "stdout",
     "output_type": "stream",
     "text": [
      "[1, 4, 9, 16, 1936, 3025, 4356, 1156, 3136, 6084, 7921, 1156, 1, 4, 9, 1156, 1, 3025, 4489, 6084, 7921, 2025, 484, 3721, 1156, 16, 3136]\n",
      "[1, 2, 3, 4, 44, 55, 66, True, False, 34, 56, 78, 89, 34, 1, 2, 3, 34, 1, 55, 67, 78, 89, 'key2', 45, 22, 61, 34, 4, 56, 'data science', 'Machine Learning']\n"
     ]
    }
   ],
   "source": [
    "list1 = [1,2,3,4, [44,55,66, True], False, (34,56,78,89,34), {1,2,3,3,2,1}, {1:34, \"key2\": [55, 67, 78, 89], 4: (45,22, 61, 34)},\n",
    "         [56, 'data science'], 'Machine Learning']\n",
    "list2 = [1,2,3,4, [44,55,66, True], False, (34,56,78,89,34), {1,2,3,3,2,1}, {1:34, \"key2\": [55, 67, 78, 89], 4: (45,22, 61, 34)},\n",
    "         [56, 'data science'], 'Machine Learning']\n",
    "def test1(list2):\n",
    "    flat=[]\n",
    "    for i in list2:\n",
    "        if type(i)==list or type(i)==tuple or type(i)==set:\n",
    "            for j in i:\n",
    "                flat.append(j)\n",
    "        elif type(i)==dict:\n",
    "            for j,k in i.items():\n",
    "                if type(k)==list or type(k)==tuple:\n",
    "                    for i in k:\n",
    "                        flat.append(i)\n",
    "                else:\n",
    "                    flat.append(k)\n",
    "                flat.append(j)\n",
    "                    \n",
    "        else:\n",
    "            if type(i)==int or type(i)==bool or type(i)==str:\n",
    "                flat.append(i)\n",
    "    l3=[]\n",
    "    for i in flat:\n",
    "        if type(i)==int or type(i)==float:\n",
    "            l3.append(i**2)\n",
    "    print(l3)\n",
    "    return flat\n",
    "p=test1(list2)\n",
    "print(p)\n"
   ]
  },
  {
   "cell_type": "code",
   "execution_count": 6,
   "id": "fcb0c713-9a45-4b60-bed9-096acd6f1a4b",
   "metadata": {},
   "outputs": [],
   "source": [
    "# Question 2: Write a python program for encrypting a message sent to you by your friend. The logic of encryption\n",
    "# should be such that, for a the output should be z. For b, the output should be y. For c, the output should\n",
    "# be x respectively. Also, the whitespace should be replaced with a dollar sign. Keep the punctuation\n",
    "# marks unchanged.\n",
    "# Input Sentence: I want to become a Data Scientist.\n",
    "# Encrypt the above input sentence using the program you just created.\n",
    "# Note: Convert the given input sentence into lowercase before encrypting. The final output should be lowercase"
   ]
  },
  {
   "cell_type": "code",
   "execution_count": 4,
   "id": "638f826f-1aa9-489e-ae46-4136962ec72e",
   "metadata": {},
   "outputs": [
    {
     "name": "stdin",
     "output_type": "stream",
     "text": [
      "enter your string i want to become a data scientist\n"
     ]
    },
    {
     "name": "stdout",
     "output_type": "stream",
     "text": [
      "r$dzmg$gI$yvxInv$z$wzgz$hxrvmgrhg\n"
     ]
    }
   ],
   "source": [
    "def encryption(n1):\n",
    "    l1={\" \":\"$\",\"a\":\"z\",\"b\":\"y\",\"c\":\"x\",\"d\":\"w\",\"e\":\"v\",\"f\":\"u\",\"g\":\"t\",\"h\":\"s\",\"i\":\"r\",\"j\":\"q\",\"k\":\"p\",\"I\":\"o\",\"m\":\"n\",\"n\":\"m\",\"o\":\"I\",\"p\":\"k\",\n",
    "        \"q\":\"j\",\"r\":\"i\",\"s\":\"h\",\"t\":\"g\",\"u\":\"f\",\"v\":\"e\",\"w\":\"d\",\"x\":\"c\",\"y\":\"b\",\"z\":\"a\"}\n",
    "    new=[]\n",
    "    for i in n1:\n",
    "        for k,v in l1.items():\n",
    "            if i==k:\n",
    "                new.append(v)\n",
    "    res=\"\".join(new)\n",
    "    print(res)\n",
    "  \n",
    "s1=input(\"enter your string\")\n",
    "encryption(list(s1.lower()))"
   ]
  },
  {
   "cell_type": "code",
   "execution_count": null,
   "id": "86d7d3c3-56ba-4fdb-8a48-183d0390d2ec",
   "metadata": {},
   "outputs": [],
   "source": []
  }
 ],
 "metadata": {
  "kernelspec": {
   "display_name": "Python 3 (ipykernel)",
   "language": "python",
   "name": "python3"
  },
  "language_info": {
   "codemirror_mode": {
    "name": "ipython",
    "version": 3
   },
   "file_extension": ".py",
   "mimetype": "text/x-python",
   "name": "python",
   "nbconvert_exporter": "python",
   "pygments_lexer": "ipython3",
   "version": "3.10.8"
  }
 },
 "nbformat": 4,
 "nbformat_minor": 5
}
